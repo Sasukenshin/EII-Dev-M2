{
 "cells": [
  {
   "cell_type": "markdown",
   "metadata": {},
   "source": [
    "# Getting Data From Internet\n",
    "\n",
    "## Part 3. Vitamin information\n"
   ]
  },
  {
   "cell_type": "markdown",
   "metadata": {},
   "source": [
    "Here is the link of a page with the links to the vitamins\n",
    "\n",
    "https://ods.od.nih.gov/factsheets/list-VitaminsMinerals/#"
   ]
  },
  {
   "cell_type": "markdown",
   "metadata": {},
   "source": [
    "### Exercise 1: \n",
    "- For each vitamin, mine 3 links: Consumer, Professional and Espagnol (if a link does not exits, return 'No Link') make as 3 columns in a dataframe\n",
    "- For each Consumer link of a vitamin, mine the Table of Content and save as a list, make it as a column in the dataframe\n",
    "- For each consumer link of a Vitamin, mine the paragraphs of the first section (usually the section: What is vitamin * and what does it do?), and save as a column in in the dataframe\n",
    "\n",
    "### Exercise 2:\n",
    "For each vitamin, mine the table of \"Recommended Amount\" and save as a dataframe with name of the vitamin"
   ]
  },
  {
   "cell_type": "markdown",
   "metadata": {},
   "source": [
    "<h3>Import necessary modules</h3>"
   ]
  },
  {
   "cell_type": "code",
   "execution_count": 1,
   "metadata": {},
   "outputs": [],
   "source": [
    "import requests\n",
    "from bs4 import BeautifulSoup"
   ]
  }
 ],
 "metadata": {
  "kernelspec": {
   "display_name": "Python 3",
   "language": "python",
   "name": "python3"
  },
  "language_info": {
   "codemirror_mode": {
    "name": "ipython",
    "version": 3
   },
   "file_extension": ".py",
   "mimetype": "text/x-python",
   "name": "python",
   "nbconvert_exporter": "python",
   "pygments_lexer": "ipython3",
   "version": "3.7.3"
  }
 },
 "nbformat": 4,
 "nbformat_minor": 2
}
