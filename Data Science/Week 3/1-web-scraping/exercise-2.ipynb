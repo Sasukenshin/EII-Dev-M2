{
 "cells": [
  {
   "cell_type": "markdown",
   "metadata": {},
   "source": [
    "# Getting Data From Internet\n",
    "\n",
    "## Part 2. Country information\n"
   ]
  },
  {
   "cell_type": "markdown",
   "metadata": {},
   "source": [
    "Here is the link of a page with the links to 10 countries\n",
    "\n",
    "http://example.webscraping.com/places/default/index/0\n"
   ]
  },
  {
   "cell_type": "markdown",
   "metadata": {},
   "source": [
    "### Exercise: \n",
    "- Loop through all pages to get the links of all countries\n",
    "- For each country: get the following information:\n",
    "\n",
    "Area:\n",
    "\n",
    "Population:\n",
    "\n",
    "Iso:\n",
    "\n",
    "Country:\n",
    "\n",
    "Capital:\n",
    "\n",
    "Continent:\n",
    "\n",
    "Tld:\n",
    "\n",
    "Currency Code:\n",
    "\n",
    "Currency Name:\n",
    "\n",
    "Phone:\n",
    "\n",
    "Postal Code Format:\n",
    "\n",
    "Postal Code Regex:\n",
    "\n",
    "Languages:\n",
    "\n",
    "Neighbours:\n",
    "\n",
    "- Make a data Frame of the above information\n",
    "\n",
    "- Download all the national flag images to a single folder, the name of each image file is the name of the country"
   ]
  },
  {
   "cell_type": "markdown",
   "metadata": {},
   "source": [
    "<h3>Import necessary modules</h3>"
   ]
  },
  {
   "cell_type": "code",
   "execution_count": 1,
   "metadata": {},
   "outputs": [],
   "source": [
    "import requests\n",
    "from bs4 import BeautifulSoup"
   ]
  }
 ],
 "metadata": {
  "kernelspec": {
   "display_name": "Python 3",
   "language": "python",
   "name": "python3"
  },
  "language_info": {
   "codemirror_mode": {
    "name": "ipython",
    "version": 3
   },
   "file_extension": ".py",
   "mimetype": "text/x-python",
   "name": "python",
   "nbconvert_exporter": "python",
   "pygments_lexer": "ipython3",
   "version": "3.7.4"
  }
 },
 "nbformat": 4,
 "nbformat_minor": 2
}
