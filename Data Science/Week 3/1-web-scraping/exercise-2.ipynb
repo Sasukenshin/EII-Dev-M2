{
 "cells": [
  {
   "cell_type": "markdown",
   "metadata": {},
   "source": [
    "# Getting Data From Internet\n",
    "\n",
    "## Part 2. Country information\n"
   ]
  },
  {
   "cell_type": "markdown",
   "metadata": {},
   "source": [
    "Here is the link of a page with the links to 10 countries\n",
    "\n",
    "http://example.webscraping.com/places/default/index/0\n"
   ]
  },
  {
   "cell_type": "markdown",
   "metadata": {},
   "source": [
    "### Exercise: \n",
    "- Loop through all pages to get the links of all countries\n",
    "- For each country: get the following information:\n",
    "\n",
    "Area:\n",
    "\n",
    "Population:\n",
    "\n",
    "Iso:\n",
    "\n",
    "Country:\n",
    "\n",
    "Capital:\n",
    "\n",
    "Continent:\n",
    "\n",
    "Tld:\n",
    "\n",
    "Currency Code:\n",
    "\n",
    "Currency Name:\n",
    "\n",
    "Phone:\n",
    "\n",
    "Postal Code Format:\n",
    "\n",
    "Postal Code Regex:\n",
    "\n",
    "Languages:\n",
    "\n",
    "Neighbours:\n",
    "\n",
    "- Make a data Frame of the above information\n",
    "\n",
    "- Download all the national flag images to a single folder, the name of each image file is the name of the country"
   ]
  },
  {
   "cell_type": "markdown",
   "metadata": {},
   "source": [
    "<h3>Import necessary modules</h3>"
   ]
  },
  {
   "cell_type": "code",
   "execution_count": 1,
   "metadata": {},
   "outputs": [],
   "source": [
    "import requests\n",
    "from bs4 import BeautifulSoup\n",
    "import time\n",
    "import pandas as pd"
   ]
  },
  {
   "cell_type": "code",
   "execution_count": 2,
   "metadata": {},
   "outputs": [
    {
     "name": "stdout",
     "output_type": "stream",
     "text": [
      "Success\n"
     ]
    }
   ],
   "source": [
    "url = \"http://example.webscraping.com/places/default/index/0\"\n",
    "response = requests.get(url)\n",
    "if response.status_code == 200:\n",
    "    print(\"Success\")\n",
    "else:\n",
    "    print(\"Failure\")"
   ]
  },
  {
   "cell_type": "code",
   "execution_count": 3,
   "metadata": {},
   "outputs": [
    {
     "name": "stdout",
     "output_type": "stream",
     "text": [
      "[<div><a href=\"/places/default/view/Jamaica-111\"><img src=\"/places/static/images/flags/jm.png\"/> Jamaica</a></div>, <div><a href=\"/places/default/view/Japan-112\"><img src=\"/places/static/images/flags/jp.png\"/> Japan</a></div>, <div><a href=\"/places/default/view/Jersey-113\"><img src=\"/places/static/images/flags/je.png\"/> Jersey</a></div>, <div><a href=\"/places/default/view/Jordan-114\"><img src=\"/places/static/images/flags/jo.png\"/> Jordan</a></div>, <div><a href=\"/places/default/view/Kazakhstan-115\"><img src=\"/places/static/images/flags/kz.png\"/> Kazakhstan</a></div>, <div><a href=\"/places/default/view/Kenya-116\"><img src=\"/places/static/images/flags/ke.png\"/> Kenya</a></div>, <div><a href=\"/places/default/view/Kiribati-117\"><img src=\"/places/static/images/flags/ki.png\"/> Kiribati</a></div>, <div><a href=\"/places/default/view/Kosovo-118\"><img src=\"/places/static/images/flags/xk.png\"/> Kosovo</a></div>, <div><a href=\"/places/default/view/Kuwait-119\"><img src=\"/places/static/images/flags/kw.png\"/> Kuwait</a></div>, <div><a href=\"/places/default/view/Kyrgyzstan-120\"><img src=\"/places/static/images/flags/kg.png\"/> Kyrgyzstan</a></div>]\n"
     ]
    }
   ],
   "source": [
    "url = \"http://example.webscraping.com/places/default/index/11\"\n",
    "response = requests.get(url)\n",
    "\n",
    "if response.status_code == 200:\n",
    "        results_page = BeautifulSoup(response.content,'lxml')\n",
    "        pagination = results_page.find(\"table\")\n",
    "        flag = pagination.find_all(\"div\")\n",
    "        print(flag)\n",
    "        \n",
    "else:\n",
    "        print(\"Failure\")"
   ]
  },
  {
   "cell_type": "code",
   "execution_count": 5,
   "metadata": {},
   "outputs": [
    {
     "name": "stdout",
     "output_type": "stream",
     "text": [
      "Nombre de flags : 10 pour la page : 0\n",
      "Nombre de flags : 10 pour la page : 1\n",
      "Nombre de flags : 10 pour la page : 2\n",
      "Nombre de flags : 10 pour la page : 3\n",
      "Nombre de flags : 10 pour la page : 4\n",
      "Nombre de flags : 10 pour la page : 5\n",
      "Nombre de flags : 10 pour la page : 6\n",
      "Nombre de flags : 10 pour la page : 7\n",
      "Nombre de flags : 10 pour la page : 8\n",
      "Nombre de flags : 10 pour la page : 9\n",
      "Nombre de flags : 10 pour la page : 10\n",
      "Nombre de flags : 10 pour la page : 11\n",
      "Nombre de flags : 10 pour la page : 12\n",
      "Nombre de flags : 10 pour la page : 13\n",
      "Nombre de flags : 10 pour la page : 14\n",
      "Nombre de flags : 10 pour la page : 15\n",
      "Nombre de flags : 10 pour la page : 16\n",
      "Nombre de flags : 10 pour la page : 17\n",
      "Nombre de flags : 10 pour la page : 18\n",
      "Nombre de flags : 10 pour la page : 19\n",
      "Nombre de flags : 10 pour la page : 20\n",
      "Nombre de flags : 10 pour la page : 21\n",
      "Nombre de flags : 10 pour la page : 22\n",
      "Nombre de flags : 10 pour la page : 23\n",
      "Nombre de flags : 10 pour la page : 24\n",
      "Nombre de flags : 2 pour la page : 25\n",
      "Nombre de flags : 0 pour la page : 26\n",
      "Pas de valeur 26\n",
      "['/places/default/view/Afghanistan-1', '/places/default/view/Aland-Islands-2', '/places/default/view/Albania-3', '/places/default/view/Algeria-4', '/places/default/view/American-Samoa-5', '/places/default/view/Andorra-6', '/places/default/view/Angola-7', '/places/default/view/Anguilla-8', '/places/default/view/Antarctica-9', '/places/default/view/Antigua-and-Barbuda-10', '/places/default/view/Argentina-11', '/places/default/view/Armenia-12', '/places/default/view/Aruba-13', '/places/default/view/Australia-14', '/places/default/view/Austria-15', '/places/default/view/Azerbaijan-16', '/places/default/view/Bahamas-17', '/places/default/view/Bahrain-18', '/places/default/view/Bangladesh-19', '/places/default/view/Barbados-20', '/places/default/view/Belarus-21', '/places/default/view/Belgium-22', '/places/default/view/Belize-23', '/places/default/view/Benin-24', '/places/default/view/Bermuda-25', '/places/default/view/Bhutan-26', '/places/default/view/Bolivia-27', '/places/default/view/Bonaire-Saint-Eustatius-and-Saba-28', '/places/default/view/Bosnia-and-Herzegovina-29', '/places/default/view/Botswana-30', '/places/default/view/Bouvet-Island-31', '/places/default/view/Brazil-32', '/places/default/view/British-Indian-Ocean-Territory-33', '/places/default/view/British-Virgin-Islands-34', '/places/default/view/Brunei-35', '/places/default/view/Bulgaria-36', '/places/default/view/Burkina-Faso-37', '/places/default/view/Burundi-38', '/places/default/view/Cambodia-39', '/places/default/view/Cameroon-40', '/places/default/view/Canada-41', '/places/default/view/Cape-Verde-42', '/places/default/view/Cayman-Islands-43', '/places/default/view/Central-African-Republic-44', '/places/default/view/Chad-45', '/places/default/view/Chile-46', '/places/default/view/China-47', '/places/default/view/Christmas-Island-48', '/places/default/view/Cocos-Islands-49', '/places/default/view/Colombia-50', '/places/default/view/Comoros-51', '/places/default/view/Cook-Islands-52', '/places/default/view/Costa-Rica-53', '/places/default/view/Croatia-54', '/places/default/view/Cuba-55', '/places/default/view/Curacao-56', '/places/default/view/Cyprus-57', '/places/default/view/Czech-Republic-58', '/places/default/view/Democratic-Republic-of-the-Congo-59', '/places/default/view/Denmark-60', '/places/default/view/Djibouti-61', '/places/default/view/Dominica-62', '/places/default/view/Dominican-Republic-63', '/places/default/view/East-Timor-64', '/places/default/view/Ecuador-65', '/places/default/view/Egypt-66', '/places/default/view/El-Salvador-67', '/places/default/view/Equatorial-Guinea-68', '/places/default/view/Eritrea-69', '/places/default/view/Estonia-70', '/places/default/view/Ethiopia-71', '/places/default/view/Falkland-Islands-72', '/places/default/view/Faroe-Islands-73', '/places/default/view/Fiji-74', '/places/default/view/Finland-75', '/places/default/view/France-76', '/places/default/view/French-Guiana-77', '/places/default/view/French-Polynesia-78', '/places/default/view/French-Southern-Territories-79', '/places/default/view/Gabon-80', '/places/default/view/Gambia-81', '/places/default/view/Georgia-82', '/places/default/view/Germany-83', '/places/default/view/Ghana-84', '/places/default/view/Gibraltar-85', '/places/default/view/Greece-86', '/places/default/view/Greenland-87', '/places/default/view/Grenada-88', '/places/default/view/Guadeloupe-89', '/places/default/view/Guam-90', '/places/default/view/Guatemala-91', '/places/default/view/Guernsey-92', '/places/default/view/Guinea-93', '/places/default/view/Guinea-Bissau-94', '/places/default/view/Guyana-95', '/places/default/view/Haiti-96', '/places/default/view/Heard-Island-and-McDonald-Islands-97', '/places/default/view/Honduras-98', '/places/default/view/Hong-Kong-99', '/places/default/view/Hungary-100', '/places/default/view/Iceland-101', '/places/default/view/India-102', '/places/default/view/Indonesia-103', '/places/default/view/Iran-104', '/places/default/view/Iraq-105', '/places/default/view/Ireland-106', '/places/default/view/Isle-of-Man-107', '/places/default/view/Israel-108', '/places/default/view/Italy-109', '/places/default/view/Ivory-Coast-110', '/places/default/view/Jamaica-111', '/places/default/view/Japan-112', '/places/default/view/Jersey-113', '/places/default/view/Jordan-114', '/places/default/view/Kazakhstan-115', '/places/default/view/Kenya-116', '/places/default/view/Kiribati-117', '/places/default/view/Kosovo-118', '/places/default/view/Kuwait-119', '/places/default/view/Kyrgyzstan-120', '/places/default/view/Laos-121', '/places/default/view/Latvia-122', '/places/default/view/Lebanon-123', '/places/default/view/Lesotho-124', '/places/default/view/Liberia-125', '/places/default/view/Libya-126', '/places/default/view/Liechtenstein-127', '/places/default/view/Lithuania-128', '/places/default/view/Luxembourg-129', '/places/default/view/Macao-130', '/places/default/view/Macedonia-131', '/places/default/view/Madagascar-132', '/places/default/view/Malawi-133', '/places/default/view/Malaysia-134', '/places/default/view/Maldives-135', '/places/default/view/Mali-136', '/places/default/view/Malta-137', '/places/default/view/Marshall-Islands-138', '/places/default/view/Martinique-139', '/places/default/view/Mauritania-140', '/places/default/view/Mauritius-141', '/places/default/view/Mayotte-142', '/places/default/view/Mexico-143', '/places/default/view/Micronesia-144', '/places/default/view/Moldova-145', '/places/default/view/Monaco-146', '/places/default/view/Mongolia-147', '/places/default/view/Montenegro-148', '/places/default/view/Montserrat-149', '/places/default/view/Morocco-150', '/places/default/view/Mozambique-151', '/places/default/view/Myanmar-152', '/places/default/view/Namibia-153', '/places/default/view/Nauru-154', '/places/default/view/Nepal-155', '/places/default/view/Netherlands-156', '/places/default/view/Netherlands-Antilles-157', '/places/default/view/New-Caledonia-158', '/places/default/view/New-Zealand-159', '/places/default/view/Nicaragua-160', '/places/default/view/Niger-161', '/places/default/view/Nigeria-162', '/places/default/view/Niue-163', '/places/default/view/Norfolk-Island-164', '/places/default/view/North-Korea-165', '/places/default/view/Northern-Mariana-Islands-166', '/places/default/view/Norway-167', '/places/default/view/Oman-168', '/places/default/view/Pakistan-169', '/places/default/view/Palau-170', '/places/default/view/Palestinian-Territory-171', '/places/default/view/Panama-172', '/places/default/view/Papua-New-Guinea-173', '/places/default/view/Paraguay-174', '/places/default/view/Peru-175', '/places/default/view/Philippines-176', '/places/default/view/Pitcairn-177', '/places/default/view/Poland-178', '/places/default/view/Portugal-179', '/places/default/view/Puerto-Rico-180', '/places/default/view/Qatar-181', '/places/default/view/Republic-of-the-Congo-182', '/places/default/view/Reunion-183', '/places/default/view/Romania-184', '/places/default/view/Russia-185', '/places/default/view/Rwanda-186', '/places/default/view/Saint-Barthelemy-187', '/places/default/view/Saint-Helena-188', '/places/default/view/Saint-Kitts-and-Nevis-189', '/places/default/view/Saint-Lucia-190', '/places/default/view/Saint-Martin-191', '/places/default/view/Saint-Pierre-and-Miquelon-192', '/places/default/view/Saint-Vincent-and-the-Grenadines-193', '/places/default/view/Samoa-194', '/places/default/view/San-Marino-195', '/places/default/view/Sao-Tome-and-Principe-196', '/places/default/view/Saudi-Arabia-197', '/places/default/view/Senegal-198', '/places/default/view/Serbia-199', '/places/default/view/Serbia-and-Montenegro-200', '/places/default/view/Seychelles-201', '/places/default/view/Sierra-Leone-202', '/places/default/view/Singapore-203', '/places/default/view/Sint-Maarten-204', '/places/default/view/Slovakia-205', '/places/default/view/Slovenia-206', '/places/default/view/Solomon-Islands-207', '/places/default/view/Somalia-208', '/places/default/view/South-Africa-209', '/places/default/view/South-Georgia-and-the-South-Sandwich-Islands-210', '/places/default/view/South-Korea-211', '/places/default/view/South-Sudan-212', '/places/default/view/Spain-213', '/places/default/view/Sri-Lanka-214', '/places/default/view/Sudan-215', '/places/default/view/Suriname-216', '/places/default/view/Svalbard-and-Jan-Mayen-217', '/places/default/view/Swaziland-218', '/places/default/view/Sweden-219', '/places/default/view/Switzerland-220', '/places/default/view/Syria-221', '/places/default/view/Taiwan-222', '/places/default/view/Tajikistan-223', '/places/default/view/Tanzania-224', '/places/default/view/Thailand-225', '/places/default/view/Togo-226', '/places/default/view/Tokelau-227', '/places/default/view/Tonga-228', '/places/default/view/Trinidad-and-Tobago-229', '/places/default/view/Tunisia-230', '/places/default/view/Turkey-231', '/places/default/view/Turkmenistan-232', '/places/default/view/Turks-and-Caicos-Islands-233', '/places/default/view/Tuvalu-234', '/places/default/view/US-Virgin-Islands-235', '/places/default/view/Uganda-236', '/places/default/view/Ukraine-237', '/places/default/view/United-Arab-Emirates-238', '/places/default/view/United-Kingdom-239', '/places/default/view/United-States-240', '/places/default/view/United-States-Minor-Outlying-Islands-241', '/places/default/view/Uruguay-242', '/places/default/view/Uzbekistan-243', '/places/default/view/Vanuatu-244', '/places/default/view/Vatican-245', '/places/default/view/Venezuela-246', '/places/default/view/Vietnam-247', '/places/default/view/Wallis-and-Futuna-248', '/places/default/view/Western-Sahara-249', '/places/default/view/Yemen-250', '/places/default/view/Zambia-251', '/places/default/view/Zimbabwe-252']\n"
     ]
    }
   ],
   "source": [
    "bPage = True\n",
    "nbPage = 0\n",
    "liHref = []\n",
    "\n",
    "while bPage == True:\n",
    "    url = \"http://example.webscraping.com/places/default/index/\"+str(nbPage)\n",
    "    time.sleep(5)\n",
    "    response = requests.get(url)\n",
    "    if response.status_code == 200:\n",
    "        results_page = BeautifulSoup(response.content,'lxml')\n",
    "        pagination = results_page.find(\"table\")\n",
    "        flags = pagination.find_all(\"div\")\n",
    "        print(\"Nombre de flags : \" + str(len(flags)) + \" pour la page : \" + str(nbPage))\n",
    "        if len(flags) != 0:\n",
    "            for flag in flags[:10]:\n",
    "                link = flag.find(\"a\").get(\"href\")\n",
    "                liHref.append(link)\n",
    "            nbPage += 1\n",
    "            bPage = True\n",
    "        else:\n",
    "            print(\"Pas de valeur \" + str(nbPage))\n",
    "            bPage = False\n",
    "    else:\n",
    "        print(\"Pas de valeur \" + str(nbPage))\n",
    "        bPage = False\n",
    "        print(url)\n",
    "print(liHref)"
   ]
  },
  {
   "cell_type": "code",
   "execution_count": 9,
   "metadata": {},
   "outputs": [
    {
     "name": "stdout",
     "output_type": "stream",
     "text": [
      "                            0           1   2               3          4   5   \\\n",
      "0    647,500 square kilometres  29,121,286  AF     Afghanistan      Kabul  AS   \n",
      "1      1,580 square kilometres      26,711  AX   Aland Islands  Mariehamn  EU   \n",
      "2     28,748 square kilometres   2,986,952  AL         Albania     Tirana  EU   \n",
      "3  2,381,740 square kilometres  34,586,184  DZ         Algeria    Algiers  AF   \n",
      "4        199 square kilometres      57,881  AS  American Samoa  Pago Pago  OC   \n",
      "\n",
      "    6    7        8        9      10                11                 12  \\\n",
      "0  .af  AFN  Afghani       93                           fa-AF,ps,uz-AF,tk   \n",
      "1  .ax  EUR     Euro  +358-18  #####  ^(?:FI)*(\\d{5})$              sv-AX   \n",
      "2  .al  ALL      Lek      355                                       sq,el   \n",
      "3  .dz  DZD    Dinar      213  #####         ^(\\d{5})$              ar-DZ   \n",
      "4  .as  USD   Dollar   +1-684                                 en-AS,sm,to   \n",
      "\n",
      "                      13  \n",
      "0     TM CN IR TJ PK UZ   \n",
      "1                         \n",
      "2     MK GR CS ME RS XK   \n",
      "3  NE EH LY MR TN MA ML   \n",
      "4                         \n"
     ]
    }
   ],
   "source": [
    "baseUrl = \"http://example.webscraping.com\"\n",
    "li = []\n",
    "i = 0\n",
    "\n",
    "for country in liHref:\n",
    "    \n",
    "    url = baseUrl + country\n",
    "    time.sleep(5)\n",
    "    response = requests.get(url)\n",
    "    \n",
    "    if response.status_code == 200:\n",
    "        results_page = BeautifulSoup(response.content,'lxml')\n",
    "        area = results_page.find('tr', {'id': 'places_area__row'}).find('td', {'class': 'w2p_fw'}).get_text()\n",
    "        population = results_page.find('tr', {'id': 'places_population__row'}).find('td', {'class': 'w2p_fw'}).get_text()\n",
    "        iso = results_page.find('tr', {'id': 'places_iso__row'}).find('td', {'class': 'w2p_fw'}).get_text()\n",
    "        country = results_page.find('tr', {'id': 'places_country__row'}).find('td', {'class': 'w2p_fw'}).get_text()\n",
    "        capital = results_page.find('tr', {'id': 'places_capital__row'}).find('td', {'class': 'w2p_fw'}).get_text()\n",
    "        continent = results_page.find('tr', {'id': 'places_continent__row'}).find('td', {'class': 'w2p_fw'}).get_text()\n",
    "        tld = results_page.find('tr', {'id': 'places_tld__row'}).find('td', {'class': 'w2p_fw'}).get_text()\n",
    "        currency_code = results_page.find('tr', {'id': 'places_currency_code__row'}).find('td', {'class': 'w2p_fw'}).get_text()\n",
    "        currency_name = results_page.find('tr', {'id': 'places_currency_name__row'}).find('td', {'class': 'w2p_fw'}).get_text()\n",
    "        phone = results_page.find('tr', {'id': 'places_phone__row'}).find('td', {'class': 'w2p_fw'}).get_text()\n",
    "        postal_code_format = results_page.find('tr', {'id': 'places_postal_code_format__row'}).find('td', {'class': 'w2p_fw'}).get_text()\n",
    "        postal_code_regex = results_page.find('tr', {'id': 'places_postal_code_regex__row'}).find('td', {'class': 'w2p_fw'}).get_text()\n",
    "        languages = results_page.find('tr', {'id': 'places_languages__row'}).find('td', {'class': 'w2p_fw'}).get_text()\n",
    "        neighbours = results_page.find('tr', {'id': 'places_neighbours__row'}).find('td', {'class': 'w2p_fw'}).get_text()\n",
    "        \n",
    "        y = [area,population,iso,country,capital,continent,tld,currency_code,currency_name,phone,postal_code_format,postal_code_regex,languages,neighbours]\n",
    "        li.append(y)\n",
    "        i+=1\n",
    "        \n",
    "        ### Sortir de la boucle car sinon c'est trop long, plus de 250 occurences....\n",
    "        if i >= 5:\n",
    "            break;\n",
    "    else:\n",
    "        print(\"Pas de valeur \" + str(nbPage))   \n",
    "        \n",
    "df = pd.DataFrame(li)\n",
    "print(df)"
   ]
  },
  {
   "cell_type": "code",
   "execution_count": 10,
   "metadata": {},
   "outputs": [],
   "source": [
    "import os\n",
    "\n",
    "os.mkdir(\"flags\")\n"
   ]
  },
  {
   "cell_type": "code",
   "execution_count": 23,
   "metadata": {},
   "outputs": [
    {
     "ename": "KeyboardInterrupt",
     "evalue": "",
     "output_type": "error",
     "traceback": [
      "\u001b[0;31m---------------------------------------------------------------------------\u001b[0m",
      "\u001b[0;31mKeyboardInterrupt\u001b[0m                         Traceback (most recent call last)",
      "\u001b[0;32m<ipython-input-23-0379fb7d62cc>\u001b[0m in \u001b[0;36m<module>\u001b[0;34m\u001b[0m\n\u001b[1;32m      6\u001b[0m \u001b[0;34m\u001b[0m\u001b[0m\n\u001b[1;32m      7\u001b[0m     \u001b[0murl\u001b[0m \u001b[0;34m=\u001b[0m \u001b[0mbaseUrl\u001b[0m \u001b[0;34m+\u001b[0m \u001b[0mcountry\u001b[0m\u001b[0;34m\u001b[0m\u001b[0;34m\u001b[0m\u001b[0m\n\u001b[0;32m----> 8\u001b[0;31m     \u001b[0mtime\u001b[0m\u001b[0;34m.\u001b[0m\u001b[0msleep\u001b[0m\u001b[0;34m(\u001b[0m\u001b[0;36m5\u001b[0m\u001b[0;34m)\u001b[0m\u001b[0;34m\u001b[0m\u001b[0;34m\u001b[0m\u001b[0m\n\u001b[0m\u001b[1;32m      9\u001b[0m     \u001b[0mresponse\u001b[0m \u001b[0;34m=\u001b[0m \u001b[0mrequests\u001b[0m\u001b[0;34m.\u001b[0m\u001b[0mget\u001b[0m\u001b[0;34m(\u001b[0m\u001b[0murl\u001b[0m\u001b[0;34m)\u001b[0m\u001b[0;34m\u001b[0m\u001b[0;34m\u001b[0m\u001b[0m\n\u001b[1;32m     10\u001b[0m \u001b[0;34m\u001b[0m\u001b[0m\n",
      "\u001b[0;31mKeyboardInterrupt\u001b[0m: "
     ]
    }
   ],
   "source": [
    "baseUrl = \"http://example.webscraping.com\"\n",
    "li = []\n",
    "i = 0\n",
    "\n",
    "for country in liHref:\n",
    "    \n",
    "    url = baseUrl + country\n",
    "    time.sleep(5)\n",
    "    response = requests.get(url)\n",
    "    \n",
    "    if response.status_code == 200:\n",
    "        results_page = BeautifulSoup(response.content,'lxml')\n",
    "        name = results_page.find('tr', {'id': 'places_country__row'}).find('td', {'class': 'w2p_fw'}).get_text()\n",
    "        flag = results_page.find('tr', {'id': 'places_national_flag__row'}).find('td', {'class': 'w2p_fw'})\n",
    "        flag = flag.find(\"img\").get(\"src\")\n",
    "        \n",
    "        url_image = baseUrl + flag\n",
    "        filename = name+\".jpg\"\n",
    "        \n",
    "        response_img = requests.get(url_image)\n",
    "        print(\"Téléchargmement du drapeau : \" + name)\n",
    "        with open(\"flags/\"+filename, 'wb') as f:\n",
    "            f.write(response_img.content)\n",
    "\n",
    "        i+=1\n",
    "        \n",
    "        ### Sortir de la boucle car sinon c'est trop long, plus de 250 occurences....\n",
    "        if i >= 5:\n",
    "            break;\n",
    "    else:\n",
    "        print(\"Pas de valeur \" + str(nbPage))   \n",
    "        \n"
   ]
  },
  {
   "cell_type": "code",
   "execution_count": null,
   "metadata": {},
   "outputs": [],
   "source": []
  }
 ],
 "metadata": {
  "kernelspec": {
   "display_name": "Python 3",
   "language": "python",
   "name": "python3"
  }
 },
 "nbformat": 4,
 "nbformat_minor": 2
}
