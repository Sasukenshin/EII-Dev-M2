{
 "cells": [
  {
   "cell_type": "markdown",
   "metadata": {},
   "source": [
    "# Getting Data From Internet\n",
    "\n",
    "## Part 2. Country information\n"
   ]
  },
  {
   "cell_type": "markdown",
   "metadata": {},
   "source": [
    "Here is the link of a page with the links to 10 countries\n",
    "\n",
    "http://example.webscraping.com/places/default/index/0\n"
   ]
  },
  {
   "cell_type": "markdown",
   "metadata": {},
   "source": [
    "### Exercise: \n",
    "- Loop through all pages to get the links of all countries\n",
    "- For each country: get the following information:\n",
    "\n",
    "Area:\n",
    "\n",
    "Population:\n",
    "\n",
    "Iso:\n",
    "\n",
    "Country:\n",
    "\n",
    "Capital:\n",
    "\n",
    "Continent:\n",
    "\n",
    "Tld:\n",
    "\n",
    "Currency Code:\n",
    "\n",
    "Currency Name:\n",
    "\n",
    "Phone:\n",
    "\n",
    "Postal Code Format:\n",
    "\n",
    "Postal Code Regex:\n",
    "\n",
    "Languages:\n",
    "\n",
    "Neighbours:\n",
    "\n",
    "- Make a data Frame of the above information\n",
    "\n",
    "- Download all the national flag images to a single folder, the name of each image file is the name of the country"
   ]
  },
  {
   "cell_type": "markdown",
   "metadata": {},
   "source": [
    "<h3>Import necessary modules</h3>"
   ]
  },
  {
   "cell_type": "code",
   "execution_count": 1,
   "metadata": {},
   "outputs": [],
   "source": [
    "import requests\n",
    "from bs4 import BeautifulSoup\n",
    "import time\n",
    "import pandas as pd"
   ]
  },
  {
   "cell_type": "code",
   "execution_count": null,
   "metadata": {},
   "outputs": [],
   "source": [
    "url = \"http://example.webscraping.com/places/default/index/0\"\n",
    "response = requests.get(url)\n",
    "if response.status_code == 200:\n",
    "    print(\"Success\")\n",
    "else:\n",
    "    print(\"Failure\")"
   ]
  },
  {
   "cell_type": "code",
   "execution_count": null,
   "metadata": {},
   "outputs": [],
   "source": [
    "url = \"http://example.webscraping.com/places/default/index/11\"\n",
    "response = requests.get(url)\n",
    "\n",
    "if response.status_code == 200:\n",
    "        results_page = BeautifulSoup(response.content,'lxml')\n",
    "        pagination = results_page.find(\"table\")\n",
    "        flag = pagination.find_all(\"div\")\n",
    "        print(flag)\n",
    "        \n",
    "else:\n",
    "        print(\"Failure\")"
   ]
  },
  {
   "cell_type": "code",
   "execution_count": null,
   "metadata": {},
   "outputs": [],
   "source": [
    "bPage = True\n",
    "nbPage = 0\n",
    "liHref = []\n",
    "\n",
    "while bPage == True:\n",
    "    url = \"http://example.webscraping.com/places/default/index/\"+str(nbPage)\n",
    "    time.sleep(5)\n",
    "    response = requests.get(url)\n",
    "    if response.status_code == 200:\n",
    "        results_page = BeautifulSoup(response.content,'lxml')\n",
    "        pagination = results_page.find(\"table\")\n",
    "        flags = pagination.find_all(\"div\")\n",
    "        print(\"Nombre de flags : \" + str(len(flags)) + \" pour la page : \" + str(nbPage))\n",
    "        if len(flags) != 0:\n",
    "            for flag in flags[:10]:\n",
    "                link = flag.find(\"a\").get(\"href\")\n",
    "                liHref.append(link)\n",
    "            nbPage += 1\n",
    "            bPage = True\n",
    "        else:\n",
    "            print(\"Pas de valeur \" + str(nbPage))\n",
    "            bPage = False\n",
    "    else:\n",
    "        print(\"Pas de valeur \" + str(nbPage))\n",
    "        bPage = False\n",
    "              print(url)\n",
    "print(liHref)"
   ]
  },
  {
   "cell_type": "code",
   "execution_count": null,
   "metadata": {},
   "outputs": [],
   "source": [
    "baseUrl = \"http://example.webscraping.com\"\n",
    "li = []\n",
    "i = 0\n",
    "\n",
    "for country in liHref:\n",
    "    \n",
    "    url = baseUrl + country\n",
    "    time.sleep(5)\n",
    "    response = requests.get(url)\n",
    "    \n",
    "    if response.status_code == 200:\n",
    "        results_page = BeautifulSoup(response.content,'lxml')\n",
    "        area = results_page.find('tr', {'id': 'places_area__row'}).find('td', {'class': 'w2p_fw'}).get_text()\n",
    "        population = results_page.find('tr', {'id': 'places_population__row'}).find('td', {'class': 'w2p_fw'}).get_text()\n",
    "        iso = results_page.find('tr', {'id': 'places_iso__row'}).find('td', {'class': 'w2p_fw'}).get_text()\n",
    "        country = results_page.find('tr', {'id': 'places_country__row'}).find('td', {'class': 'w2p_fw'}).get_text()\n",
    "        capital = results_page.find('tr', {'id': 'places_capital__row'}).find('td', {'class': 'w2p_fw'}).get_text()\n",
    "        continent = results_page.find('tr', {'id': 'places_continent__row'}).find('td', {'class': 'w2p_fw'}).get_text()\n",
    "        tld = results_page.find('tr', {'id': 'places_tld__row'}).find('td', {'class': 'w2p_fw'}).get_text()\n",
    "        currency_code = results_page.find('tr', {'id': 'places_currency_code__row'}).find('td', {'class': 'w2p_fw'}).get_text()\n",
    "        currency_name = results_page.find('tr', {'id': 'places_currency_name__row'}).find('td', {'class': 'w2p_fw'}).get_text()\n",
    "        phone = results_page.find('tr', {'id': 'places_phone__row'}).find('td', {'class': 'w2p_fw'}).get_text()\n",
    "        postal_code_format = results_page.find('tr', {'id': 'places_postal_code_format__row'}).find('td', {'class': 'w2p_fw'}).get_text()\n",
    "        postal_code_regex = results_page.find('tr', {'id': 'places_postal_code_regex__row'}).find('td', {'class': 'w2p_fw'}).get_text()\n",
    "        languages = results_page.find('tr', {'id': 'places_languages__row'}).find('td', {'class': 'w2p_fw'}).get_text()\n",
    "        neighbours = results_page.find('tr', {'id': 'places_neighbours__row'}).find('td', {'class': 'w2p_fw'}).get_text()\n",
    "        \n",
    "        y = [area,population,iso,country,capital,continent,tld,currency_code,currency_name,phone,postal_code_format,postal_code_regex,languages,neighbours]\n",
    "        li.append(y)\n",
    "        i+=1\n",
    "        \n",
    "        ### Sortir de la boucle car sinon c'est trop long, plus de 250 occurences....\n",
    "        if i >= 5:\n",
    "            break;\n",
    "    else:\n",
    "        print(\"Pas de valeur \" + str(nbPage))   \n",
    "        \n",
    "df = pd.DataFrame(li)\n",
    "print(df)"
   ]
  }
 ],
 "metadata": {
  "kernelspec": {
   "display_name": "Python 3",
   "language": "python",
   "name": "python3"
  },
  "language_info": {
   "codemirror_mode": {
    "name": "ipython",
    "version": 3
   },
   "file_extension": ".py",
   "mimetype": "text/x-python",
   "name": "python",
   "nbconvert_exporter": "python",
   "pygments_lexer": "ipython3",
   "version": "3.7.3"
  }
 },
 "nbformat": 4,
 "nbformat_minor": 2
}
