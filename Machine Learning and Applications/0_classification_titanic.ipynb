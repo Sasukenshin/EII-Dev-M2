{
 "cells": [
  {
   "cell_type": "markdown",
   "metadata": {
    "_uuid": "f4c5d0b42a79c143d4b1a0423b0c51265fd718fd"
   },
   "source": [
    "# I. Intro to LightGBM\n"
   ]
  },
  {
   "cell_type": "code",
   "execution_count": 1,
   "metadata": {
    "_kg_hide-input": true,
    "_uuid": "2041989e97107b61bb6659706ead46cc448c8e9e"
   },
   "outputs": [],
   "source": [
    "import gc\n",
    "import os\n",
    "import math\n",
    "import logging\n",
    "import datetime\n",
    "import warnings\n",
    "import numpy as np\n",
    "import pandas as pd\n",
    "import seaborn as sns\n",
    "import lightgbm as lgb\n",
    "import matplotlib.pyplot as plt\n",
    "from sklearn.metrics import mean_squared_error, r2_score\n",
    "from sklearn.metrics import roc_auc_score, roc_curve\n",
    "warnings.filterwarnings('ignore')\n",
    "\n",
    "from sklearn.preprocessing import StandardScaler\n",
    "from sklearn.model_selection import train_test_split\n",
    "\n",
    "import lightgbm as lgb\n",
    "import time\n",
    "import datetime\n",
    "from sklearn.preprocessing import LabelEncoder\n",
    "from sklearn.model_selection import StratifiedKFold, KFold, RepeatedKFold\n",
    "from sklearn.metrics import mean_absolute_error\n",
    "import seaborn as sns"
   ]
  },
  {
   "cell_type": "markdown",
   "metadata": {
    "_uuid": "13cdc14c0a53b11fd7438a87bff04335666a5482"
   },
   "source": [
    "## Quick Data Treatment"
   ]
  },
  {
   "cell_type": "code",
   "execution_count": 2,
   "metadata": {},
   "outputs": [],
   "source": [
    "df = pd.read_csv('data/titanic.csv')"
   ]
  },
  {
   "cell_type": "code",
   "execution_count": 4,
   "metadata": {},
   "outputs": [],
   "source": [
    "df = df.drop(columns = [\"Name\"])"
   ]
  },
  {
   "cell_type": "code",
   "execution_count": 9,
   "metadata": {},
   "outputs": [],
   "source": [
    "df = df.drop(columns = [\"Single\"])"
   ]
  },
  {
   "cell_type": "code",
   "execution_count": 5,
   "metadata": {},
   "outputs": [],
   "source": [
    "df.Sex = df.Sex.replace(\"male\", 1)\n",
    "df.Sex = df.Sex.replace(\"female\", 2)"
   ]
  },
  {
   "cell_type": "code",
   "execution_count": 6,
   "metadata": {},
   "outputs": [
    {
     "data": {
      "text/plain": [
       "Index(['Survived', 'Pclass', 'Sex', 'Age', 'Siblings/Spouses Aboard',\n",
       "       'Parents/Children Aboard', 'Fare'],\n",
       "      dtype='object')"
      ]
     },
     "execution_count": 6,
     "metadata": {},
     "output_type": "execute_result"
    }
   ],
   "source": [
    "df.columns"
   ]
  },
  {
   "cell_type": "code",
   "execution_count": 7,
   "metadata": {},
   "outputs": [],
   "source": [
    "df[\"family_size\"] = df[\"Siblings/Spouses Aboard\"] + df[\"Parents/Children Aboard\"]"
   ]
  },
  {
   "cell_type": "code",
   "execution_count": 10,
   "metadata": {},
   "outputs": [],
   "source": [
    "df[\"single\"] = (df[\"family_size\"] == 0) * 1.0"
   ]
  },
  {
   "cell_type": "code",
   "execution_count": 11,
   "metadata": {},
   "outputs": [],
   "source": [
    "df[\"elder\"] =(df[\"Age\"] > 60) * 1.0"
   ]
  },
  {
   "cell_type": "code",
   "execution_count": 12,
   "metadata": {
    "scrolled": true
   },
   "outputs": [
    {
     "data": {
      "text/html": [
       "<div>\n",
       "<style scoped>\n",
       "    .dataframe tbody tr th:only-of-type {\n",
       "        vertical-align: middle;\n",
       "    }\n",
       "\n",
       "    .dataframe tbody tr th {\n",
       "        vertical-align: top;\n",
       "    }\n",
       "\n",
       "    .dataframe thead th {\n",
       "        text-align: right;\n",
       "    }\n",
       "</style>\n",
       "<table border=\"1\" class=\"dataframe\">\n",
       "  <thead>\n",
       "    <tr style=\"text-align: right;\">\n",
       "      <th></th>\n",
       "      <th>Survived</th>\n",
       "      <th>Pclass</th>\n",
       "      <th>Sex</th>\n",
       "      <th>Age</th>\n",
       "      <th>Siblings/Spouses Aboard</th>\n",
       "      <th>Parents/Children Aboard</th>\n",
       "      <th>Fare</th>\n",
       "      <th>family_size</th>\n",
       "      <th>single</th>\n",
       "      <th>elder</th>\n",
       "    </tr>\n",
       "  </thead>\n",
       "  <tbody>\n",
       "    <tr>\n",
       "      <th>0</th>\n",
       "      <td>0</td>\n",
       "      <td>3</td>\n",
       "      <td>1</td>\n",
       "      <td>22.0</td>\n",
       "      <td>1</td>\n",
       "      <td>0</td>\n",
       "      <td>7.2500</td>\n",
       "      <td>1</td>\n",
       "      <td>0.0</td>\n",
       "      <td>0.0</td>\n",
       "    </tr>\n",
       "    <tr>\n",
       "      <th>1</th>\n",
       "      <td>1</td>\n",
       "      <td>1</td>\n",
       "      <td>2</td>\n",
       "      <td>38.0</td>\n",
       "      <td>1</td>\n",
       "      <td>0</td>\n",
       "      <td>71.2833</td>\n",
       "      <td>1</td>\n",
       "      <td>0.0</td>\n",
       "      <td>0.0</td>\n",
       "    </tr>\n",
       "    <tr>\n",
       "      <th>2</th>\n",
       "      <td>1</td>\n",
       "      <td>3</td>\n",
       "      <td>2</td>\n",
       "      <td>26.0</td>\n",
       "      <td>0</td>\n",
       "      <td>0</td>\n",
       "      <td>7.9250</td>\n",
       "      <td>0</td>\n",
       "      <td>1.0</td>\n",
       "      <td>0.0</td>\n",
       "    </tr>\n",
       "    <tr>\n",
       "      <th>3</th>\n",
       "      <td>1</td>\n",
       "      <td>1</td>\n",
       "      <td>2</td>\n",
       "      <td>35.0</td>\n",
       "      <td>1</td>\n",
       "      <td>0</td>\n",
       "      <td>53.1000</td>\n",
       "      <td>1</td>\n",
       "      <td>0.0</td>\n",
       "      <td>0.0</td>\n",
       "    </tr>\n",
       "    <tr>\n",
       "      <th>4</th>\n",
       "      <td>0</td>\n",
       "      <td>3</td>\n",
       "      <td>1</td>\n",
       "      <td>35.0</td>\n",
       "      <td>0</td>\n",
       "      <td>0</td>\n",
       "      <td>8.0500</td>\n",
       "      <td>0</td>\n",
       "      <td>1.0</td>\n",
       "      <td>0.0</td>\n",
       "    </tr>\n",
       "  </tbody>\n",
       "</table>\n",
       "</div>"
      ],
      "text/plain": [
       "   Survived  Pclass  Sex   Age  Siblings/Spouses Aboard  \\\n",
       "0         0       3    1  22.0                        1   \n",
       "1         1       1    2  38.0                        1   \n",
       "2         1       3    2  26.0                        0   \n",
       "3         1       1    2  35.0                        1   \n",
       "4         0       3    1  35.0                        0   \n",
       "\n",
       "   Parents/Children Aboard     Fare  family_size  single  elder  \n",
       "0                        0   7.2500            1     0.0    0.0  \n",
       "1                        0  71.2833            1     0.0    0.0  \n",
       "2                        0   7.9250            0     1.0    0.0  \n",
       "3                        0  53.1000            1     0.0    0.0  \n",
       "4                        0   8.0500            0     1.0    0.0  "
      ]
     },
     "execution_count": 12,
     "metadata": {},
     "output_type": "execute_result"
    }
   ],
   "source": [
    "df.head()"
   ]
  },
  {
   "cell_type": "code",
   "execution_count": 14,
   "metadata": {},
   "outputs": [],
   "source": [
    "y = df.Survived"
   ]
  },
  {
   "cell_type": "code",
   "execution_count": 15,
   "metadata": {},
   "outputs": [],
   "source": [
    "X = df.copy()\n",
    "X = X.drop(columns=[\"Survived\"])"
   ]
  },
  {
   "cell_type": "markdown",
   "metadata": {},
   "source": [
    "Normalize the data X (optional)"
   ]
  },
  {
   "cell_type": "code",
   "execution_count": 16,
   "metadata": {},
   "outputs": [],
   "source": [
    "scaler = StandardScaler()\n",
    "scaler.fit(X)\n",
    "X_scaled = pd.DataFrame(scaler.transform(X), columns=X.columns)"
   ]
  },
  {
   "cell_type": "code",
   "execution_count": 17,
   "metadata": {},
   "outputs": [],
   "source": [
    "X_scaled_train, X_scaled_test, y_train, y_test = train_test_split(X_scaled, y, test_size=0.2, random_state=20)"
   ]
  },
  {
   "cell_type": "markdown",
   "metadata": {},
   "source": [
    "This function is to show which featuree is important"
   ]
  },
  {
   "cell_type": "code",
   "execution_count": 18,
   "metadata": {},
   "outputs": [],
   "source": [
    "def plot_feature_importance(feature_importance,title):\n",
    "    fe = feature_importance[[\"feature\", \"importance\"]].groupby(\"feature\").mean().sort_values(\n",
    "        by=\"importance\", ascending=False)\n",
    "    fe['feature'] = fe.index\n",
    "    plt.figure(figsize=(16, 12))\n",
    "    sns.barplot(x=\"importance\", y=\"feature\", data=fe)\n",
    "    plt.xticks([])\n",
    "    plt.title(title)\n",
    "    return"
   ]
  },
  {
   "cell_type": "code",
   "execution_count": 19,
   "metadata": {},
   "outputs": [],
   "source": [
    "def train_lgb(X_train, X_valid, y_train, y_valid, params=None):\n",
    "\n",
    "    model = lgb.LGBMClassifier(**params)\n",
    "    model.fit(X_train, y_train, \n",
    "            eval_set=[(X_train, y_train), (X_valid, y_valid)], eval_metric=['auc', 'binary_logloss'],\n",
    "            verbose=1, early_stopping_rounds=50)\n",
    "\n",
    "    y_pred_train = model.predict(X_train)\n",
    "    y_pred_valid = model.predict(X_valid)\n",
    "\n",
    "    importance = pd.DataFrame()\n",
    "    importance[\"feature\"] = X.columns\n",
    "    importance[\"importance\"] = model.feature_importances_\n",
    "    return y_pred_train, y_pred_valid, importance"
   ]
  },
  {
   "cell_type": "code",
   "execution_count": 20,
   "metadata": {},
   "outputs": [],
   "source": [
    "params = {\n",
    "          'n_estimators': 5000,  # Number of trees\n",
    "          'num_leaves': 6,  # max number of leaves in tree\n",
    "          'min_data_in_leaf': 2,\n",
    "          'max_depth': -1,\n",
    "          'learning_rate': 0.02,\n",
    "          \"boosting\": \"gbdt\",\n",
    "          \"bagging_freq\": 10,\n",
    "          'num_threads': 8,\n",
    "          \"bagging_fraction\": 0.7,\n",
    "          \"bagging_seed\": 11,\n",
    "          \"metric\": 'binary_logloss',\n",
    "         }"
   ]
  },
  {
   "cell_type": "code",
   "execution_count": 31,
   "metadata": {},
   "outputs": [
    {
     "name": "stdout",
     "output_type": "stream",
     "text": [
      "[1]\ttraining's auc: 0.859197\ttraining's binary_logloss: 0.654729\tvalid_1's auc: 0.82544\tvalid_1's binary_logloss: 0.67065\n",
      "Training until validation scores don't improve for 50 rounds\n",
      "[2]\ttraining's auc: 0.859197\ttraining's binary_logloss: 0.646092\tvalid_1's auc: 0.82544\tvalid_1's binary_logloss: 0.662802\n",
      "[3]\ttraining's auc: 0.859197\ttraining's binary_logloss: 0.637837\tvalid_1's auc: 0.82544\tvalid_1's binary_logloss: 0.655313\n",
      "[4]\ttraining's auc: 0.861157\ttraining's binary_logloss: 0.629898\tvalid_1's auc: 0.824658\tvalid_1's binary_logloss: 0.648208\n",
      "[5]\ttraining's auc: 0.861157\ttraining's binary_logloss: 0.622334\tvalid_1's auc: 0.824658\tvalid_1's binary_logloss: 0.64137\n",
      "[6]\ttraining's auc: 0.864063\ttraining's binary_logloss: 0.615047\tvalid_1's auc: 0.829093\tvalid_1's binary_logloss: 0.634877\n",
      "[7]\ttraining's auc: 0.861157\ttraining's binary_logloss: 0.608095\tvalid_1's auc: 0.824658\tvalid_1's binary_logloss: 0.628614\n",
      "[8]\ttraining's auc: 0.864388\ttraining's binary_logloss: 0.601346\tvalid_1's auc: 0.828702\tvalid_1's binary_logloss: 0.622385\n",
      "[9]\ttraining's auc: 0.864329\ttraining's binary_logloss: 0.594872\tvalid_1's auc: 0.828702\tvalid_1's binary_logloss: 0.61653\n",
      "[10]\ttraining's auc: 0.864329\ttraining's binary_logloss: 0.588718\tvalid_1's auc: 0.828702\tvalid_1's binary_logloss: 0.611129\n",
      "[11]\ttraining's auc: 0.870531\ttraining's binary_logloss: 0.582431\tvalid_1's auc: 0.83379\tvalid_1's binary_logloss: 0.606128\n",
      "[12]\ttraining's auc: 0.870531\ttraining's binary_logloss: 0.576392\tvalid_1's auc: 0.83379\tvalid_1's binary_logloss: 0.60134\n",
      "[13]\ttraining's auc: 0.870226\ttraining's binary_logloss: 0.570589\tvalid_1's auc: 0.833268\tvalid_1's binary_logloss: 0.596754\n",
      "[14]\ttraining's auc: 0.871283\ttraining's binary_logloss: 0.565011\tvalid_1's auc: 0.834051\tvalid_1's binary_logloss: 0.592361\n",
      "[15]\ttraining's auc: 0.871283\ttraining's binary_logloss: 0.559646\tvalid_1's auc: 0.834051\tvalid_1's binary_logloss: 0.588151\n",
      "[16]\ttraining's auc: 0.871257\ttraining's binary_logloss: 0.554485\tvalid_1's auc: 0.831311\tvalid_1's binary_logloss: 0.584115\n",
      "[17]\ttraining's auc: 0.871578\ttraining's binary_logloss: 0.549518\tvalid_1's auc: 0.831311\tvalid_1's binary_logloss: 0.580244\n",
      "[18]\ttraining's auc: 0.871925\ttraining's binary_logloss: 0.544695\tvalid_1's auc: 0.831572\tvalid_1's binary_logloss: 0.576545\n",
      "[19]\ttraining's auc: 0.87184\ttraining's binary_logloss: 0.540083\tvalid_1's auc: 0.830789\tvalid_1's binary_logloss: 0.572982\n",
      "[20]\ttraining's auc: 0.871882\ttraining's binary_logloss: 0.535599\tvalid_1's auc: 0.830789\tvalid_1's binary_logloss: 0.569578\n",
      "[21]\ttraining's auc: 0.876766\ttraining's binary_logloss: 0.530994\tvalid_1's auc: 0.831768\tvalid_1's binary_logloss: 0.565067\n",
      "[22]\ttraining's auc: 0.87756\ttraining's binary_logloss: 0.526574\tvalid_1's auc: 0.833203\tvalid_1's binary_logloss: 0.560778\n",
      "[23]\ttraining's auc: 0.879351\ttraining's binary_logloss: 0.522331\tvalid_1's auc: 0.834377\tvalid_1's binary_logloss: 0.556699\n",
      "[24]\ttraining's auc: 0.880255\ttraining's binary_logloss: 0.518256\tvalid_1's auc: 0.836073\tvalid_1's binary_logloss: 0.552819\n",
      "[25]\ttraining's auc: 0.880183\ttraining's binary_logloss: 0.514316\tvalid_1's auc: 0.837182\tvalid_1's binary_logloss: 0.549344\n",
      "[26]\ttraining's auc: 0.880876\ttraining's binary_logloss: 0.510515\tvalid_1's auc: 0.837182\tvalid_1's binary_logloss: 0.545999\n",
      "[27]\ttraining's auc: 0.880783\ttraining's binary_logloss: 0.50685\tvalid_1's auc: 0.837312\tvalid_1's binary_logloss: 0.542779\n",
      "[28]\ttraining's auc: 0.880783\ttraining's binary_logloss: 0.503314\tvalid_1's auc: 0.837834\tvalid_1's binary_logloss: 0.53968\n",
      "[29]\ttraining's auc: 0.881459\ttraining's binary_logloss: 0.499963\tvalid_1's auc: 0.837704\tvalid_1's binary_logloss: 0.536956\n",
      "[30]\ttraining's auc: 0.881282\ttraining's binary_logloss: 0.49666\tvalid_1's auc: 0.83666\tvalid_1's binary_logloss: 0.534066\n",
      "[31]\ttraining's auc: 0.881261\ttraining's binary_logloss: 0.493668\tvalid_1's auc: 0.839791\tvalid_1's binary_logloss: 0.531692\n",
      "[32]\ttraining's auc: 0.881125\ttraining's binary_logloss: 0.490779\tvalid_1's auc: 0.839139\tvalid_1's binary_logloss: 0.529407\n",
      "[33]\ttraining's auc: 0.879706\ttraining's binary_logloss: 0.487989\tvalid_1's auc: 0.8394\tvalid_1's binary_logloss: 0.527208\n",
      "[34]\ttraining's auc: 0.881776\ttraining's binary_logloss: 0.485345\tvalid_1's auc: 0.833007\tvalid_1's binary_logloss: 0.525067\n",
      "[35]\ttraining's auc: 0.882139\ttraining's binary_logloss: 0.482733\tvalid_1's auc: 0.832485\tvalid_1's binary_logloss: 0.523024\n",
      "[36]\ttraining's auc: 0.882663\ttraining's binary_logloss: 0.480254\tvalid_1's auc: 0.83392\tvalid_1's binary_logloss: 0.521032\n",
      "[37]\ttraining's auc: 0.882908\ttraining's binary_logloss: 0.477807\tvalid_1's auc: 0.833659\tvalid_1's binary_logloss: 0.519135\n",
      "[38]\ttraining's auc: 0.883457\ttraining's binary_logloss: 0.475484\tvalid_1's auc: 0.834312\tvalid_1's binary_logloss: 0.517282\n",
      "[39]\ttraining's auc: 0.883457\ttraining's binary_logloss: 0.473094\tvalid_1's auc: 0.834312\tvalid_1's binary_logloss: 0.515011\n",
      "[40]\ttraining's auc: 0.883533\ttraining's binary_logloss: 0.470912\tvalid_1's auc: 0.835616\tvalid_1's binary_logloss: 0.513287\n",
      "[41]\ttraining's auc: 0.884463\ttraining's binary_logloss: 0.468165\tvalid_1's auc: 0.838421\tvalid_1's binary_logloss: 0.510586\n",
      "[42]\ttraining's auc: 0.883799\ttraining's binary_logloss: 0.465838\tvalid_1's auc: 0.836464\tvalid_1's binary_logloss: 0.508912\n",
      "[43]\ttraining's auc: 0.88769\ttraining's binary_logloss: 0.463667\tvalid_1's auc: 0.837704\tvalid_1's binary_logloss: 0.506952\n",
      "[44]\ttraining's auc: 0.888332\ttraining's binary_logloss: 0.461159\tvalid_1's auc: 0.839139\tvalid_1's binary_logloss: 0.504494\n",
      "[45]\ttraining's auc: 0.888265\ttraining's binary_logloss: 0.459046\tvalid_1's auc: 0.838487\tvalid_1's binary_logloss: 0.503018\n",
      "[46]\ttraining's auc: 0.888113\ttraining's binary_logloss: 0.457076\tvalid_1's auc: 0.838487\tvalid_1's binary_logloss: 0.501254\n",
      "[47]\ttraining's auc: 0.88829\ttraining's binary_logloss: 0.454783\tvalid_1's auc: 0.838748\tvalid_1's binary_logloss: 0.499013\n",
      "[48]\ttraining's auc: 0.887715\ttraining's binary_logloss: 0.452939\tvalid_1's auc: 0.837182\tvalid_1's binary_logloss: 0.497369\n",
      "[49]\ttraining's auc: 0.887741\ttraining's binary_logloss: 0.451074\tvalid_1's auc: 0.837052\tvalid_1's binary_logloss: 0.496126\n",
      "[50]\ttraining's auc: 0.887724\ttraining's binary_logloss: 0.449347\tvalid_1's auc: 0.837052\tvalid_1's binary_logloss: 0.494597\n",
      "[51]\ttraining's auc: 0.889232\ttraining's binary_logloss: 0.447577\tvalid_1's auc: 0.837052\tvalid_1's binary_logloss: 0.492891\n",
      "[52]\ttraining's auc: 0.889308\ttraining's binary_logloss: 0.44576\tvalid_1's auc: 0.838226\tvalid_1's binary_logloss: 0.49089\n",
      "[53]\ttraining's auc: 0.889401\ttraining's binary_logloss: 0.443882\tvalid_1's auc: 0.838682\tvalid_1's binary_logloss: 0.488911\n",
      "[54]\ttraining's auc: 0.889908\ttraining's binary_logloss: 0.442269\tvalid_1's auc: 0.838943\tvalid_1's binary_logloss: 0.487374\n",
      "[55]\ttraining's auc: 0.889992\ttraining's binary_logloss: 0.440499\tvalid_1's auc: 0.839074\tvalid_1's binary_logloss: 0.485516\n",
      "[56]\ttraining's auc: 0.890719\ttraining's binary_logloss: 0.4389\tvalid_1's auc: 0.838682\tvalid_1's binary_logloss: 0.483784\n",
      "[57]\ttraining's auc: 0.890736\ttraining's binary_logloss: 0.43724\tvalid_1's auc: 0.838813\tvalid_1's binary_logloss: 0.482056\n",
      "[58]\ttraining's auc: 0.891547\ttraining's binary_logloss: 0.435811\tvalid_1's auc: 0.840248\tvalid_1's binary_logloss: 0.480715\n",
      "[59]\ttraining's auc: 0.891699\ttraining's binary_logloss: 0.434245\tvalid_1's auc: 0.840248\tvalid_1's binary_logloss: 0.479091\n",
      "[60]\ttraining's auc: 0.891893\ttraining's binary_logloss: 0.432835\tvalid_1's auc: 0.840509\tvalid_1's binary_logloss: 0.477589\n",
      "[61]\ttraining's auc: 0.892781\ttraining's binary_logloss: 0.430869\tvalid_1's auc: 0.844357\tvalid_1's binary_logloss: 0.475685\n",
      "[62]\ttraining's auc: 0.893152\ttraining's binary_logloss: 0.428968\tvalid_1's auc: 0.843836\tvalid_1's binary_logloss: 0.47386\n",
      "[63]\ttraining's auc: 0.892848\ttraining's binary_logloss: 0.427133\tvalid_1's auc: 0.844879\tvalid_1's binary_logloss: 0.472112\n",
      "[64]\ttraining's auc: 0.892882\ttraining's binary_logloss: 0.425358\tvalid_1's auc: 0.844749\tvalid_1's binary_logloss: 0.470437\n",
      "[65]\ttraining's auc: 0.893287\ttraining's binary_logloss: 0.423643\tvalid_1's auc: 0.845793\tvalid_1's binary_logloss: 0.468833\n",
      "[66]\ttraining's auc: 0.894082\ttraining's binary_logloss: 0.4223\tvalid_1's auc: 0.849185\tvalid_1's binary_logloss: 0.467304\n",
      "[67]\ttraining's auc: 0.894183\ttraining's binary_logloss: 0.42068\tvalid_1's auc: 0.849315\tvalid_1's binary_logloss: 0.465802\n",
      "[68]\ttraining's auc: 0.894665\ttraining's binary_logloss: 0.419115\tvalid_1's auc: 0.849446\tvalid_1's binary_logloss: 0.464362\n",
      "[69]\ttraining's auc: 0.896126\ttraining's binary_logloss: 0.417897\tvalid_1's auc: 0.854403\tvalid_1's binary_logloss: 0.462973\n",
      "[70]\ttraining's auc: 0.896726\ttraining's binary_logloss: 0.416418\tvalid_1's auc: 0.854273\tvalid_1's binary_logloss: 0.461626\n",
      "[71]\ttraining's auc: 0.896904\ttraining's binary_logloss: 0.415306\tvalid_1's auc: 0.854207\tvalid_1's binary_logloss: 0.46067\n",
      "[72]\ttraining's auc: 0.89698\ttraining's binary_logloss: 0.414236\tvalid_1's auc: 0.854468\tvalid_1's binary_logloss: 0.459752\n",
      "[73]\ttraining's auc: 0.897022\ttraining's binary_logloss: 0.413207\tvalid_1's auc: 0.854077\tvalid_1's binary_logloss: 0.458871\n",
      "[74]\ttraining's auc: 0.897149\ttraining's binary_logloss: 0.412066\tvalid_1's auc: 0.854142\tvalid_1's binary_logloss: 0.458246\n",
      "[75]\ttraining's auc: 0.897258\ttraining's binary_logloss: 0.410971\tvalid_1's auc: 0.854142\tvalid_1's binary_logloss: 0.457654\n",
      "[76]\ttraining's auc: 0.897233\ttraining's binary_logloss: 0.410046\tvalid_1's auc: 0.854142\tvalid_1's binary_logloss: 0.45687\n",
      "[77]\ttraining's auc: 0.89785\ttraining's binary_logloss: 0.409028\tvalid_1's auc: 0.854795\tvalid_1's binary_logloss: 0.456334\n",
      "[78]\ttraining's auc: 0.898061\ttraining's binary_logloss: 0.408169\tvalid_1's auc: 0.855055\tvalid_1's binary_logloss: 0.45561\n",
      "[79]\ttraining's auc: 0.898226\ttraining's binary_logloss: 0.407342\tvalid_1's auc: 0.854664\tvalid_1's binary_logloss: 0.455277\n",
      "[80]\ttraining's auc: 0.89826\ttraining's binary_logloss: 0.406423\tvalid_1's auc: 0.854925\tvalid_1's binary_logloss: 0.454814\n",
      "[81]\ttraining's auc: 0.898547\ttraining's binary_logloss: 0.405294\tvalid_1's auc: 0.855055\tvalid_1's binary_logloss: 0.453583\n",
      "[82]\ttraining's auc: 0.898876\ttraining's binary_logloss: 0.404207\tvalid_1's auc: 0.854925\tvalid_1's binary_logloss: 0.452401\n",
      "[83]\ttraining's auc: 0.899037\ttraining's binary_logloss: 0.403126\tvalid_1's auc: 0.854664\tvalid_1's binary_logloss: 0.451468\n",
      "[84]\ttraining's auc: 0.899189\ttraining's binary_logloss: 0.402113\tvalid_1's auc: 0.854534\tvalid_1's binary_logloss: 0.450565\n"
     ]
    },
    {
     "name": "stdout",
     "output_type": "stream",
     "text": [
      "[85]\ttraining's auc: 0.89913\ttraining's binary_logloss: 0.401103\tvalid_1's auc: 0.854142\tvalid_1's binary_logloss: 0.449714\n",
      "[86]\ttraining's auc: 0.899594\ttraining's binary_logloss: 0.400154\tvalid_1's auc: 0.855055\tvalid_1's binary_logloss: 0.448699\n",
      "[87]\ttraining's auc: 0.899603\ttraining's binary_logloss: 0.399209\tvalid_1's auc: 0.855186\tvalid_1's binary_logloss: 0.447923\n",
      "[88]\ttraining's auc: 0.899772\ttraining's binary_logloss: 0.398325\tvalid_1's auc: 0.854664\tvalid_1's binary_logloss: 0.447169\n",
      "[89]\ttraining's auc: 0.899763\ttraining's binary_logloss: 0.397467\tvalid_1's auc: 0.854142\tvalid_1's binary_logloss: 0.446263\n",
      "[90]\ttraining's auc: 0.899831\ttraining's binary_logloss: 0.396611\tvalid_1's auc: 0.854273\tvalid_1's binary_logloss: 0.445588\n",
      "[91]\ttraining's auc: 0.900249\ttraining's binary_logloss: 0.395983\tvalid_1's auc: 0.853294\tvalid_1's binary_logloss: 0.444989\n",
      "[92]\ttraining's auc: 0.899962\ttraining's binary_logloss: 0.395381\tvalid_1's auc: 0.853294\tvalid_1's binary_logloss: 0.444419\n",
      "[93]\ttraining's auc: 0.899861\ttraining's binary_logloss: 0.394773\tvalid_1's auc: 0.853555\tvalid_1's binary_logloss: 0.443787\n",
      "[94]\ttraining's auc: 0.899877\ttraining's binary_logloss: 0.394187\tvalid_1's auc: 0.853555\tvalid_1's binary_logloss: 0.443181\n",
      "[95]\ttraining's auc: 0.900004\ttraining's binary_logloss: 0.393624\tvalid_1's auc: 0.853686\tvalid_1's binary_logloss: 0.4426\n",
      "[96]\ttraining's auc: 0.900089\ttraining's binary_logloss: 0.393081\tvalid_1's auc: 0.853816\tvalid_1's binary_logloss: 0.442043\n",
      "[97]\ttraining's auc: 0.900013\ttraining's binary_logloss: 0.392559\tvalid_1's auc: 0.853947\tvalid_1's binary_logloss: 0.441509\n",
      "[98]\ttraining's auc: 0.900038\ttraining's binary_logloss: 0.392056\tvalid_1's auc: 0.853947\tvalid_1's binary_logloss: 0.440998\n",
      "[99]\ttraining's auc: 0.900114\ttraining's binary_logloss: 0.391573\tvalid_1's auc: 0.854207\tvalid_1's binary_logloss: 0.440507\n",
      "[100]\ttraining's auc: 0.900182\ttraining's binary_logloss: 0.39108\tvalid_1's auc: 0.854338\tvalid_1's binary_logloss: 0.440096\n",
      "[101]\ttraining's auc: 0.901052\ttraining's binary_logloss: 0.390373\tvalid_1's auc: 0.857273\tvalid_1's binary_logloss: 0.439637\n",
      "[102]\ttraining's auc: 0.901301\ttraining's binary_logloss: 0.389605\tvalid_1's auc: 0.856491\tvalid_1's binary_logloss: 0.439289\n",
      "[103]\ttraining's auc: 0.902023\ttraining's binary_logloss: 0.388942\tvalid_1's auc: 0.85636\tvalid_1's binary_logloss: 0.439122\n",
      "[104]\ttraining's auc: 0.901998\ttraining's binary_logloss: 0.388188\tvalid_1's auc: 0.85623\tvalid_1's binary_logloss: 0.438828\n",
      "[105]\ttraining's auc: 0.902125\ttraining's binary_logloss: 0.387575\tvalid_1's auc: 0.855969\tvalid_1's binary_logloss: 0.438698\n",
      "[106]\ttraining's auc: 0.902332\ttraining's binary_logloss: 0.386933\tvalid_1's auc: 0.855382\tvalid_1's binary_logloss: 0.438577\n",
      "[107]\ttraining's auc: 0.902661\ttraining's binary_logloss: 0.386292\tvalid_1's auc: 0.855121\tvalid_1's binary_logloss: 0.43834\n",
      "[108]\ttraining's auc: 0.903025\ttraining's binary_logloss: 0.385742\tvalid_1's auc: 0.855903\tvalid_1's binary_logloss: 0.438257\n",
      "[109]\ttraining's auc: 0.903202\ttraining's binary_logloss: 0.385103\tvalid_1's auc: 0.855643\tvalid_1's binary_logloss: 0.438068\n",
      "[110]\ttraining's auc: 0.903684\ttraining's binary_logloss: 0.384592\tvalid_1's auc: 0.855643\tvalid_1's binary_logloss: 0.438013\n",
      "[111]\ttraining's auc: 0.903967\ttraining's binary_logloss: 0.383822\tvalid_1's auc: 0.854403\tvalid_1's binary_logloss: 0.437913\n",
      "[112]\ttraining's auc: 0.903739\ttraining's binary_logloss: 0.383083\tvalid_1's auc: 0.854142\tvalid_1's binary_logloss: 0.437837\n",
      "[113]\ttraining's auc: 0.903713\ttraining's binary_logloss: 0.382376\tvalid_1's auc: 0.854273\tvalid_1's binary_logloss: 0.437783\n",
      "[114]\ttraining's auc: 0.903967\ttraining's binary_logloss: 0.381654\tvalid_1's auc: 0.854664\tvalid_1's binary_logloss: 0.437793\n",
      "[115]\ttraining's auc: 0.903789\ttraining's binary_logloss: 0.381002\tvalid_1's auc: 0.855186\tvalid_1's binary_logloss: 0.437777\n",
      "[116]\ttraining's auc: 0.904186\ttraining's binary_logloss: 0.380332\tvalid_1's auc: 0.854925\tvalid_1's binary_logloss: 0.437824\n",
      "[117]\ttraining's auc: 0.904453\ttraining's binary_logloss: 0.379717\tvalid_1's auc: 0.855055\tvalid_1's binary_logloss: 0.437647\n",
      "[118]\ttraining's auc: 0.904706\ttraining's binary_logloss: 0.379095\tvalid_1's auc: 0.854795\tvalid_1's binary_logloss: 0.437728\n",
      "[119]\ttraining's auc: 0.904554\ttraining's binary_logloss: 0.378528\tvalid_1's auc: 0.854664\tvalid_1's binary_logloss: 0.437584\n",
      "[120]\ttraining's auc: 0.90466\ttraining's binary_logloss: 0.378019\tvalid_1's auc: 0.856099\tvalid_1's binary_logloss: 0.437223\n",
      "[121]\ttraining's auc: 0.904926\ttraining's binary_logloss: 0.377397\tvalid_1's auc: 0.855643\tvalid_1's binary_logloss: 0.436766\n",
      "[122]\ttraining's auc: 0.905112\ttraining's binary_logloss: 0.376801\tvalid_1's auc: 0.855903\tvalid_1's binary_logloss: 0.436332\n",
      "[123]\ttraining's auc: 0.90512\ttraining's binary_logloss: 0.37623\tvalid_1's auc: 0.855903\tvalid_1's binary_logloss: 0.435918\n",
      "[124]\ttraining's auc: 0.905035\ttraining's binary_logloss: 0.375684\tvalid_1's auc: 0.855903\tvalid_1's binary_logloss: 0.435525\n",
      "[125]\ttraining's auc: 0.905027\ttraining's binary_logloss: 0.375162\tvalid_1's auc: 0.856686\tvalid_1's binary_logloss: 0.435151\n",
      "[126]\ttraining's auc: 0.9052\ttraining's binary_logloss: 0.374711\tvalid_1's auc: 0.856295\tvalid_1's binary_logloss: 0.435179\n",
      "[127]\ttraining's auc: 0.905048\ttraining's binary_logloss: 0.374216\tvalid_1's auc: 0.856425\tvalid_1's binary_logloss: 0.43483\n",
      "[128]\ttraining's auc: 0.905462\ttraining's binary_logloss: 0.373682\tvalid_1's auc: 0.856034\tvalid_1's binary_logloss: 0.434864\n",
      "[129]\ttraining's auc: 0.90553\ttraining's binary_logloss: 0.373207\tvalid_1's auc: 0.856164\tvalid_1's binary_logloss: 0.434464\n",
      "[130]\ttraining's auc: 0.905471\ttraining's binary_logloss: 0.372807\tvalid_1's auc: 0.85623\tvalid_1's binary_logloss: 0.434171\n",
      "[131]\ttraining's auc: 0.905475\ttraining's binary_logloss: 0.372193\tvalid_1's auc: 0.857143\tvalid_1's binary_logloss: 0.433651\n",
      "[132]\ttraining's auc: 0.905551\ttraining's binary_logloss: 0.371617\tvalid_1's auc: 0.857665\tvalid_1's binary_logloss: 0.433152\n",
      "[133]\ttraining's auc: 0.905648\ttraining's binary_logloss: 0.371194\tvalid_1's auc: 0.85786\tvalid_1's binary_logloss: 0.433137\n",
      "[134]\ttraining's auc: 0.905842\ttraining's binary_logloss: 0.370802\tvalid_1's auc: 0.857991\tvalid_1's binary_logloss: 0.433135\n",
      "[135]\ttraining's auc: 0.90678\ttraining's binary_logloss: 0.370372\tvalid_1's auc: 0.857469\tvalid_1's binary_logloss: 0.433286\n",
      "[136]\ttraining's auc: 0.907084\ttraining's binary_logloss: 0.369965\tvalid_1's auc: 0.857339\tvalid_1's binary_logloss: 0.433442\n",
      "[137]\ttraining's auc: 0.907519\ttraining's binary_logloss: 0.369634\tvalid_1's auc: 0.857339\tvalid_1's binary_logloss: 0.433669\n",
      "[138]\ttraining's auc: 0.908069\ttraining's binary_logloss: 0.369265\tvalid_1's auc: 0.856947\tvalid_1's binary_logloss: 0.433837\n",
      "[139]\ttraining's auc: 0.908694\ttraining's binary_logloss: 0.368845\tvalid_1's auc: 0.857339\tvalid_1's binary_logloss: 0.434051\n",
      "[140]\ttraining's auc: 0.908863\ttraining's binary_logloss: 0.368383\tvalid_1's auc: 0.857208\tvalid_1's binary_logloss: 0.433835\n",
      "[141]\ttraining's auc: 0.908998\ttraining's binary_logloss: 0.367803\tvalid_1's auc: 0.857991\tvalid_1's binary_logloss: 0.433456\n",
      "[142]\ttraining's auc: 0.909116\ttraining's binary_logloss: 0.367312\tvalid_1's auc: 0.857469\tvalid_1's binary_logloss: 0.433156\n",
      "[143]\ttraining's auc: 0.909518\ttraining's binary_logloss: 0.366689\tvalid_1's auc: 0.858056\tvalid_1's binary_logloss: 0.432812\n",
      "[144]\ttraining's auc: 0.909805\ttraining's binary_logloss: 0.366233\tvalid_1's auc: 0.858187\tvalid_1's binary_logloss: 0.432419\n",
      "[145]\ttraining's auc: 0.910346\ttraining's binary_logloss: 0.365791\tvalid_1's auc: 0.858969\tvalid_1's binary_logloss: 0.432173\n",
      "[146]\ttraining's auc: 0.910346\ttraining's binary_logloss: 0.36537\tvalid_1's auc: 0.860404\tvalid_1's binary_logloss: 0.431818\n",
      "[147]\ttraining's auc: 0.9107\ttraining's binary_logloss: 0.364958\tvalid_1's auc: 0.861187\tvalid_1's binary_logloss: 0.431741\n",
      "[148]\ttraining's auc: 0.910278\ttraining's binary_logloss: 0.364538\tvalid_1's auc: 0.86184\tvalid_1's binary_logloss: 0.431446\n",
      "[149]\ttraining's auc: 0.910384\ttraining's binary_logloss: 0.364144\tvalid_1's auc: 0.86184\tvalid_1's binary_logloss: 0.431488\n",
      "[150]\ttraining's auc: 0.910341\ttraining's binary_logloss: 0.363774\tvalid_1's auc: 0.862231\tvalid_1's binary_logloss: 0.431458\n",
      "[151]\ttraining's auc: 0.91043\ttraining's binary_logloss: 0.363328\tvalid_1's auc: 0.862361\tvalid_1's binary_logloss: 0.431347\n",
      "[152]\ttraining's auc: 0.910624\ttraining's binary_logloss: 0.362908\tvalid_1's auc: 0.862492\tvalid_1's binary_logloss: 0.431328\n",
      "[153]\ttraining's auc: 0.910633\ttraining's binary_logloss: 0.362495\tvalid_1's auc: 0.863144\tvalid_1's binary_logloss: 0.431581\n",
      "[154]\ttraining's auc: 0.910688\ttraining's binary_logloss: 0.362103\tvalid_1's auc: 0.863275\tvalid_1's binary_logloss: 0.43179\n",
      "[155]\ttraining's auc: 0.910654\ttraining's binary_logloss: 0.361714\tvalid_1's auc: 0.863014\tvalid_1's binary_logloss: 0.431871\n",
      "[156]\ttraining's auc: 0.910645\ttraining's binary_logloss: 0.361341\tvalid_1's auc: 0.862753\tvalid_1's binary_logloss: 0.431964\n",
      "[157]\ttraining's auc: 0.910755\ttraining's binary_logloss: 0.360984\tvalid_1's auc: 0.862492\tvalid_1's binary_logloss: 0.432195\n",
      "[158]\ttraining's auc: 0.910814\ttraining's binary_logloss: 0.360632\tvalid_1's auc: 0.862753\tvalid_1's binary_logloss: 0.432306\n",
      "[159]\ttraining's auc: 0.910882\ttraining's binary_logloss: 0.360285\tvalid_1's auc: 0.863014\tvalid_1's binary_logloss: 0.43261\n",
      "[160]\ttraining's auc: 0.911009\ttraining's binary_logloss: 0.35996\tvalid_1's auc: 0.863536\tvalid_1's binary_logloss: 0.432862\n",
      "[161]\ttraining's auc: 0.911292\ttraining's binary_logloss: 0.359445\tvalid_1's auc: 0.863666\tvalid_1's binary_logloss: 0.43228\n",
      "[162]\ttraining's auc: 0.911469\ttraining's binary_logloss: 0.358953\tvalid_1's auc: 0.864057\tvalid_1's binary_logloss: 0.431731\n",
      "[163]\ttraining's auc: 0.911537\ttraining's binary_logloss: 0.358483\tvalid_1's auc: 0.864188\tvalid_1's binary_logloss: 0.431212\n",
      "[164]\ttraining's auc: 0.911697\ttraining's binary_logloss: 0.358034\tvalid_1's auc: 0.864449\tvalid_1's binary_logloss: 0.43072\n",
      "[165]\ttraining's auc: 0.91179\ttraining's binary_logloss: 0.357605\tvalid_1's auc: 0.864579\tvalid_1's binary_logloss: 0.430254\n",
      "[166]\ttraining's auc: 0.911985\ttraining's binary_logloss: 0.357194\tvalid_1's auc: 0.86471\tvalid_1's binary_logloss: 0.429811\n",
      "[167]\ttraining's auc: 0.912128\ttraining's binary_logloss: 0.356801\tvalid_1's auc: 0.864971\tvalid_1's binary_logloss: 0.429389\n",
      "[168]\ttraining's auc: 0.912306\ttraining's binary_logloss: 0.356425\tvalid_1's auc: 0.864971\tvalid_1's binary_logloss: 0.428987\n",
      "[169]\ttraining's auc: 0.912584\ttraining's binary_logloss: 0.356065\tvalid_1's auc: 0.865101\tvalid_1's binary_logloss: 0.428603\n",
      "[170]\ttraining's auc: 0.912745\ttraining's binary_logloss: 0.355719\tvalid_1's auc: 0.865101\tvalid_1's binary_logloss: 0.428236\n",
      "[171]\ttraining's auc: 0.912808\ttraining's binary_logloss: 0.355311\tvalid_1's auc: 0.864579\tvalid_1's binary_logloss: 0.428467\n",
      "[172]\ttraining's auc: 0.912884\ttraining's binary_logloss: 0.35492\tvalid_1's auc: 0.864449\tvalid_1's binary_logloss: 0.428768\n",
      "[173]\ttraining's auc: 0.913146\ttraining's binary_logloss: 0.354623\tvalid_1's auc: 0.864449\tvalid_1's binary_logloss: 0.428889\n",
      "[174]\ttraining's auc: 0.91351\ttraining's binary_logloss: 0.354342\tvalid_1's auc: 0.864579\tvalid_1's binary_logloss: 0.429014\n",
      "[175]\ttraining's auc: 0.913611\ttraining's binary_logloss: 0.354075\tvalid_1's auc: 0.864449\tvalid_1's binary_logloss: 0.429143\n",
      "[176]\ttraining's auc: 0.913653\ttraining's binary_logloss: 0.353822\tvalid_1's auc: 0.86471\tvalid_1's binary_logloss: 0.429414\n",
      "[177]\ttraining's auc: 0.914135\ttraining's binary_logloss: 0.353435\tvalid_1's auc: 0.864057\tvalid_1's binary_logloss: 0.429529\n",
      "[178]\ttraining's auc: 0.914329\ttraining's binary_logloss: 0.353193\tvalid_1's auc: 0.864188\tvalid_1's binary_logloss: 0.429663\n",
      "[179]\ttraining's auc: 0.914312\ttraining's binary_logloss: 0.352961\tvalid_1's auc: 0.864057\tvalid_1's binary_logloss: 0.429938\n",
      "[180]\ttraining's auc: 0.914549\ttraining's binary_logloss: 0.352597\tvalid_1's auc: 0.863275\tvalid_1's binary_logloss: 0.430061\n",
      "[181]\ttraining's auc: 0.914714\ttraining's binary_logloss: 0.352218\tvalid_1's auc: 0.862622\tvalid_1's binary_logloss: 0.430007\n"
     ]
    },
    {
     "name": "stdout",
     "output_type": "stream",
     "text": [
      "[182]\ttraining's auc: 0.914942\ttraining's binary_logloss: 0.351855\tvalid_1's auc: 0.862361\tvalid_1's binary_logloss: 0.429966\n",
      "[183]\ttraining's auc: 0.915161\ttraining's binary_logloss: 0.351527\tvalid_1's auc: 0.862231\tvalid_1's binary_logloss: 0.430002\n",
      "[184]\ttraining's auc: 0.915389\ttraining's binary_logloss: 0.351158\tvalid_1's auc: 0.8621\tvalid_1's binary_logloss: 0.429898\n",
      "[185]\ttraining's auc: 0.915558\ttraining's binary_logloss: 0.350849\tvalid_1's auc: 0.862231\tvalid_1's binary_logloss: 0.42995\n",
      "[186]\ttraining's auc: 0.915757\ttraining's binary_logloss: 0.350366\tvalid_1's auc: 0.862296\tvalid_1's binary_logloss: 0.429624\n",
      "[187]\ttraining's auc: 0.915808\ttraining's binary_logloss: 0.350076\tvalid_1's auc: 0.860861\tvalid_1's binary_logloss: 0.42969\n",
      "[188]\ttraining's auc: 0.915888\ttraining's binary_logloss: 0.349838\tvalid_1's auc: 0.860861\tvalid_1's binary_logloss: 0.429601\n",
      "[189]\ttraining's auc: 0.915998\ttraining's binary_logloss: 0.349387\tvalid_1's auc: 0.860992\tvalid_1's binary_logloss: 0.429308\n",
      "[190]\ttraining's auc: 0.917058\ttraining's binary_logloss: 0.348933\tvalid_1's auc: 0.860926\tvalid_1's binary_logloss: 0.429488\n",
      "[191]\ttraining's auc: 0.917552\ttraining's binary_logloss: 0.34834\tvalid_1's auc: 0.861057\tvalid_1's binary_logloss: 0.42936\n",
      "[192]\ttraining's auc: 0.917814\ttraining's binary_logloss: 0.347775\tvalid_1's auc: 0.860665\tvalid_1's binary_logloss: 0.429243\n",
      "[193]\ttraining's auc: 0.918102\ttraining's binary_logloss: 0.347237\tvalid_1's auc: 0.860796\tvalid_1's binary_logloss: 0.429137\n",
      "[194]\ttraining's auc: 0.918228\ttraining's binary_logloss: 0.346724\tvalid_1's auc: 0.860665\tvalid_1's binary_logloss: 0.429041\n",
      "[195]\ttraining's auc: 0.918313\ttraining's binary_logloss: 0.346439\tvalid_1's auc: 0.860535\tvalid_1's binary_logloss: 0.429283\n",
      "[196]\ttraining's auc: 0.918558\ttraining's binary_logloss: 0.34596\tvalid_1's auc: 0.860665\tvalid_1's binary_logloss: 0.429202\n",
      "[197]\ttraining's auc: 0.919006\ttraining's binary_logloss: 0.345699\tvalid_1's auc: 0.860796\tvalid_1's binary_logloss: 0.429447\n",
      "[198]\ttraining's auc: 0.919614\ttraining's binary_logloss: 0.345251\tvalid_1's auc: 0.860796\tvalid_1's binary_logloss: 0.42938\n",
      "[199]\ttraining's auc: 0.919817\ttraining's binary_logloss: 0.345014\tvalid_1's auc: 0.860274\tvalid_1's binary_logloss: 0.429629\n",
      "[200]\ttraining's auc: 0.920007\ttraining's binary_logloss: 0.344513\tvalid_1's auc: 0.860665\tvalid_1's binary_logloss: 0.429836\n",
      "[201]\ttraining's auc: 0.91999\ttraining's binary_logloss: 0.344132\tvalid_1's auc: 0.861187\tvalid_1's binary_logloss: 0.429902\n",
      "[202]\ttraining's auc: 0.920142\ttraining's binary_logloss: 0.34374\tvalid_1's auc: 0.861057\tvalid_1's binary_logloss: 0.430093\n",
      "[203]\ttraining's auc: 0.920117\ttraining's binary_logloss: 0.343366\tvalid_1's auc: 0.860404\tvalid_1's binary_logloss: 0.430295\n",
      "[204]\ttraining's auc: 0.920142\ttraining's binary_logloss: 0.343031\tvalid_1's auc: 0.860404\tvalid_1's binary_logloss: 0.430389\n",
      "[205]\ttraining's auc: 0.920184\ttraining's binary_logloss: 0.342611\tvalid_1's auc: 0.860209\tvalid_1's binary_logloss: 0.430616\n",
      "[206]\ttraining's auc: 0.919948\ttraining's binary_logloss: 0.342343\tvalid_1's auc: 0.860078\tvalid_1's binary_logloss: 0.430757\n",
      "[207]\ttraining's auc: 0.919981\ttraining's binary_logloss: 0.342044\tvalid_1's auc: 0.860209\tvalid_1's binary_logloss: 0.430875\n",
      "[208]\ttraining's auc: 0.920133\ttraining's binary_logloss: 0.341768\tvalid_1's auc: 0.860339\tvalid_1's binary_logloss: 0.430685\n",
      "[209]\ttraining's auc: 0.920522\ttraining's binary_logloss: 0.341367\tvalid_1's auc: 0.859817\tvalid_1's binary_logloss: 0.430735\n",
      "[210]\ttraining's auc: 0.920716\ttraining's binary_logloss: 0.341106\tvalid_1's auc: 0.859948\tvalid_1's binary_logloss: 0.430555\n",
      "[211]\ttraining's auc: 0.920797\ttraining's binary_logloss: 0.340916\tvalid_1's auc: 0.859556\tvalid_1's binary_logloss: 0.430582\n",
      "[212]\ttraining's auc: 0.921025\ttraining's binary_logloss: 0.340733\tvalid_1's auc: 0.859687\tvalid_1's binary_logloss: 0.430616\n",
      "[213]\ttraining's auc: 0.921168\ttraining's binary_logloss: 0.340558\tvalid_1's auc: 0.859948\tvalid_1's binary_logloss: 0.430656\n",
      "[214]\ttraining's auc: 0.921283\ttraining's binary_logloss: 0.340371\tvalid_1's auc: 0.859687\tvalid_1's binary_logloss: 0.430739\n",
      "[215]\ttraining's auc: 0.921316\ttraining's binary_logloss: 0.340209\tvalid_1's auc: 0.859556\tvalid_1's binary_logloss: 0.430792\n",
      "[216]\ttraining's auc: 0.921511\ttraining's binary_logloss: 0.339926\tvalid_1's auc: 0.859556\tvalid_1's binary_logloss: 0.430858\n",
      "[217]\ttraining's auc: 0.921553\ttraining's binary_logloss: 0.339743\tvalid_1's auc: 0.859817\tvalid_1's binary_logloss: 0.431027\n",
      "[218]\ttraining's auc: 0.921646\ttraining's binary_logloss: 0.339476\tvalid_1's auc: 0.860078\tvalid_1's binary_logloss: 0.431104\n",
      "[219]\ttraining's auc: 0.921739\ttraining's binary_logloss: 0.339336\tvalid_1's auc: 0.860339\tvalid_1's binary_logloss: 0.431174\n",
      "Early stopping, best iteration is:\n",
      "[169]\ttraining's auc: 0.912584\ttraining's binary_logloss: 0.356065\tvalid_1's auc: 0.865101\tvalid_1's binary_logloss: 0.428603\n"
     ]
    }
   ],
   "source": [
    "y_pred_train, y_pred_test, feature_importance = train_lgb(X_scaled_train, X_scaled_test, y_train, y_test, params=params)"
   ]
  },
  {
   "cell_type": "markdown",
   "metadata": {},
   "source": [
    "Print accuracy of Train and Test"
   ]
  },
  {
   "cell_type": "code",
   "execution_count": 28,
   "metadata": {},
   "outputs": [],
   "source": [
    "def calc_accuracy(y_pred, y):\n",
    "    return sum(y_pred == y)/len(y)"
   ]
  },
  {
   "cell_type": "code",
   "execution_count": 32,
   "metadata": {},
   "outputs": [
    {
     "name": "stdout",
     "output_type": "stream",
     "text": [
      "0.8631875881523272\n",
      "0.8258426966292135\n"
     ]
    }
   ],
   "source": [
    "print(calc_accuracy(y_pred_train, y_train))\n",
    "print(calc_accuracy(y_pred_test, y_test))"
   ]
  },
  {
   "cell_type": "markdown",
   "metadata": {},
   "source": [
    "Plot the feature importance"
   ]
  },
  {
   "cell_type": "code",
   "execution_count": 33,
   "metadata": {},
   "outputs": [
    {
     "data": {
      "image/png": "[encoded data removed]",
      "text/plain": [
       "<Figure size 1152x864 with 1 Axes>"
      ]
     },
     "metadata": {
      "needs_background": "light"
     },
     "output_type": "display_data"
    }
   ],
   "source": [
    "plot_feature_importance(feature_importance, title = 'Importance Titanic')"
   ]
  },
  {
   "cell_type": "code",
   "execution_count": null,
   "metadata": {},
   "outputs": [],
   "source": []
  },
  {
   "cell_type": "markdown",
   "metadata": {},
   "source": [
    "**Exercise:** Retrain without rescale X to see anything different"
   ]
  },
  {
   "cell_type": "code",
   "execution_count": 34,
   "metadata": {},
   "outputs": [],
   "source": [
    "X_train, X_test, y_train, y_test = train_test_split(X, y, test_size=0.2, random_state=20)"
   ]
  },
  {
   "cell_type": "code",
   "execution_count": 35,
   "metadata": {
    "scrolled": true
   },
   "outputs": [
    {
     "name": "stdout",
     "output_type": "stream",
     "text": [
      "[1]\ttraining's auc: 0.859197\ttraining's binary_logloss: 0.654729\tvalid_1's auc: 0.82544\tvalid_1's binary_logloss: 0.67065\n",
      "Training until validation scores don't improve for 50 rounds\n",
      "[2]\ttraining's auc: 0.859197\ttraining's binary_logloss: 0.646092\tvalid_1's auc: 0.82544\tvalid_1's binary_logloss: 0.662802\n",
      "[3]\ttraining's auc: 0.859197\ttraining's binary_logloss: 0.637837\tvalid_1's auc: 0.82544\tvalid_1's binary_logloss: 0.655313\n",
      "[4]\ttraining's auc: 0.861157\ttraining's binary_logloss: 0.629898\tvalid_1's auc: 0.824658\tvalid_1's binary_logloss: 0.648208\n",
      "[5]\ttraining's auc: 0.861157\ttraining's binary_logloss: 0.622334\tvalid_1's auc: 0.824658\tvalid_1's binary_logloss: 0.64137\n",
      "[6]\ttraining's auc: 0.864063\ttraining's binary_logloss: 0.615047\tvalid_1's auc: 0.829093\tvalid_1's binary_logloss: 0.634877\n",
      "[7]\ttraining's auc: 0.861157\ttraining's binary_logloss: 0.608095\tvalid_1's auc: 0.824658\tvalid_1's binary_logloss: 0.628614\n",
      "[8]\ttraining's auc: 0.864388\ttraining's binary_logloss: 0.601346\tvalid_1's auc: 0.828702\tvalid_1's binary_logloss: 0.622385\n",
      "[9]\ttraining's auc: 0.864329\ttraining's binary_logloss: 0.594872\tvalid_1's auc: 0.828702\tvalid_1's binary_logloss: 0.61653\n",
      "[10]\ttraining's auc: 0.864329\ttraining's binary_logloss: 0.588718\tvalid_1's auc: 0.828702\tvalid_1's binary_logloss: 0.611129\n",
      "[11]\ttraining's auc: 0.870531\ttraining's binary_logloss: 0.582431\tvalid_1's auc: 0.83379\tvalid_1's binary_logloss: 0.606128\n",
      "[12]\ttraining's auc: 0.870531\ttraining's binary_logloss: 0.576392\tvalid_1's auc: 0.83379\tvalid_1's binary_logloss: 0.60134\n",
      "[13]\ttraining's auc: 0.870226\ttraining's binary_logloss: 0.570589\tvalid_1's auc: 0.833268\tvalid_1's binary_logloss: 0.596754\n",
      "[14]\ttraining's auc: 0.871283\ttraining's binary_logloss: 0.565011\tvalid_1's auc: 0.834051\tvalid_1's binary_logloss: 0.592361\n",
      "[15]\ttraining's auc: 0.871283\ttraining's binary_logloss: 0.559646\tvalid_1's auc: 0.834051\tvalid_1's binary_logloss: 0.588151\n",
      "[16]\ttraining's auc: 0.871257\ttraining's binary_logloss: 0.554485\tvalid_1's auc: 0.831311\tvalid_1's binary_logloss: 0.584115\n",
      "[17]\ttraining's auc: 0.871578\ttraining's binary_logloss: 0.549518\tvalid_1's auc: 0.831311\tvalid_1's binary_logloss: 0.580244\n",
      "[18]\ttraining's auc: 0.871925\ttraining's binary_logloss: 0.544695\tvalid_1's auc: 0.831572\tvalid_1's binary_logloss: 0.576545\n",
      "[19]\ttraining's auc: 0.87184\ttraining's binary_logloss: 0.540083\tvalid_1's auc: 0.830789\tvalid_1's binary_logloss: 0.572982\n",
      "[20]\ttraining's auc: 0.871882\ttraining's binary_logloss: 0.535599\tvalid_1's auc: 0.830789\tvalid_1's binary_logloss: 0.569578\n",
      "[21]\ttraining's auc: 0.876766\ttraining's binary_logloss: 0.530994\tvalid_1's auc: 0.831768\tvalid_1's binary_logloss: 0.565067\n",
      "[22]\ttraining's auc: 0.87756\ttraining's binary_logloss: 0.526574\tvalid_1's auc: 0.833203\tvalid_1's binary_logloss: 0.560778\n",
      "[23]\ttraining's auc: 0.879351\ttraining's binary_logloss: 0.522331\tvalid_1's auc: 0.834377\tvalid_1's binary_logloss: 0.556699\n",
      "[24]\ttraining's auc: 0.880255\ttraining's binary_logloss: 0.518256\tvalid_1's auc: 0.836073\tvalid_1's binary_logloss: 0.552819\n",
      "[25]\ttraining's auc: 0.880183\ttraining's binary_logloss: 0.514316\tvalid_1's auc: 0.837182\tvalid_1's binary_logloss: 0.549344\n",
      "[26]\ttraining's auc: 0.880876\ttraining's binary_logloss: 0.510515\tvalid_1's auc: 0.837182\tvalid_1's binary_logloss: 0.545999\n",
      "[27]\ttraining's auc: 0.880783\ttraining's binary_logloss: 0.50685\tvalid_1's auc: 0.837312\tvalid_1's binary_logloss: 0.542779\n",
      "[28]\ttraining's auc: 0.880783\ttraining's binary_logloss: 0.503314\tvalid_1's auc: 0.837834\tvalid_1's binary_logloss: 0.53968\n",
      "[29]\ttraining's auc: 0.881459\ttraining's binary_logloss: 0.499963\tvalid_1's auc: 0.837704\tvalid_1's binary_logloss: 0.536956\n",
      "[30]\ttraining's auc: 0.881282\ttraining's binary_logloss: 0.49666\tvalid_1's auc: 0.83666\tvalid_1's binary_logloss: 0.534066\n",
      "[31]\ttraining's auc: 0.881261\ttraining's binary_logloss: 0.493668\tvalid_1's auc: 0.839791\tvalid_1's binary_logloss: 0.531692\n",
      "[32]\ttraining's auc: 0.881125\ttraining's binary_logloss: 0.490779\tvalid_1's auc: 0.839139\tvalid_1's binary_logloss: 0.529407\n",
      "[33]\ttraining's auc: 0.879706\ttraining's binary_logloss: 0.487989\tvalid_1's auc: 0.8394\tvalid_1's binary_logloss: 0.527208\n",
      "[34]\ttraining's auc: 0.881776\ttraining's binary_logloss: 0.485345\tvalid_1's auc: 0.833007\tvalid_1's binary_logloss: 0.525067\n",
      "[35]\ttraining's auc: 0.882139\ttraining's binary_logloss: 0.482733\tvalid_1's auc: 0.832485\tvalid_1's binary_logloss: 0.523024\n",
      "[36]\ttraining's auc: 0.882663\ttraining's binary_logloss: 0.480254\tvalid_1's auc: 0.83392\tvalid_1's binary_logloss: 0.521032\n",
      "[37]\ttraining's auc: 0.882908\ttraining's binary_logloss: 0.477807\tvalid_1's auc: 0.833659\tvalid_1's binary_logloss: 0.519135\n",
      "[38]\ttraining's auc: 0.883457\ttraining's binary_logloss: 0.475484\tvalid_1's auc: 0.834312\tvalid_1's binary_logloss: 0.517282\n",
      "[39]\ttraining's auc: 0.883457\ttraining's binary_logloss: 0.473094\tvalid_1's auc: 0.834312\tvalid_1's binary_logloss: 0.515011\n",
      "[40]\ttraining's auc: 0.883533\ttraining's binary_logloss: 0.470912\tvalid_1's auc: 0.835616\tvalid_1's binary_logloss: 0.513287\n",
      "[41]\ttraining's auc: 0.884463\ttraining's binary_logloss: 0.468165\tvalid_1's auc: 0.838421\tvalid_1's binary_logloss: 0.510586\n",
      "[42]\ttraining's auc: 0.883799\ttraining's binary_logloss: 0.465838\tvalid_1's auc: 0.836464\tvalid_1's binary_logloss: 0.508912\n",
      "[43]\ttraining's auc: 0.88769\ttraining's binary_logloss: 0.463667\tvalid_1's auc: 0.837704\tvalid_1's binary_logloss: 0.506952\n",
      "[44]\ttraining's auc: 0.888332\ttraining's binary_logloss: 0.461159\tvalid_1's auc: 0.839139\tvalid_1's binary_logloss: 0.504494\n",
      "[45]\ttraining's auc: 0.888265\ttraining's binary_logloss: 0.459046\tvalid_1's auc: 0.838487\tvalid_1's binary_logloss: 0.503018\n",
      "[46]\ttraining's auc: 0.888113\ttraining's binary_logloss: 0.457076\tvalid_1's auc: 0.838487\tvalid_1's binary_logloss: 0.501254\n",
      "[47]\ttraining's auc: 0.88829\ttraining's binary_logloss: 0.454783\tvalid_1's auc: 0.838748\tvalid_1's binary_logloss: 0.499013\n",
      "[48]\ttraining's auc: 0.887715\ttraining's binary_logloss: 0.452939\tvalid_1's auc: 0.837182\tvalid_1's binary_logloss: 0.497369\n",
      "[49]\ttraining's auc: 0.887741\ttraining's binary_logloss: 0.451074\tvalid_1's auc: 0.837052\tvalid_1's binary_logloss: 0.496126\n",
      "[50]\ttraining's auc: 0.887724\ttraining's binary_logloss: 0.449347\tvalid_1's auc: 0.837052\tvalid_1's binary_logloss: 0.494597\n",
      "[51]\ttraining's auc: 0.889232\ttraining's binary_logloss: 0.447577\tvalid_1's auc: 0.837052\tvalid_1's binary_logloss: 0.492891\n",
      "[52]\ttraining's auc: 0.889308\ttraining's binary_logloss: 0.44576\tvalid_1's auc: 0.838226\tvalid_1's binary_logloss: 0.49089\n",
      "[53]\ttraining's auc: 0.889401\ttraining's binary_logloss: 0.443882\tvalid_1's auc: 0.838682\tvalid_1's binary_logloss: 0.488911\n",
      "[54]\ttraining's auc: 0.889908\ttraining's binary_logloss: 0.442269\tvalid_1's auc: 0.838943\tvalid_1's binary_logloss: 0.487374\n",
      "[55]\ttraining's auc: 0.889992\ttraining's binary_logloss: 0.440499\tvalid_1's auc: 0.839074\tvalid_1's binary_logloss: 0.485516\n",
      "[56]\ttraining's auc: 0.890719\ttraining's binary_logloss: 0.4389\tvalid_1's auc: 0.838682\tvalid_1's binary_logloss: 0.483784\n",
      "[57]\ttraining's auc: 0.890736\ttraining's binary_logloss: 0.43724\tvalid_1's auc: 0.838813\tvalid_1's binary_logloss: 0.482056\n",
      "[58]\ttraining's auc: 0.891547\ttraining's binary_logloss: 0.435811\tvalid_1's auc: 0.840248\tvalid_1's binary_logloss: 0.480715\n",
      "[59]\ttraining's auc: 0.891699\ttraining's binary_logloss: 0.434245\tvalid_1's auc: 0.840248\tvalid_1's binary_logloss: 0.479091\n",
      "[60]\ttraining's auc: 0.891893\ttraining's binary_logloss: 0.432835\tvalid_1's auc: 0.840509\tvalid_1's binary_logloss: 0.477589\n",
      "[61]\ttraining's auc: 0.892781\ttraining's binary_logloss: 0.430869\tvalid_1's auc: 0.844357\tvalid_1's binary_logloss: 0.475685\n",
      "[62]\ttraining's auc: 0.893152\ttraining's binary_logloss: 0.428968\tvalid_1's auc: 0.843836\tvalid_1's binary_logloss: 0.47386\n",
      "[63]\ttraining's auc: 0.892848\ttraining's binary_logloss: 0.427133\tvalid_1's auc: 0.844879\tvalid_1's binary_logloss: 0.472112\n",
      "[64]\ttraining's auc: 0.892882\ttraining's binary_logloss: 0.425358\tvalid_1's auc: 0.844749\tvalid_1's binary_logloss: 0.470437\n",
      "[65]\ttraining's auc: 0.893287\ttraining's binary_logloss: 0.423643\tvalid_1's auc: 0.845793\tvalid_1's binary_logloss: 0.468833\n",
      "[66]\ttraining's auc: 0.894082\ttraining's binary_logloss: 0.4223\tvalid_1's auc: 0.849185\tvalid_1's binary_logloss: 0.467304\n",
      "[67]\ttraining's auc: 0.894183\ttraining's binary_logloss: 0.42068\tvalid_1's auc: 0.849315\tvalid_1's binary_logloss: 0.465802\n",
      "[68]\ttraining's auc: 0.894665\ttraining's binary_logloss: 0.419115\tvalid_1's auc: 0.849446\tvalid_1's binary_logloss: 0.464362\n",
      "[69]\ttraining's auc: 0.896126\ttraining's binary_logloss: 0.417897\tvalid_1's auc: 0.854403\tvalid_1's binary_logloss: 0.462973\n",
      "[70]\ttraining's auc: 0.896726\ttraining's binary_logloss: 0.416418\tvalid_1's auc: 0.854273\tvalid_1's binary_logloss: 0.461626\n",
      "[71]\ttraining's auc: 0.896904\ttraining's binary_logloss: 0.415306\tvalid_1's auc: 0.854207\tvalid_1's binary_logloss: 0.46067\n",
      "[72]\ttraining's auc: 0.89698\ttraining's binary_logloss: 0.414236\tvalid_1's auc: 0.854468\tvalid_1's binary_logloss: 0.459752\n",
      "[73]\ttraining's auc: 0.897022\ttraining's binary_logloss: 0.413207\tvalid_1's auc: 0.854077\tvalid_1's binary_logloss: 0.458871\n",
      "[74]\ttraining's auc: 0.897149\ttraining's binary_logloss: 0.412066\tvalid_1's auc: 0.854142\tvalid_1's binary_logloss: 0.458246\n",
      "[75]\ttraining's auc: 0.897258\ttraining's binary_logloss: 0.410971\tvalid_1's auc: 0.854142\tvalid_1's binary_logloss: 0.457654\n",
      "[76]\ttraining's auc: 0.897233\ttraining's binary_logloss: 0.410046\tvalid_1's auc: 0.854142\tvalid_1's binary_logloss: 0.45687\n",
      "[77]\ttraining's auc: 0.89785\ttraining's binary_logloss: 0.409028\tvalid_1's auc: 0.854795\tvalid_1's binary_logloss: 0.456334\n",
      "[78]\ttraining's auc: 0.898061\ttraining's binary_logloss: 0.408169\tvalid_1's auc: 0.855055\tvalid_1's binary_logloss: 0.45561\n",
      "[79]\ttraining's auc: 0.898226\ttraining's binary_logloss: 0.407342\tvalid_1's auc: 0.854664\tvalid_1's binary_logloss: 0.455277\n"
     ]
    },
    {
     "name": "stdout",
     "output_type": "stream",
     "text": [
      "[80]\ttraining's auc: 0.89826\ttraining's binary_logloss: 0.406423\tvalid_1's auc: 0.854925\tvalid_1's binary_logloss: 0.454814\n",
      "[81]\ttraining's auc: 0.898547\ttraining's binary_logloss: 0.405294\tvalid_1's auc: 0.855055\tvalid_1's binary_logloss: 0.453583\n",
      "[82]\ttraining's auc: 0.898876\ttraining's binary_logloss: 0.404207\tvalid_1's auc: 0.854925\tvalid_1's binary_logloss: 0.452401\n",
      "[83]\ttraining's auc: 0.899037\ttraining's binary_logloss: 0.403126\tvalid_1's auc: 0.854664\tvalid_1's binary_logloss: 0.451468\n",
      "[84]\ttraining's auc: 0.899189\ttraining's binary_logloss: 0.402113\tvalid_1's auc: 0.854534\tvalid_1's binary_logloss: 0.450565\n",
      "[85]\ttraining's auc: 0.89913\ttraining's binary_logloss: 0.401103\tvalid_1's auc: 0.854142\tvalid_1's binary_logloss: 0.449714\n",
      "[86]\ttraining's auc: 0.899594\ttraining's binary_logloss: 0.400154\tvalid_1's auc: 0.855055\tvalid_1's binary_logloss: 0.448699\n",
      "[87]\ttraining's auc: 0.899603\ttraining's binary_logloss: 0.399209\tvalid_1's auc: 0.855186\tvalid_1's binary_logloss: 0.447923\n",
      "[88]\ttraining's auc: 0.899772\ttraining's binary_logloss: 0.398325\tvalid_1's auc: 0.854664\tvalid_1's binary_logloss: 0.447169\n",
      "[89]\ttraining's auc: 0.899763\ttraining's binary_logloss: 0.397467\tvalid_1's auc: 0.854142\tvalid_1's binary_logloss: 0.446263\n",
      "[90]\ttraining's auc: 0.899831\ttraining's binary_logloss: 0.396611\tvalid_1's auc: 0.854273\tvalid_1's binary_logloss: 0.445588\n",
      "[91]\ttraining's auc: 0.900249\ttraining's binary_logloss: 0.395983\tvalid_1's auc: 0.853294\tvalid_1's binary_logloss: 0.444989\n",
      "[92]\ttraining's auc: 0.899962\ttraining's binary_logloss: 0.395381\tvalid_1's auc: 0.853294\tvalid_1's binary_logloss: 0.444419\n",
      "[93]\ttraining's auc: 0.899861\ttraining's binary_logloss: 0.394773\tvalid_1's auc: 0.853555\tvalid_1's binary_logloss: 0.443787\n",
      "[94]\ttraining's auc: 0.899877\ttraining's binary_logloss: 0.394187\tvalid_1's auc: 0.853555\tvalid_1's binary_logloss: 0.443181\n",
      "[95]\ttraining's auc: 0.900004\ttraining's binary_logloss: 0.393624\tvalid_1's auc: 0.853686\tvalid_1's binary_logloss: 0.4426\n",
      "[96]\ttraining's auc: 0.900089\ttraining's binary_logloss: 0.393081\tvalid_1's auc: 0.853816\tvalid_1's binary_logloss: 0.442043\n",
      "[97]\ttraining's auc: 0.900013\ttraining's binary_logloss: 0.392559\tvalid_1's auc: 0.853947\tvalid_1's binary_logloss: 0.441509\n",
      "[98]\ttraining's auc: 0.900038\ttraining's binary_logloss: 0.392056\tvalid_1's auc: 0.853947\tvalid_1's binary_logloss: 0.440998\n",
      "[99]\ttraining's auc: 0.900114\ttraining's binary_logloss: 0.391573\tvalid_1's auc: 0.854207\tvalid_1's binary_logloss: 0.440507\n",
      "[100]\ttraining's auc: 0.900182\ttraining's binary_logloss: 0.39108\tvalid_1's auc: 0.854338\tvalid_1's binary_logloss: 0.440096\n",
      "[101]\ttraining's auc: 0.901052\ttraining's binary_logloss: 0.390373\tvalid_1's auc: 0.857273\tvalid_1's binary_logloss: 0.439637\n",
      "[102]\ttraining's auc: 0.901301\ttraining's binary_logloss: 0.389605\tvalid_1's auc: 0.856491\tvalid_1's binary_logloss: 0.439289\n",
      "[103]\ttraining's auc: 0.902023\ttraining's binary_logloss: 0.388942\tvalid_1's auc: 0.85636\tvalid_1's binary_logloss: 0.439122\n",
      "[104]\ttraining's auc: 0.901998\ttraining's binary_logloss: 0.388188\tvalid_1's auc: 0.85623\tvalid_1's binary_logloss: 0.438828\n",
      "[105]\ttraining's auc: 0.902125\ttraining's binary_logloss: 0.387575\tvalid_1's auc: 0.855969\tvalid_1's binary_logloss: 0.438698\n",
      "[106]\ttraining's auc: 0.902332\ttraining's binary_logloss: 0.386933\tvalid_1's auc: 0.855382\tvalid_1's binary_logloss: 0.438577\n",
      "[107]\ttraining's auc: 0.902661\ttraining's binary_logloss: 0.386292\tvalid_1's auc: 0.855121\tvalid_1's binary_logloss: 0.43834\n",
      "[108]\ttraining's auc: 0.903025\ttraining's binary_logloss: 0.385742\tvalid_1's auc: 0.855903\tvalid_1's binary_logloss: 0.438257\n",
      "[109]\ttraining's auc: 0.903202\ttraining's binary_logloss: 0.385103\tvalid_1's auc: 0.855643\tvalid_1's binary_logloss: 0.438068\n",
      "[110]\ttraining's auc: 0.903684\ttraining's binary_logloss: 0.384592\tvalid_1's auc: 0.855643\tvalid_1's binary_logloss: 0.438013\n",
      "[111]\ttraining's auc: 0.903967\ttraining's binary_logloss: 0.383822\tvalid_1's auc: 0.854403\tvalid_1's binary_logloss: 0.437913\n",
      "[112]\ttraining's auc: 0.903739\ttraining's binary_logloss: 0.383083\tvalid_1's auc: 0.854142\tvalid_1's binary_logloss: 0.437837\n",
      "[113]\ttraining's auc: 0.903713\ttraining's binary_logloss: 0.382376\tvalid_1's auc: 0.854273\tvalid_1's binary_logloss: 0.437783\n",
      "[114]\ttraining's auc: 0.903967\ttraining's binary_logloss: 0.381654\tvalid_1's auc: 0.854664\tvalid_1's binary_logloss: 0.437793\n",
      "[115]\ttraining's auc: 0.903789\ttraining's binary_logloss: 0.381002\tvalid_1's auc: 0.855186\tvalid_1's binary_logloss: 0.437777\n",
      "[116]\ttraining's auc: 0.904186\ttraining's binary_logloss: 0.380332\tvalid_1's auc: 0.854925\tvalid_1's binary_logloss: 0.437824\n",
      "[117]\ttraining's auc: 0.904453\ttraining's binary_logloss: 0.379717\tvalid_1's auc: 0.855055\tvalid_1's binary_logloss: 0.437647\n",
      "[118]\ttraining's auc: 0.904706\ttraining's binary_logloss: 0.379095\tvalid_1's auc: 0.854795\tvalid_1's binary_logloss: 0.437728\n",
      "[119]\ttraining's auc: 0.904554\ttraining's binary_logloss: 0.378528\tvalid_1's auc: 0.854664\tvalid_1's binary_logloss: 0.437584\n",
      "[120]\ttraining's auc: 0.90466\ttraining's binary_logloss: 0.378019\tvalid_1's auc: 0.856099\tvalid_1's binary_logloss: 0.437223\n",
      "[121]\ttraining's auc: 0.904926\ttraining's binary_logloss: 0.377397\tvalid_1's auc: 0.855643\tvalid_1's binary_logloss: 0.436766\n",
      "[122]\ttraining's auc: 0.905112\ttraining's binary_logloss: 0.376801\tvalid_1's auc: 0.855903\tvalid_1's binary_logloss: 0.436332\n",
      "[123]\ttraining's auc: 0.90512\ttraining's binary_logloss: 0.37623\tvalid_1's auc: 0.855903\tvalid_1's binary_logloss: 0.435918\n",
      "[124]\ttraining's auc: 0.905035\ttraining's binary_logloss: 0.375684\tvalid_1's auc: 0.855903\tvalid_1's binary_logloss: 0.435525\n",
      "[125]\ttraining's auc: 0.905027\ttraining's binary_logloss: 0.375162\tvalid_1's auc: 0.856686\tvalid_1's binary_logloss: 0.435151\n",
      "[126]\ttraining's auc: 0.9052\ttraining's binary_logloss: 0.374711\tvalid_1's auc: 0.856295\tvalid_1's binary_logloss: 0.435179\n",
      "[127]\ttraining's auc: 0.905048\ttraining's binary_logloss: 0.374216\tvalid_1's auc: 0.856425\tvalid_1's binary_logloss: 0.43483\n",
      "[128]\ttraining's auc: 0.905462\ttraining's binary_logloss: 0.373682\tvalid_1's auc: 0.856034\tvalid_1's binary_logloss: 0.434864\n",
      "[129]\ttraining's auc: 0.90553\ttraining's binary_logloss: 0.373207\tvalid_1's auc: 0.856164\tvalid_1's binary_logloss: 0.434464\n",
      "[130]\ttraining's auc: 0.905471\ttraining's binary_logloss: 0.372807\tvalid_1's auc: 0.85623\tvalid_1's binary_logloss: 0.434171\n",
      "[131]\ttraining's auc: 0.905475\ttraining's binary_logloss: 0.372193\tvalid_1's auc: 0.857143\tvalid_1's binary_logloss: 0.433651\n",
      "[132]\ttraining's auc: 0.905551\ttraining's binary_logloss: 0.371617\tvalid_1's auc: 0.857665\tvalid_1's binary_logloss: 0.433152\n",
      "[133]\ttraining's auc: 0.905648\ttraining's binary_logloss: 0.371194\tvalid_1's auc: 0.85786\tvalid_1's binary_logloss: 0.433137\n",
      "[134]\ttraining's auc: 0.905842\ttraining's binary_logloss: 0.370802\tvalid_1's auc: 0.857991\tvalid_1's binary_logloss: 0.433135\n",
      "[135]\ttraining's auc: 0.90678\ttraining's binary_logloss: 0.370372\tvalid_1's auc: 0.857469\tvalid_1's binary_logloss: 0.433286\n",
      "[136]\ttraining's auc: 0.907084\ttraining's binary_logloss: 0.369965\tvalid_1's auc: 0.857339\tvalid_1's binary_logloss: 0.433442\n",
      "[137]\ttraining's auc: 0.907519\ttraining's binary_logloss: 0.369634\tvalid_1's auc: 0.857339\tvalid_1's binary_logloss: 0.433669\n",
      "[138]\ttraining's auc: 0.908069\ttraining's binary_logloss: 0.369265\tvalid_1's auc: 0.856947\tvalid_1's binary_logloss: 0.433837\n",
      "[139]\ttraining's auc: 0.908694\ttraining's binary_logloss: 0.368845\tvalid_1's auc: 0.857339\tvalid_1's binary_logloss: 0.434051\n",
      "[140]\ttraining's auc: 0.908863\ttraining's binary_logloss: 0.368383\tvalid_1's auc: 0.857208\tvalid_1's binary_logloss: 0.433835\n",
      "[141]\ttraining's auc: 0.908998\ttraining's binary_logloss: 0.367803\tvalid_1's auc: 0.857991\tvalid_1's binary_logloss: 0.433456\n",
      "[142]\ttraining's auc: 0.909116\ttraining's binary_logloss: 0.367312\tvalid_1's auc: 0.857469\tvalid_1's binary_logloss: 0.433156\n",
      "[143]\ttraining's auc: 0.909518\ttraining's binary_logloss: 0.366689\tvalid_1's auc: 0.858056\tvalid_1's binary_logloss: 0.432812\n",
      "[144]\ttraining's auc: 0.909805\ttraining's binary_logloss: 0.366233\tvalid_1's auc: 0.858187\tvalid_1's binary_logloss: 0.432419\n",
      "[145]\ttraining's auc: 0.910346\ttraining's binary_logloss: 0.365791\tvalid_1's auc: 0.858969\tvalid_1's binary_logloss: 0.432173\n",
      "[146]\ttraining's auc: 0.910346\ttraining's binary_logloss: 0.36537\tvalid_1's auc: 0.860404\tvalid_1's binary_logloss: 0.431818\n",
      "[147]\ttraining's auc: 0.9107\ttraining's binary_logloss: 0.364958\tvalid_1's auc: 0.861187\tvalid_1's binary_logloss: 0.431741\n",
      "[148]\ttraining's auc: 0.910278\ttraining's binary_logloss: 0.364538\tvalid_1's auc: 0.86184\tvalid_1's binary_logloss: 0.431446\n",
      "[149]\ttraining's auc: 0.910384\ttraining's binary_logloss: 0.364144\tvalid_1's auc: 0.86184\tvalid_1's binary_logloss: 0.431488\n",
      "[150]\ttraining's auc: 0.910341\ttraining's binary_logloss: 0.363774\tvalid_1's auc: 0.862231\tvalid_1's binary_logloss: 0.431458\n",
      "[151]\ttraining's auc: 0.91043\ttraining's binary_logloss: 0.363328\tvalid_1's auc: 0.862361\tvalid_1's binary_logloss: 0.431347\n",
      "[152]\ttraining's auc: 0.910624\ttraining's binary_logloss: 0.362908\tvalid_1's auc: 0.862492\tvalid_1's binary_logloss: 0.431328\n",
      "[153]\ttraining's auc: 0.910633\ttraining's binary_logloss: 0.362495\tvalid_1's auc: 0.863144\tvalid_1's binary_logloss: 0.431581\n",
      "[154]\ttraining's auc: 0.910688\ttraining's binary_logloss: 0.362103\tvalid_1's auc: 0.863275\tvalid_1's binary_logloss: 0.43179\n",
      "[155]\ttraining's auc: 0.910654\ttraining's binary_logloss: 0.361714\tvalid_1's auc: 0.863014\tvalid_1's binary_logloss: 0.431871\n",
      "[156]\ttraining's auc: 0.910645\ttraining's binary_logloss: 0.361341\tvalid_1's auc: 0.862753\tvalid_1's binary_logloss: 0.431964\n",
      "[157]\ttraining's auc: 0.910755\ttraining's binary_logloss: 0.360984\tvalid_1's auc: 0.862492\tvalid_1's binary_logloss: 0.432195\n",
      "[158]\ttraining's auc: 0.910814\ttraining's binary_logloss: 0.360632\tvalid_1's auc: 0.862753\tvalid_1's binary_logloss: 0.432306\n"
     ]
    },
    {
     "name": "stdout",
     "output_type": "stream",
     "text": [
      "[159]\ttraining's auc: 0.910882\ttraining's binary_logloss: 0.360285\tvalid_1's auc: 0.863014\tvalid_1's binary_logloss: 0.43261\n",
      "[160]\ttraining's auc: 0.911009\ttraining's binary_logloss: 0.35996\tvalid_1's auc: 0.863536\tvalid_1's binary_logloss: 0.432862\n",
      "[161]\ttraining's auc: 0.911292\ttraining's binary_logloss: 0.359445\tvalid_1's auc: 0.863666\tvalid_1's binary_logloss: 0.43228\n",
      "[162]\ttraining's auc: 0.911469\ttraining's binary_logloss: 0.358953\tvalid_1's auc: 0.864057\tvalid_1's binary_logloss: 0.431731\n",
      "[163]\ttraining's auc: 0.911537\ttraining's binary_logloss: 0.358483\tvalid_1's auc: 0.864188\tvalid_1's binary_logloss: 0.431212\n",
      "[164]\ttraining's auc: 0.911697\ttraining's binary_logloss: 0.358034\tvalid_1's auc: 0.864449\tvalid_1's binary_logloss: 0.43072\n",
      "[165]\ttraining's auc: 0.91179\ttraining's binary_logloss: 0.357605\tvalid_1's auc: 0.864579\tvalid_1's binary_logloss: 0.430254\n",
      "[166]\ttraining's auc: 0.911985\ttraining's binary_logloss: 0.357194\tvalid_1's auc: 0.86471\tvalid_1's binary_logloss: 0.429811\n",
      "[167]\ttraining's auc: 0.912128\ttraining's binary_logloss: 0.356801\tvalid_1's auc: 0.864971\tvalid_1's binary_logloss: 0.429389\n",
      "[168]\ttraining's auc: 0.912306\ttraining's binary_logloss: 0.356425\tvalid_1's auc: 0.864971\tvalid_1's binary_logloss: 0.428987\n",
      "[169]\ttraining's auc: 0.912584\ttraining's binary_logloss: 0.356065\tvalid_1's auc: 0.865101\tvalid_1's binary_logloss: 0.428603\n",
      "[170]\ttraining's auc: 0.912745\ttraining's binary_logloss: 0.355719\tvalid_1's auc: 0.865101\tvalid_1's binary_logloss: 0.428236\n",
      "[171]\ttraining's auc: 0.912808\ttraining's binary_logloss: 0.355311\tvalid_1's auc: 0.864579\tvalid_1's binary_logloss: 0.428467\n",
      "[172]\ttraining's auc: 0.912884\ttraining's binary_logloss: 0.35492\tvalid_1's auc: 0.864449\tvalid_1's binary_logloss: 0.428768\n",
      "[173]\ttraining's auc: 0.913146\ttraining's binary_logloss: 0.354623\tvalid_1's auc: 0.864449\tvalid_1's binary_logloss: 0.428889\n",
      "[174]\ttraining's auc: 0.91351\ttraining's binary_logloss: 0.354342\tvalid_1's auc: 0.864579\tvalid_1's binary_logloss: 0.429014\n",
      "[175]\ttraining's auc: 0.913611\ttraining's binary_logloss: 0.354075\tvalid_1's auc: 0.864449\tvalid_1's binary_logloss: 0.429143\n",
      "[176]\ttraining's auc: 0.913653\ttraining's binary_logloss: 0.353822\tvalid_1's auc: 0.86471\tvalid_1's binary_logloss: 0.429414\n",
      "[177]\ttraining's auc: 0.914135\ttraining's binary_logloss: 0.353435\tvalid_1's auc: 0.864057\tvalid_1's binary_logloss: 0.429529\n",
      "[178]\ttraining's auc: 0.914329\ttraining's binary_logloss: 0.353193\tvalid_1's auc: 0.864188\tvalid_1's binary_logloss: 0.429663\n",
      "[179]\ttraining's auc: 0.914312\ttraining's binary_logloss: 0.352961\tvalid_1's auc: 0.864057\tvalid_1's binary_logloss: 0.429938\n",
      "[180]\ttraining's auc: 0.914549\ttraining's binary_logloss: 0.352597\tvalid_1's auc: 0.863275\tvalid_1's binary_logloss: 0.430061\n",
      "[181]\ttraining's auc: 0.914714\ttraining's binary_logloss: 0.352218\tvalid_1's auc: 0.862622\tvalid_1's binary_logloss: 0.430007\n",
      "[182]\ttraining's auc: 0.914942\ttraining's binary_logloss: 0.351855\tvalid_1's auc: 0.862361\tvalid_1's binary_logloss: 0.429966\n",
      "[183]\ttraining's auc: 0.915161\ttraining's binary_logloss: 0.351527\tvalid_1's auc: 0.862231\tvalid_1's binary_logloss: 0.430002\n",
      "[184]\ttraining's auc: 0.915389\ttraining's binary_logloss: 0.351158\tvalid_1's auc: 0.8621\tvalid_1's binary_logloss: 0.429898\n",
      "[185]\ttraining's auc: 0.915558\ttraining's binary_logloss: 0.350849\tvalid_1's auc: 0.862231\tvalid_1's binary_logloss: 0.42995\n",
      "[186]\ttraining's auc: 0.915757\ttraining's binary_logloss: 0.350366\tvalid_1's auc: 0.862296\tvalid_1's binary_logloss: 0.429624\n",
      "[187]\ttraining's auc: 0.915808\ttraining's binary_logloss: 0.350076\tvalid_1's auc: 0.860861\tvalid_1's binary_logloss: 0.42969\n",
      "[188]\ttraining's auc: 0.915888\ttraining's binary_logloss: 0.349838\tvalid_1's auc: 0.860861\tvalid_1's binary_logloss: 0.429601\n",
      "[189]\ttraining's auc: 0.915998\ttraining's binary_logloss: 0.349387\tvalid_1's auc: 0.860992\tvalid_1's binary_logloss: 0.429308\n",
      "[190]\ttraining's auc: 0.917058\ttraining's binary_logloss: 0.348933\tvalid_1's auc: 0.860926\tvalid_1's binary_logloss: 0.429488\n",
      "[191]\ttraining's auc: 0.917552\ttraining's binary_logloss: 0.34834\tvalid_1's auc: 0.861057\tvalid_1's binary_logloss: 0.42936\n",
      "[192]\ttraining's auc: 0.917814\ttraining's binary_logloss: 0.347775\tvalid_1's auc: 0.860665\tvalid_1's binary_logloss: 0.429243\n",
      "[193]\ttraining's auc: 0.918102\ttraining's binary_logloss: 0.347237\tvalid_1's auc: 0.860796\tvalid_1's binary_logloss: 0.429137\n",
      "[194]\ttraining's auc: 0.918228\ttraining's binary_logloss: 0.346724\tvalid_1's auc: 0.860665\tvalid_1's binary_logloss: 0.429041\n",
      "[195]\ttraining's auc: 0.918313\ttraining's binary_logloss: 0.346439\tvalid_1's auc: 0.860535\tvalid_1's binary_logloss: 0.429283\n",
      "[196]\ttraining's auc: 0.918558\ttraining's binary_logloss: 0.34596\tvalid_1's auc: 0.860665\tvalid_1's binary_logloss: 0.429202\n",
      "[197]\ttraining's auc: 0.919006\ttraining's binary_logloss: 0.345699\tvalid_1's auc: 0.860796\tvalid_1's binary_logloss: 0.429447\n",
      "[198]\ttraining's auc: 0.919614\ttraining's binary_logloss: 0.345251\tvalid_1's auc: 0.860796\tvalid_1's binary_logloss: 0.42938\n",
      "[199]\ttraining's auc: 0.919817\ttraining's binary_logloss: 0.345014\tvalid_1's auc: 0.860274\tvalid_1's binary_logloss: 0.429629\n",
      "[200]\ttraining's auc: 0.920007\ttraining's binary_logloss: 0.344513\tvalid_1's auc: 0.860665\tvalid_1's binary_logloss: 0.429836\n",
      "[201]\ttraining's auc: 0.91999\ttraining's binary_logloss: 0.344132\tvalid_1's auc: 0.861187\tvalid_1's binary_logloss: 0.429902\n",
      "[202]\ttraining's auc: 0.920142\ttraining's binary_logloss: 0.34374\tvalid_1's auc: 0.861057\tvalid_1's binary_logloss: 0.430093\n",
      "[203]\ttraining's auc: 0.920117\ttraining's binary_logloss: 0.343366\tvalid_1's auc: 0.860404\tvalid_1's binary_logloss: 0.430295\n",
      "[204]\ttraining's auc: 0.920142\ttraining's binary_logloss: 0.343031\tvalid_1's auc: 0.860404\tvalid_1's binary_logloss: 0.430389\n",
      "[205]\ttraining's auc: 0.920184\ttraining's binary_logloss: 0.342611\tvalid_1's auc: 0.860209\tvalid_1's binary_logloss: 0.430616\n",
      "[206]\ttraining's auc: 0.919948\ttraining's binary_logloss: 0.342343\tvalid_1's auc: 0.860078\tvalid_1's binary_logloss: 0.430757\n",
      "[207]\ttraining's auc: 0.919981\ttraining's binary_logloss: 0.342044\tvalid_1's auc: 0.860209\tvalid_1's binary_logloss: 0.430875\n",
      "[208]\ttraining's auc: 0.920133\ttraining's binary_logloss: 0.341768\tvalid_1's auc: 0.860339\tvalid_1's binary_logloss: 0.430685\n",
      "[209]\ttraining's auc: 0.920522\ttraining's binary_logloss: 0.341367\tvalid_1's auc: 0.859817\tvalid_1's binary_logloss: 0.430735\n",
      "[210]\ttraining's auc: 0.920716\ttraining's binary_logloss: 0.341106\tvalid_1's auc: 0.859948\tvalid_1's binary_logloss: 0.430555\n",
      "[211]\ttraining's auc: 0.920797\ttraining's binary_logloss: 0.340916\tvalid_1's auc: 0.859556\tvalid_1's binary_logloss: 0.430582\n",
      "[212]\ttraining's auc: 0.921025\ttraining's binary_logloss: 0.340733\tvalid_1's auc: 0.859687\tvalid_1's binary_logloss: 0.430616\n",
      "[213]\ttraining's auc: 0.921168\ttraining's binary_logloss: 0.340558\tvalid_1's auc: 0.859948\tvalid_1's binary_logloss: 0.430656\n",
      "[214]\ttraining's auc: 0.921283\ttraining's binary_logloss: 0.340371\tvalid_1's auc: 0.859687\tvalid_1's binary_logloss: 0.430739\n",
      "[215]\ttraining's auc: 0.921316\ttraining's binary_logloss: 0.340209\tvalid_1's auc: 0.859556\tvalid_1's binary_logloss: 0.430792\n",
      "[216]\ttraining's auc: 0.921511\ttraining's binary_logloss: 0.339926\tvalid_1's auc: 0.859556\tvalid_1's binary_logloss: 0.430858\n",
      "[217]\ttraining's auc: 0.921553\ttraining's binary_logloss: 0.339743\tvalid_1's auc: 0.859817\tvalid_1's binary_logloss: 0.431027\n",
      "[218]\ttraining's auc: 0.921646\ttraining's binary_logloss: 0.339476\tvalid_1's auc: 0.860078\tvalid_1's binary_logloss: 0.431104\n",
      "[219]\ttraining's auc: 0.921739\ttraining's binary_logloss: 0.339336\tvalid_1's auc: 0.860339\tvalid_1's binary_logloss: 0.431174\n",
      "Early stopping, best iteration is:\n",
      "[169]\ttraining's auc: 0.912584\ttraining's binary_logloss: 0.356065\tvalid_1's auc: 0.865101\tvalid_1's binary_logloss: 0.428603\n"
     ]
    }
   ],
   "source": [
    "y_pred_train, y_pred_test, feature_importance = train_lgb(X_train, X_test, y_train, y_test, params=params)"
   ]
  },
  {
   "cell_type": "code",
   "execution_count": 36,
   "metadata": {},
   "outputs": [
    {
     "name": "stdout",
     "output_type": "stream",
     "text": [
      "0.8631875881523272\n",
      "0.8258426966292135\n"
     ]
    }
   ],
   "source": [
    "print(calc_accuracy(y_pred_train, y_train))\n",
    "print(calc_accuracy(y_pred_test, y_test))"
   ]
  },
  {
   "cell_type": "code",
   "execution_count": 37,
   "metadata": {},
   "outputs": [
    {
     "data": {
      "image/png": "[encoded data removed]",
      "text/plain": [
       "<Figure size 1152x864 with 1 Axes>"
      ]
     },
     "metadata": {
      "needs_background": "light"
     },
     "output_type": "display_data"
    }
   ],
   "source": [
    "plot_feature_importance(feature_importance, title = 'Importance Titanic')"
   ]
  },
  {
   "cell_type": "code",
   "execution_count": null,
   "metadata": {},
   "outputs": [],
   "source": []
  },
  {
   "cell_type": "markdown",
   "metadata": {},
   "source": [
    "**Exercise:** Try tuning, adding, removing params.\n",
    "    \n",
    "See https://lightgbm.readthedocs.io/en/latest/Parameters.html"
   ]
  },
  {
   "cell_type": "code",
   "execution_count": 41,
   "metadata": {},
   "outputs": [],
   "source": [
    "params = {\n",
    "          'n_estimators': 500,  # Number of trees\n",
    "          'num_leaves': 60,  # max number of leaves in tree\n",
    "          'min_data_in_leaf': 2,\n",
    "          'max_depth': -1,\n",
    "          'learning_rate': 0.001,\n",
    "          \"boosting\": \"gbdt\",\n",
    "          \"bagging_freq\": 10,\n",
    "          'num_threads': 8,\n",
    "          \"bagging_fraction\": 0.7,\n",
    "          \"bagging_seed\": 11,\n",
    "          \"metric\": 'binary_logloss',\n",
    "          \"tree_learner\": \"feature\", \n",
    "         }"
   ]
  },
  {
   "cell_type": "code",
   "execution_count": 42,
   "metadata": {
    "scrolled": true
   },
   "outputs": [
    {
     "name": "stdout",
     "output_type": "stream",
     "text": [
      "[1]\ttraining's auc: 0.951956\ttraining's binary_logloss: 0.596067\tvalid_1's auc: 0.754077\tvalid_1's binary_logloss: 0.63453\n",
      "Training until validation scores don't improve for 50 rounds\n",
      "[2]\ttraining's auc: 0.956223\ttraining's binary_logloss: 0.541783\tvalid_1's auc: 0.753555\tvalid_1's binary_logloss: 0.599741\n",
      "[3]\ttraining's auc: 0.954013\ttraining's binary_logloss: 0.4971\tvalid_1's auc: 0.757534\tvalid_1's binary_logloss: 0.575045\n",
      "[4]\ttraining's auc: 0.95972\ttraining's binary_logloss: 0.45761\tvalid_1's auc: 0.807371\tvalid_1's binary_logloss: 0.550108\n",
      "[5]\ttraining's auc: 0.969774\ttraining's binary_logloss: 0.425194\tvalid_1's auc: 0.815786\tvalid_1's binary_logloss: 0.534921\n",
      "[6]\ttraining's auc: 0.976293\ttraining's binary_logloss: 0.396283\tvalid_1's auc: 0.810502\tvalid_1's binary_logloss: 0.523254\n",
      "[7]\ttraining's auc: 0.97775\ttraining's binary_logloss: 0.370492\tvalid_1's auc: 0.817613\tvalid_1's binary_logloss: 0.51125\n",
      "[8]\ttraining's auc: 0.979115\ttraining's binary_logloss: 0.348144\tvalid_1's auc: 0.818591\tvalid_1's binary_logloss: 0.505911\n",
      "[9]\ttraining's auc: 0.980264\ttraining's binary_logloss: 0.3281\tvalid_1's auc: 0.821005\tvalid_1's binary_logloss: 0.499959\n",
      "[10]\ttraining's auc: 0.981911\ttraining's binary_logloss: 0.310233\tvalid_1's auc: 0.818069\tvalid_1's binary_logloss: 0.496353\n",
      "[11]\ttraining's auc: 0.98246\ttraining's binary_logloss: 0.294773\tvalid_1's auc: 0.822244\tvalid_1's binary_logloss: 0.492439\n",
      "[12]\ttraining's auc: 0.98279\ttraining's binary_logloss: 0.280954\tvalid_1's auc: 0.821592\tvalid_1's binary_logloss: 0.494246\n",
      "[13]\ttraining's auc: 0.983309\ttraining's binary_logloss: 0.268223\tvalid_1's auc: 0.823157\tvalid_1's binary_logloss: 0.49365\n",
      "[14]\ttraining's auc: 0.985903\ttraining's binary_logloss: 0.255138\tvalid_1's auc: 0.829615\tvalid_1's binary_logloss: 0.491276\n",
      "[15]\ttraining's auc: 0.986435\ttraining's binary_logloss: 0.24434\tvalid_1's auc: 0.833333\tvalid_1's binary_logloss: 0.490903\n",
      "[16]\ttraining's auc: 0.98769\ttraining's binary_logloss: 0.23347\tvalid_1's auc: 0.836138\tvalid_1's binary_logloss: 0.489813\n",
      "[17]\ttraining's auc: 0.988679\ttraining's binary_logloss: 0.223425\tvalid_1's auc: 0.833138\tvalid_1's binary_logloss: 0.490767\n",
      "[18]\ttraining's auc: 0.989878\ttraining's binary_logloss: 0.213509\tvalid_1's auc: 0.839139\tvalid_1's binary_logloss: 0.490134\n",
      "[19]\ttraining's auc: 0.990837\ttraining's binary_logloss: 0.204585\tvalid_1's auc: 0.838356\tvalid_1's binary_logloss: 0.492109\n",
      "[20]\ttraining's auc: 0.992126\ttraining's binary_logloss: 0.195672\tvalid_1's auc: 0.836725\tvalid_1's binary_logloss: 0.493865\n",
      "[21]\ttraining's auc: 0.992679\ttraining's binary_logloss: 0.188314\tvalid_1's auc: 0.837378\tvalid_1's binary_logloss: 0.497206\n",
      "[22]\ttraining's auc: 0.993363\ttraining's binary_logloss: 0.180648\tvalid_1's auc: 0.835943\tvalid_1's binary_logloss: 0.500545\n",
      "[23]\ttraining's auc: 0.993896\ttraining's binary_logloss: 0.173458\tvalid_1's auc: 0.834247\tvalid_1's binary_logloss: 0.505303\n",
      "[24]\ttraining's auc: 0.994217\ttraining's binary_logloss: 0.167153\tvalid_1's auc: 0.835551\tvalid_1's binary_logloss: 0.509728\n",
      "[25]\ttraining's auc: 0.994639\ttraining's binary_logloss: 0.161241\tvalid_1's auc: 0.837247\tvalid_1's binary_logloss: 0.512078\n",
      "[26]\ttraining's auc: 0.995205\ttraining's binary_logloss: 0.154654\tvalid_1's auc: 0.843249\tvalid_1's binary_logloss: 0.512482\n",
      "[27]\ttraining's auc: 0.995459\ttraining's binary_logloss: 0.14885\tvalid_1's auc: 0.844945\tvalid_1's binary_logloss: 0.511827\n",
      "[28]\ttraining's auc: 0.99605\ttraining's binary_logloss: 0.142739\tvalid_1's auc: 0.84501\tvalid_1's binary_logloss: 0.513972\n",
      "[29]\ttraining's auc: 0.996599\ttraining's binary_logloss: 0.13732\tvalid_1's auc: 0.848728\tvalid_1's binary_logloss: 0.513433\n",
      "[30]\ttraining's auc: 0.996878\ttraining's binary_logloss: 0.132531\tvalid_1's auc: 0.851076\tvalid_1's binary_logloss: 0.513546\n",
      "[31]\ttraining's auc: 0.99714\ttraining's binary_logloss: 0.128475\tvalid_1's auc: 0.850815\tvalid_1's binary_logloss: 0.515553\n",
      "[32]\ttraining's auc: 0.997385\ttraining's binary_logloss: 0.124501\tvalid_1's auc: 0.853686\tvalid_1's binary_logloss: 0.515023\n",
      "[33]\ttraining's auc: 0.997529\ttraining's binary_logloss: 0.120993\tvalid_1's auc: 0.852903\tvalid_1's binary_logloss: 0.520225\n",
      "[34]\ttraining's auc: 0.997706\ttraining's binary_logloss: 0.117584\tvalid_1's auc: 0.85199\tvalid_1's binary_logloss: 0.524333\n",
      "[35]\ttraining's auc: 0.997833\ttraining's binary_logloss: 0.114485\tvalid_1's auc: 0.851076\tvalid_1's binary_logloss: 0.531452\n",
      "[36]\ttraining's auc: 0.997985\ttraining's binary_logloss: 0.111555\tvalid_1's auc: 0.852642\tvalid_1's binary_logloss: 0.536233\n",
      "[37]\ttraining's auc: 0.998264\ttraining's binary_logloss: 0.107817\tvalid_1's auc: 0.852446\tvalid_1's binary_logloss: 0.539965\n",
      "[38]\ttraining's auc: 0.998382\ttraining's binary_logloss: 0.105186\tvalid_1's auc: 0.850881\tvalid_1's binary_logloss: 0.54525\n",
      "[39]\ttraining's auc: 0.998517\ttraining's binary_logloss: 0.10185\tvalid_1's auc: 0.849446\tvalid_1's binary_logloss: 0.550247\n",
      "[40]\ttraining's auc: 0.998576\ttraining's binary_logloss: 0.0992326\tvalid_1's auc: 0.850098\tvalid_1's binary_logloss: 0.551913\n",
      "[41]\ttraining's auc: 0.998669\ttraining's binary_logloss: 0.0959873\tvalid_1's auc: 0.849185\tvalid_1's binary_logloss: 0.556049\n",
      "[42]\ttraining's auc: 0.998762\ttraining's binary_logloss: 0.093876\tvalid_1's auc: 0.848532\tvalid_1's binary_logloss: 0.560675\n",
      "[43]\ttraining's auc: 0.998813\ttraining's binary_logloss: 0.0912867\tvalid_1's auc: 0.848924\tvalid_1's binary_logloss: 0.566427\n",
      "[44]\ttraining's auc: 0.99883\ttraining's binary_logloss: 0.0894289\tvalid_1's auc: 0.848532\tvalid_1's binary_logloss: 0.569652\n",
      "[45]\ttraining's auc: 0.998881\ttraining's binary_logloss: 0.0869696\tvalid_1's auc: 0.848402\tvalid_1's binary_logloss: 0.573133\n",
      "[46]\ttraining's auc: 0.998914\ttraining's binary_logloss: 0.0849106\tvalid_1's auc: 0.850098\tvalid_1's binary_logloss: 0.573742\n",
      "[47]\ttraining's auc: 0.99894\ttraining's binary_logloss: 0.083004\tvalid_1's auc: 0.850163\tvalid_1's binary_logloss: 0.576803\n",
      "[48]\ttraining's auc: 0.99899\ttraining's binary_logloss: 0.0809152\tvalid_1's auc: 0.848598\tvalid_1's binary_logloss: 0.582887\n",
      "[49]\ttraining's auc: 0.999016\ttraining's binary_logloss: 0.0790525\tvalid_1's auc: 0.847684\tvalid_1's binary_logloss: 0.588555\n",
      "[50]\ttraining's auc: 0.999024\ttraining's binary_logloss: 0.0773681\tvalid_1's auc: 0.847815\tvalid_1's binary_logloss: 0.58965\n",
      "[51]\ttraining's auc: 0.999041\ttraining's binary_logloss: 0.0760878\tvalid_1's auc: 0.848598\tvalid_1's binary_logloss: 0.590891\n",
      "[52]\ttraining's auc: 0.999083\ttraining's binary_logloss: 0.0742606\tvalid_1's auc: 0.849511\tvalid_1's binary_logloss: 0.594347\n",
      "[53]\ttraining's auc: 0.999092\ttraining's binary_logloss: 0.072948\tvalid_1's auc: 0.850033\tvalid_1's binary_logloss: 0.597063\n",
      "[54]\ttraining's auc: 0.999092\ttraining's binary_logloss: 0.0719088\tvalid_1's auc: 0.851337\tvalid_1's binary_logloss: 0.595758\n",
      "[55]\ttraining's auc: 0.999142\ttraining's binary_logloss: 0.0702345\tvalid_1's auc: 0.851207\tvalid_1's binary_logloss: 0.601593\n",
      "[56]\ttraining's auc: 0.999159\ttraining's binary_logloss: 0.0689571\tvalid_1's auc: 0.851598\tvalid_1's binary_logloss: 0.605313\n",
      "[57]\ttraining's auc: 0.999176\ttraining's binary_logloss: 0.0679675\tvalid_1's auc: 0.851207\tvalid_1's binary_logloss: 0.607569\n",
      "[58]\ttraining's auc: 0.999185\ttraining's binary_logloss: 0.0667965\tvalid_1's auc: 0.852772\tvalid_1's binary_logloss: 0.612224\n",
      "[59]\ttraining's auc: 0.999193\ttraining's binary_logloss: 0.0656927\tvalid_1's auc: 0.851337\tvalid_1's binary_logloss: 0.617337\n",
      "[60]\ttraining's auc: 0.999202\ttraining's binary_logloss: 0.0647009\tvalid_1's auc: 0.852642\tvalid_1's binary_logloss: 0.617065\n",
      "[61]\ttraining's auc: 0.999202\ttraining's binary_logloss: 0.06339\tvalid_1's auc: 0.852772\tvalid_1's binary_logloss: 0.618501\n",
      "[62]\ttraining's auc: 0.999218\ttraining's binary_logloss: 0.0623526\tvalid_1's auc: 0.853947\tvalid_1's binary_logloss: 0.620604\n",
      "[63]\ttraining's auc: 0.999235\ttraining's binary_logloss: 0.0614851\tvalid_1's auc: 0.855251\tvalid_1's binary_logloss: 0.619447\n",
      "[64]\ttraining's auc: 0.999235\ttraining's binary_logloss: 0.0603885\tvalid_1's auc: 0.85499\tvalid_1's binary_logloss: 0.624037\n",
      "[65]\ttraining's auc: 0.999244\ttraining's binary_logloss: 0.0591849\tvalid_1's auc: 0.853033\tvalid_1's binary_logloss: 0.631354\n",
      "[66]\ttraining's auc: 0.999244\ttraining's binary_logloss: 0.0581907\tvalid_1's auc: 0.853947\tvalid_1's binary_logloss: 0.633884\n",
      "Early stopping, best iteration is:\n",
      "[16]\ttraining's auc: 0.98769\ttraining's binary_logloss: 0.23347\tvalid_1's auc: 0.836138\tvalid_1's binary_logloss: 0.489813\n"
     ]
    }
   ],
   "source": [
    "y_pred_train, y_pred_test, feature_importance = train_lgb(X_train, X_test, y_train, y_test, params=params)"
   ]
  },
  {
   "cell_type": "code",
   "execution_count": 44,
   "metadata": {},
   "outputs": [
    {
     "name": "stdout",
     "output_type": "stream",
     "text": [
      "0.9421720733427362\n",
      "0.7752808988764045\n"
     ]
    },
    {
     "data": {
      "image/png": "[encoded data removed]",
      "text/plain": [
       "<Figure size 1152x864 with 1 Axes>"
      ]
     },
     "metadata": {
      "needs_background": "light"
     },
     "output_type": "display_data"
    }
   ],
   "source": [
    "print(calc_accuracy(y_pred_train, y_train))\n",
    "print(calc_accuracy(y_pred_test, y_test))\n",
    "plot_feature_importance(feature_importance, title = 'Importance Titanic')"
   ]
  },
  {
   "cell_type": "markdown",
   "metadata": {},
   "source": [
    "**Exercise:** Try creating new features, or removing unimportant features"
   ]
  },
  {
   "cell_type": "code",
   "execution_count": 83,
   "metadata": {
    "scrolled": true
   },
   "outputs": [
    {
     "data": {
      "text/plain": [
       "Index(['Survived', 'Pclass', 'Sex', 'Age', 'Siblings/Spouses Aboard',\n",
       "       'Parents/Children Aboard', 'Fare', 'family_size', 'single', 'elder'],\n",
       "      dtype='object')"
      ]
     },
     "execution_count": 83,
     "metadata": {},
     "output_type": "execute_result"
    }
   ],
   "source": [
    "df.columns"
   ]
  },
  {
   "cell_type": "code",
   "execution_count": 98,
   "metadata": {},
   "outputs": [],
   "source": [
    "y = df.Survived\n",
    "X = df.copy()\n",
    "X[\"child\"] = (X[\"Age\"] < 18) * 1.0\n",
    "X = X.drop(columns=[\"Age\", \"Fare\", \"Survived\"])"
   ]
  },
  {
   "cell_type": "code",
   "execution_count": 94,
   "metadata": {},
   "outputs": [],
   "source": [
    "scaler = StandardScaler()\n",
    "scaler.fit(X)\n",
    "X_scaled = pd.DataFrame(scaler.transform(X), columns=X.columns)"
   ]
  },
  {
   "cell_type": "code",
   "execution_count": 101,
   "metadata": {},
   "outputs": [],
   "source": [
    "X_train, X_test, y_train, y_test = train_test_split(X, y, test_size=0.2, random_state=20)"
   ]
  },
  {
   "cell_type": "code",
   "execution_count": 86,
   "metadata": {},
   "outputs": [],
   "source": [
    "params = {\n",
    "          'n_estimators': 5000,  # Number of trees\n",
    "          'num_leaves': 6,  # max number of leaves in tree\n",
    "          'min_data_in_leaf': 2,\n",
    "          'max_depth': -1,\n",
    "          'learning_rate': 0.001,\n",
    "          \"boosting\": \"gbdt\",\n",
    "          \"bagging_freq\": 10,\n",
    "          'num_threads': 8,\n",
    "          \"bagging_fraction\": 0.7,\n",
    "          \"bagging_seed\": 11,\n",
    "          \"metric\": 'binary_logloss',\n",
    "          \"tree_learner\": \"feature\", \n",
    "         }"
   ]
  },
  {
   "cell_type": "code",
   "execution_count": 87,
   "metadata": {},
   "outputs": [],
   "source": [
    "def train_lgb(X_train, X_valid, y_train, y_valid, params=None):\n",
    "\n",
    "    model = lgb.LGBMClassifier(**params)\n",
    "    model.fit(X_train, y_train, \n",
    "            eval_set=[(X_train, y_train), (X_valid, y_valid)], eval_metric=['auc', 'binary_logloss'],\n",
    "            verbose=1, early_stopping_rounds=50)\n",
    "\n",
    "    y_pred_train = model.predict(X_train)\n",
    "    y_pred_valid = model.predict(X_valid)\n",
    "\n",
    "    importance = pd.DataFrame()\n",
    "    importance[\"feature\"] = X.columns\n",
    "    importance[\"importance\"] = model.feature_importances_\n",
    "    return y_pred_train, y_pred_valid, importance"
   ]
  },
  {
   "cell_type": "code",
   "execution_count": 102,
   "metadata": {},
   "outputs": [
    {
     "data": {
      "text/html": [
       "<div>\n",
       "<style scoped>\n",
       "    .dataframe tbody tr th:only-of-type {\n",
       "        vertical-align: middle;\n",
       "    }\n",
       "\n",
       "    .dataframe tbody tr th {\n",
       "        vertical-align: top;\n",
       "    }\n",
       "\n",
       "    .dataframe thead th {\n",
       "        text-align: right;\n",
       "    }\n",
       "</style>\n",
       "<table border=\"1\" class=\"dataframe\">\n",
       "  <thead>\n",
       "    <tr style=\"text-align: right;\">\n",
       "      <th></th>\n",
       "      <th>Pclass</th>\n",
       "      <th>Sex</th>\n",
       "      <th>Siblings/Spouses Aboard</th>\n",
       "      <th>Parents/Children Aboard</th>\n",
       "      <th>family_size</th>\n",
       "      <th>single</th>\n",
       "      <th>elder</th>\n",
       "      <th>child</th>\n",
       "    </tr>\n",
       "  </thead>\n",
       "  <tbody>\n",
       "    <tr>\n",
       "      <th>605</th>\n",
       "      <td>2</td>\n",
       "      <td>2</td>\n",
       "      <td>1</td>\n",
       "      <td>2</td>\n",
       "      <td>3</td>\n",
       "      <td>0.0</td>\n",
       "      <td>0.0</td>\n",
       "      <td>0.0</td>\n",
       "    </tr>\n",
       "    <tr>\n",
       "      <th>768</th>\n",
       "      <td>2</td>\n",
       "      <td>2</td>\n",
       "      <td>0</td>\n",
       "      <td>0</td>\n",
       "      <td>0</td>\n",
       "      <td>1.0</td>\n",
       "      <td>0.0</td>\n",
       "      <td>0.0</td>\n",
       "    </tr>\n",
       "    <tr>\n",
       "      <th>29</th>\n",
       "      <td>3</td>\n",
       "      <td>1</td>\n",
       "      <td>0</td>\n",
       "      <td>0</td>\n",
       "      <td>0</td>\n",
       "      <td>1.0</td>\n",
       "      <td>0.0</td>\n",
       "      <td>0.0</td>\n",
       "    </tr>\n",
       "    <tr>\n",
       "      <th>49</th>\n",
       "      <td>3</td>\n",
       "      <td>1</td>\n",
       "      <td>4</td>\n",
       "      <td>1</td>\n",
       "      <td>5</td>\n",
       "      <td>0.0</td>\n",
       "      <td>0.0</td>\n",
       "      <td>1.0</td>\n",
       "    </tr>\n",
       "    <tr>\n",
       "      <th>105</th>\n",
       "      <td>3</td>\n",
       "      <td>2</td>\n",
       "      <td>0</td>\n",
       "      <td>0</td>\n",
       "      <td>0</td>\n",
       "      <td>1.0</td>\n",
       "      <td>0.0</td>\n",
       "      <td>0.0</td>\n",
       "    </tr>\n",
       "    <tr>\n",
       "      <th>...</th>\n",
       "      <td>...</td>\n",
       "      <td>...</td>\n",
       "      <td>...</td>\n",
       "      <td>...</td>\n",
       "      <td>...</td>\n",
       "      <td>...</td>\n",
       "      <td>...</td>\n",
       "      <td>...</td>\n",
       "    </tr>\n",
       "    <tr>\n",
       "      <th>218</th>\n",
       "      <td>2</td>\n",
       "      <td>1</td>\n",
       "      <td>0</td>\n",
       "      <td>0</td>\n",
       "      <td>0</td>\n",
       "      <td>1.0</td>\n",
       "      <td>0.0</td>\n",
       "      <td>0.0</td>\n",
       "    </tr>\n",
       "    <tr>\n",
       "      <th>223</th>\n",
       "      <td>1</td>\n",
       "      <td>1</td>\n",
       "      <td>1</td>\n",
       "      <td>0</td>\n",
       "      <td>1</td>\n",
       "      <td>0.0</td>\n",
       "      <td>0.0</td>\n",
       "      <td>0.0</td>\n",
       "    </tr>\n",
       "    <tr>\n",
       "      <th>271</th>\n",
       "      <td>1</td>\n",
       "      <td>1</td>\n",
       "      <td>0</td>\n",
       "      <td>1</td>\n",
       "      <td>1</td>\n",
       "      <td>0.0</td>\n",
       "      <td>0.0</td>\n",
       "      <td>0.0</td>\n",
       "    </tr>\n",
       "    <tr>\n",
       "      <th>474</th>\n",
       "      <td>3</td>\n",
       "      <td>1</td>\n",
       "      <td>1</td>\n",
       "      <td>0</td>\n",
       "      <td>1</td>\n",
       "      <td>0.0</td>\n",
       "      <td>0.0</td>\n",
       "      <td>0.0</td>\n",
       "    </tr>\n",
       "    <tr>\n",
       "      <th>355</th>\n",
       "      <td>2</td>\n",
       "      <td>2</td>\n",
       "      <td>0</td>\n",
       "      <td>0</td>\n",
       "      <td>0</td>\n",
       "      <td>1.0</td>\n",
       "      <td>0.0</td>\n",
       "      <td>0.0</td>\n",
       "    </tr>\n",
       "  </tbody>\n",
       "</table>\n",
       "<p>709 rows × 8 columns</p>\n",
       "</div>"
      ],
      "text/plain": [
       "     Pclass  Sex  Siblings/Spouses Aboard  Parents/Children Aboard  \\\n",
       "605       2    2                        1                        2   \n",
       "768       2    2                        0                        0   \n",
       "29        3    1                        0                        0   \n",
       "49        3    1                        4                        1   \n",
       "105       3    2                        0                        0   \n",
       "..      ...  ...                      ...                      ...   \n",
       "218       2    1                        0                        0   \n",
       "223       1    1                        1                        0   \n",
       "271       1    1                        0                        1   \n",
       "474       3    1                        1                        0   \n",
       "355       2    2                        0                        0   \n",
       "\n",
       "     family_size  single  elder  child  \n",
       "605            3     0.0    0.0    0.0  \n",
       "768            0     1.0    0.0    0.0  \n",
       "29             0     1.0    0.0    0.0  \n",
       "49             5     0.0    0.0    1.0  \n",
       "105            0     1.0    0.0    0.0  \n",
       "..           ...     ...    ...    ...  \n",
       "218            0     1.0    0.0    0.0  \n",
       "223            1     0.0    0.0    0.0  \n",
       "271            1     0.0    0.0    0.0  \n",
       "474            1     0.0    0.0    0.0  \n",
       "355            0     1.0    0.0    0.0  \n",
       "\n",
       "[709 rows x 8 columns]"
      ]
     },
     "execution_count": 102,
     "metadata": {},
     "output_type": "execute_result"
    }
   ],
   "source": [
    "X_train"
   ]
  },
  {
   "cell_type": "code",
   "execution_count": 103,
   "metadata": {},
   "outputs": [
    {
     "name": "stdout",
     "output_type": "stream",
     "text": [
      "[1]\ttraining's auc: 0.847009\ttraining's binary_logloss: 0.663331\tvalid_1's auc: 0.792433\tvalid_1's binary_logloss: 0.678501\n",
      "Training until validation scores don't improve for 50 rounds\n",
      "[2]\ttraining's auc: 0.847009\ttraining's binary_logloss: 0.66289\tvalid_1's auc: 0.792433\tvalid_1's binary_logloss: 0.678121\n",
      "[3]\ttraining's auc: 0.847009\ttraining's binary_logloss: 0.66245\tvalid_1's auc: 0.792433\tvalid_1's binary_logloss: 0.677741\n",
      "[4]\ttraining's auc: 0.847009\ttraining's binary_logloss: 0.662011\tvalid_1's auc: 0.792433\tvalid_1's binary_logloss: 0.677363\n",
      "[5]\ttraining's auc: 0.847009\ttraining's binary_logloss: 0.661573\tvalid_1's auc: 0.792433\tvalid_1's binary_logloss: 0.676985\n",
      "[6]\ttraining's auc: 0.847009\ttraining's binary_logloss: 0.661136\tvalid_1's auc: 0.792433\tvalid_1's binary_logloss: 0.676609\n",
      "[7]\ttraining's auc: 0.847009\ttraining's binary_logloss: 0.6607\tvalid_1's auc: 0.792433\tvalid_1's binary_logloss: 0.676233\n",
      "[8]\ttraining's auc: 0.847009\ttraining's binary_logloss: 0.660265\tvalid_1's auc: 0.792433\tvalid_1's binary_logloss: 0.675858\n",
      "[9]\ttraining's auc: 0.847009\ttraining's binary_logloss: 0.659831\tvalid_1's auc: 0.792433\tvalid_1's binary_logloss: 0.675485\n",
      "[10]\ttraining's auc: 0.847009\ttraining's binary_logloss: 0.659398\tvalid_1's auc: 0.792433\tvalid_1's binary_logloss: 0.675112\n",
      "[11]\ttraining's auc: 0.851318\ttraining's binary_logloss: 0.658953\tvalid_1's auc: 0.803001\tvalid_1's binary_logloss: 0.674728\n",
      "[12]\ttraining's auc: 0.851318\ttraining's binary_logloss: 0.658509\tvalid_1's auc: 0.803001\tvalid_1's binary_logloss: 0.674344\n",
      "[13]\ttraining's auc: 0.851318\ttraining's binary_logloss: 0.658066\tvalid_1's auc: 0.803001\tvalid_1's binary_logloss: 0.673962\n",
      "[14]\ttraining's auc: 0.851318\ttraining's binary_logloss: 0.657624\tvalid_1's auc: 0.803001\tvalid_1's binary_logloss: 0.673581\n",
      "[15]\ttraining's auc: 0.851318\ttraining's binary_logloss: 0.657183\tvalid_1's auc: 0.803001\tvalid_1's binary_logloss: 0.6732\n",
      "[16]\ttraining's auc: 0.851318\ttraining's binary_logloss: 0.656744\tvalid_1's auc: 0.803001\tvalid_1's binary_logloss: 0.672821\n",
      "[17]\ttraining's auc: 0.851318\ttraining's binary_logloss: 0.656305\tvalid_1's auc: 0.803001\tvalid_1's binary_logloss: 0.672442\n",
      "[18]\ttraining's auc: 0.851318\ttraining's binary_logloss: 0.655867\tvalid_1's auc: 0.803001\tvalid_1's binary_logloss: 0.672064\n",
      "[19]\ttraining's auc: 0.852028\ttraining's binary_logloss: 0.65543\tvalid_1's auc: 0.803001\tvalid_1's binary_logloss: 0.671687\n",
      "[20]\ttraining's auc: 0.852028\ttraining's binary_logloss: 0.654994\tvalid_1's auc: 0.803001\tvalid_1's binary_logloss: 0.671312\n",
      "[21]\ttraining's auc: 0.852028\ttraining's binary_logloss: 0.654558\tvalid_1's auc: 0.803001\tvalid_1's binary_logloss: 0.670933\n",
      "[22]\ttraining's auc: 0.852028\ttraining's binary_logloss: 0.654122\tvalid_1's auc: 0.803001\tvalid_1's binary_logloss: 0.670556\n",
      "[23]\ttraining's auc: 0.852028\ttraining's binary_logloss: 0.653687\tvalid_1's auc: 0.803001\tvalid_1's binary_logloss: 0.670179\n",
      "[24]\ttraining's auc: 0.852028\ttraining's binary_logloss: 0.653253\tvalid_1's auc: 0.803001\tvalid_1's binary_logloss: 0.669803\n",
      "[25]\ttraining's auc: 0.852028\ttraining's binary_logloss: 0.65282\tvalid_1's auc: 0.803001\tvalid_1's binary_logloss: 0.669428\n",
      "[26]\ttraining's auc: 0.852028\ttraining's binary_logloss: 0.652388\tvalid_1's auc: 0.803001\tvalid_1's binary_logloss: 0.669054\n",
      "[27]\ttraining's auc: 0.852028\ttraining's binary_logloss: 0.651957\tvalid_1's auc: 0.803001\tvalid_1's binary_logloss: 0.668681\n",
      "[28]\ttraining's auc: 0.852028\ttraining's binary_logloss: 0.651527\tvalid_1's auc: 0.803001\tvalid_1's binary_logloss: 0.668309\n",
      "[29]\ttraining's auc: 0.852028\ttraining's binary_logloss: 0.651098\tvalid_1's auc: 0.803001\tvalid_1's binary_logloss: 0.667937\n",
      "[30]\ttraining's auc: 0.852028\ttraining's binary_logloss: 0.65067\tvalid_1's auc: 0.803001\tvalid_1's binary_logloss: 0.667567\n",
      "[31]\ttraining's auc: 0.853211\ttraining's binary_logloss: 0.650268\tvalid_1's auc: 0.803914\tvalid_1's binary_logloss: 0.667214\n",
      "[32]\ttraining's auc: 0.853211\ttraining's binary_logloss: 0.649867\tvalid_1's auc: 0.803914\tvalid_1's binary_logloss: 0.666862\n",
      "[33]\ttraining's auc: 0.853211\ttraining's binary_logloss: 0.649466\tvalid_1's auc: 0.803914\tvalid_1's binary_logloss: 0.66651\n",
      "[34]\ttraining's auc: 0.853211\ttraining's binary_logloss: 0.649067\tvalid_1's auc: 0.803914\tvalid_1's binary_logloss: 0.66616\n",
      "[35]\ttraining's auc: 0.853211\ttraining's binary_logloss: 0.648668\tvalid_1's auc: 0.803914\tvalid_1's binary_logloss: 0.66581\n",
      "[36]\ttraining's auc: 0.853211\ttraining's binary_logloss: 0.64827\tvalid_1's auc: 0.803914\tvalid_1's binary_logloss: 0.665461\n",
      "[37]\ttraining's auc: 0.853211\ttraining's binary_logloss: 0.647873\tvalid_1's auc: 0.803914\tvalid_1's binary_logloss: 0.665113\n",
      "[38]\ttraining's auc: 0.853211\ttraining's binary_logloss: 0.647477\tvalid_1's auc: 0.803914\tvalid_1's binary_logloss: 0.664765\n",
      "[39]\ttraining's auc: 0.853211\ttraining's binary_logloss: 0.647082\tvalid_1's auc: 0.803914\tvalid_1's binary_logloss: 0.664418\n",
      "[40]\ttraining's auc: 0.853211\ttraining's binary_logloss: 0.646688\tvalid_1's auc: 0.803914\tvalid_1's binary_logloss: 0.664073\n",
      "[41]\ttraining's auc: 0.853211\ttraining's binary_logloss: 0.64627\tvalid_1's auc: 0.803914\tvalid_1's binary_logloss: 0.663708\n",
      "[42]\ttraining's auc: 0.853211\ttraining's binary_logloss: 0.645853\tvalid_1's auc: 0.803914\tvalid_1's binary_logloss: 0.663344\n",
      "[43]\ttraining's auc: 0.853211\ttraining's binary_logloss: 0.645436\tvalid_1's auc: 0.803914\tvalid_1's binary_logloss: 0.662981\n",
      "[44]\ttraining's auc: 0.853211\ttraining's binary_logloss: 0.645021\tvalid_1's auc: 0.803914\tvalid_1's binary_logloss: 0.662619\n",
      "[45]\ttraining's auc: 0.853211\ttraining's binary_logloss: 0.644607\tvalid_1's auc: 0.803914\tvalid_1's binary_logloss: 0.662258\n",
      "[46]\ttraining's auc: 0.853211\ttraining's binary_logloss: 0.644194\tvalid_1's auc: 0.803914\tvalid_1's binary_logloss: 0.661898\n",
      "[47]\ttraining's auc: 0.853211\ttraining's binary_logloss: 0.643781\tvalid_1's auc: 0.803914\tvalid_1's binary_logloss: 0.661538\n",
      "[48]\ttraining's auc: 0.853211\ttraining's binary_logloss: 0.64337\tvalid_1's auc: 0.803914\tvalid_1's binary_logloss: 0.66118\n",
      "[49]\ttraining's auc: 0.853211\ttraining's binary_logloss: 0.642959\tvalid_1's auc: 0.803914\tvalid_1's binary_logloss: 0.660822\n",
      "[50]\ttraining's auc: 0.853211\ttraining's binary_logloss: 0.64255\tvalid_1's auc: 0.803914\tvalid_1's binary_logloss: 0.660465\n",
      "[51]\ttraining's auc: 0.864878\ttraining's binary_logloss: 0.642158\tvalid_1's auc: 0.830267\tvalid_1's binary_logloss: 0.660113\n",
      "[52]\ttraining's auc: 0.864878\ttraining's binary_logloss: 0.641768\tvalid_1's auc: 0.830267\tvalid_1's binary_logloss: 0.659762\n",
      "[53]\ttraining's auc: 0.864878\ttraining's binary_logloss: 0.641378\tvalid_1's auc: 0.830267\tvalid_1's binary_logloss: 0.659412\n",
      "[54]\ttraining's auc: 0.864878\ttraining's binary_logloss: 0.640989\tvalid_1's auc: 0.830267\tvalid_1's binary_logloss: 0.659062\n",
      "[55]\ttraining's auc: 0.864878\ttraining's binary_logloss: 0.640601\tvalid_1's auc: 0.830267\tvalid_1's binary_logloss: 0.658713\n",
      "[56]\ttraining's auc: 0.864878\ttraining's binary_logloss: 0.640214\tvalid_1's auc: 0.830267\tvalid_1's binary_logloss: 0.658365\n",
      "[57]\ttraining's auc: 0.864878\ttraining's binary_logloss: 0.639828\tvalid_1's auc: 0.830267\tvalid_1's binary_logloss: 0.658018\n",
      "[58]\ttraining's auc: 0.864878\ttraining's binary_logloss: 0.639442\tvalid_1's auc: 0.830267\tvalid_1's binary_logloss: 0.657672\n",
      "[59]\ttraining's auc: 0.864878\ttraining's binary_logloss: 0.639057\tvalid_1's auc: 0.830267\tvalid_1's binary_logloss: 0.657326\n",
      "[60]\ttraining's auc: 0.864878\ttraining's binary_logloss: 0.638673\tvalid_1's auc: 0.830267\tvalid_1's binary_logloss: 0.656981\n",
      "[61]\ttraining's auc: 0.864878\ttraining's binary_logloss: 0.638271\tvalid_1's auc: 0.830267\tvalid_1's binary_logloss: 0.656634\n",
      "[62]\ttraining's auc: 0.864878\ttraining's binary_logloss: 0.63787\tvalid_1's auc: 0.830267\tvalid_1's binary_logloss: 0.656289\n",
      "[63]\ttraining's auc: 0.864878\ttraining's binary_logloss: 0.637469\tvalid_1's auc: 0.830267\tvalid_1's binary_logloss: 0.655944\n",
      "[64]\ttraining's auc: 0.864878\ttraining's binary_logloss: 0.637069\tvalid_1's auc: 0.830267\tvalid_1's binary_logloss: 0.6556\n",
      "[65]\ttraining's auc: 0.864878\ttraining's binary_logloss: 0.63667\tvalid_1's auc: 0.830267\tvalid_1's binary_logloss: 0.655257\n",
      "[66]\ttraining's auc: 0.864878\ttraining's binary_logloss: 0.636272\tvalid_1's auc: 0.830267\tvalid_1's binary_logloss: 0.654915\n",
      "[67]\ttraining's auc: 0.864878\ttraining's binary_logloss: 0.635875\tvalid_1's auc: 0.830267\tvalid_1's binary_logloss: 0.654573\n",
      "[68]\ttraining's auc: 0.864878\ttraining's binary_logloss: 0.635479\tvalid_1's auc: 0.830267\tvalid_1's binary_logloss: 0.654233\n",
      "[69]\ttraining's auc: 0.864878\ttraining's binary_logloss: 0.635084\tvalid_1's auc: 0.830267\tvalid_1's binary_logloss: 0.653893\n",
      "[70]\ttraining's auc: 0.864878\ttraining's binary_logloss: 0.634689\tvalid_1's auc: 0.830267\tvalid_1's binary_logloss: 0.653553\n",
      "[71]\ttraining's auc: 0.864878\ttraining's binary_logloss: 0.634305\tvalid_1's auc: 0.830267\tvalid_1's binary_logloss: 0.653226\n",
      "[72]\ttraining's auc: 0.864878\ttraining's binary_logloss: 0.633922\tvalid_1's auc: 0.830267\tvalid_1's binary_logloss: 0.652899\n"
     ]
    },
    {
     "name": "stdout",
     "output_type": "stream",
     "text": [
      "[73]\ttraining's auc: 0.864878\ttraining's binary_logloss: 0.63354\tvalid_1's auc: 0.830267\tvalid_1's binary_logloss: 0.652572\n",
      "[74]\ttraining's auc: 0.864878\ttraining's binary_logloss: 0.633158\tvalid_1's auc: 0.830267\tvalid_1's binary_logloss: 0.652247\n",
      "[75]\ttraining's auc: 0.864878\ttraining's binary_logloss: 0.632777\tvalid_1's auc: 0.830267\tvalid_1's binary_logloss: 0.651922\n",
      "[76]\ttraining's auc: 0.864878\ttraining's binary_logloss: 0.632397\tvalid_1's auc: 0.830267\tvalid_1's binary_logloss: 0.651598\n",
      "[77]\ttraining's auc: 0.864878\ttraining's binary_logloss: 0.632018\tvalid_1's auc: 0.830267\tvalid_1's binary_logloss: 0.651275\n",
      "[78]\ttraining's auc: 0.864878\ttraining's binary_logloss: 0.63164\tvalid_1's auc: 0.830267\tvalid_1's binary_logloss: 0.650952\n",
      "[79]\ttraining's auc: 0.866137\ttraining's binary_logloss: 0.631262\tvalid_1's auc: 0.827136\tvalid_1's binary_logloss: 0.65063\n",
      "[80]\ttraining's auc: 0.866137\ttraining's binary_logloss: 0.630885\tvalid_1's auc: 0.827136\tvalid_1's binary_logloss: 0.650309\n",
      "[81]\ttraining's auc: 0.866137\ttraining's binary_logloss: 0.630498\tvalid_1's auc: 0.827136\tvalid_1's binary_logloss: 0.649953\n",
      "[82]\ttraining's auc: 0.866137\ttraining's binary_logloss: 0.630111\tvalid_1's auc: 0.827136\tvalid_1's binary_logloss: 0.649597\n",
      "[83]\ttraining's auc: 0.866137\ttraining's binary_logloss: 0.629725\tvalid_1's auc: 0.827136\tvalid_1's binary_logloss: 0.649243\n",
      "[84]\ttraining's auc: 0.866137\ttraining's binary_logloss: 0.62934\tvalid_1's auc: 0.827136\tvalid_1's binary_logloss: 0.648889\n",
      "[85]\ttraining's auc: 0.866137\ttraining's binary_logloss: 0.628955\tvalid_1's auc: 0.827136\tvalid_1's binary_logloss: 0.648536\n",
      "[86]\ttraining's auc: 0.866137\ttraining's binary_logloss: 0.628572\tvalid_1's auc: 0.827136\tvalid_1's binary_logloss: 0.648183\n",
      "[87]\ttraining's auc: 0.866137\ttraining's binary_logloss: 0.628189\tvalid_1's auc: 0.827136\tvalid_1's binary_logloss: 0.647832\n",
      "[88]\ttraining's auc: 0.866137\ttraining's binary_logloss: 0.627807\tvalid_1's auc: 0.827136\tvalid_1's binary_logloss: 0.647481\n",
      "[89]\ttraining's auc: 0.866137\ttraining's binary_logloss: 0.627426\tvalid_1's auc: 0.827136\tvalid_1's binary_logloss: 0.647131\n",
      "[90]\ttraining's auc: 0.866137\ttraining's binary_logloss: 0.627046\tvalid_1's auc: 0.827136\tvalid_1's binary_logloss: 0.646782\n",
      "[91]\ttraining's auc: 0.866137\ttraining's binary_logloss: 0.626686\tvalid_1's auc: 0.827136\tvalid_1's binary_logloss: 0.646452\n",
      "[92]\ttraining's auc: 0.866137\ttraining's binary_logloss: 0.626327\tvalid_1's auc: 0.827136\tvalid_1's binary_logloss: 0.646122\n",
      "[93]\ttraining's auc: 0.866137\ttraining's binary_logloss: 0.625968\tvalid_1's auc: 0.827136\tvalid_1's binary_logloss: 0.645793\n",
      "[94]\ttraining's auc: 0.866137\ttraining's binary_logloss: 0.62561\tvalid_1's auc: 0.827136\tvalid_1's binary_logloss: 0.645465\n",
      "[95]\ttraining's auc: 0.866137\ttraining's binary_logloss: 0.625253\tvalid_1's auc: 0.827136\tvalid_1's binary_logloss: 0.645137\n",
      "[96]\ttraining's auc: 0.866137\ttraining's binary_logloss: 0.624896\tvalid_1's auc: 0.827136\tvalid_1's binary_logloss: 0.64481\n",
      "[97]\ttraining's auc: 0.866137\ttraining's binary_logloss: 0.624541\tvalid_1's auc: 0.827136\tvalid_1's binary_logloss: 0.644484\n",
      "[98]\ttraining's auc: 0.866137\ttraining's binary_logloss: 0.624186\tvalid_1's auc: 0.827136\tvalid_1's binary_logloss: 0.644158\n",
      "[99]\ttraining's auc: 0.866137\ttraining's binary_logloss: 0.623831\tvalid_1's auc: 0.827136\tvalid_1's binary_logloss: 0.643833\n",
      "[100]\ttraining's auc: 0.866137\ttraining's binary_logloss: 0.623478\tvalid_1's auc: 0.827136\tvalid_1's binary_logloss: 0.643509\n",
      "[101]\ttraining's auc: 0.866137\ttraining's binary_logloss: 0.623118\tvalid_1's auc: 0.827136\tvalid_1's binary_logloss: 0.643184\n",
      "Early stopping, best iteration is:\n",
      "[51]\ttraining's auc: 0.864878\ttraining's binary_logloss: 0.642158\tvalid_1's auc: 0.830267\tvalid_1's binary_logloss: 0.660113\n"
     ]
    }
   ],
   "source": [
    "y_pred_train, y_pred_test, feature_importance = train_lgb(X_train, X_test, y_train, y_test, params=params)"
   ]
  },
  {
   "cell_type": "code",
   "execution_count": 104,
   "metadata": {},
   "outputs": [
    {
     "name": "stdout",
     "output_type": "stream",
     "text": [
      "0.6205923836389281\n",
      "0.5898876404494382\n"
     ]
    },
    {
     "data": {
      "image/png": "[encoded data removed]",
      "text/plain": [
       "<Figure size 1152x864 with 1 Axes>"
      ]
     },
     "metadata": {
      "needs_background": "light"
     },
     "output_type": "display_data"
    }
   ],
   "source": [
    "print(calc_accuracy(y_pred_train, y_train))\n",
    "print(calc_accuracy(y_pred_test, y_test))\n",
    "plot_feature_importance(feature_importance, title = 'Importance Titanic')"
   ]
  },
  {
   "cell_type": "markdown",
   "metadata": {},
   "source": [
    "**Exercise**: Find how to save and load models"
   ]
  },
  {
   "cell_type": "code",
   "execution_count": 105,
   "metadata": {},
   "outputs": [],
   "source": [
    "def train_lgb(X_train, X_valid, y_train, y_valid, params=None):\n",
    "\n",
    "    model = lgb.LGBMClassifier(**params)\n",
    "    model.fit(X_train, y_train, \n",
    "            eval_set=[(X_train, y_train), (X_valid, y_valid)], eval_metric=['auc', 'binary_logloss'],\n",
    "            verbose=1, early_stopping_rounds=50)\n",
    "    # Saving model\n",
    "    model.booster_.save_model('model.txt')\n",
    "\n",
    "    y_pred_train = model.predict(X_train)\n",
    "    y_pred_valid = model.predict(X_valid)\n",
    "\n",
    "    importance = pd.DataFrame()\n",
    "    importance[\"feature\"] = X.columns\n",
    "    importance[\"importance\"] = model.feature_importances_\n",
    "    return y_pred_train, y_pred_valid, importance"
   ]
  },
  {
   "cell_type": "code",
   "execution_count": 107,
   "metadata": {},
   "outputs": [],
   "source": [
    "# Loading model\n",
    "bst = lgb.Booster(model_file='model.txt')"
   ]
  }
 ],
 "metadata": {
  "kernelspec": {
   "display_name": "Python 3",
   "language": "python",
   "name": "python3"
  },
  "language_info": {
   "codemirror_mode": {
    "name": "ipython",
    "version": 3
   },
   "file_extension": ".py",
   "mimetype": "text/x-python",
   "name": "python",
   "nbconvert_exporter": "python",
   "pygments_lexer": "ipython3",
   "version": "3.7.3"
  }
 },
 "nbformat": 4,
 "nbformat_minor": 2
}
