{
 "cells": [
  {
   "cell_type": "markdown",
   "metadata": {},
   "source": [
    "## Cross Validation"
   ]
  },
  {
   "cell_type": "code",
   "execution_count": 1,
   "metadata": {},
   "outputs": [
    {
     "name": "stderr",
     "output_type": "stream",
     "text": [
      "Loading required package: lattice\n",
      "Loading required package: ggplot2\n",
      "Registered S3 methods overwritten by 'ggplot2':\n",
      "  method         from \n",
      "  [.quosures     rlang\n",
      "  c.quosures     rlang\n",
      "  print.quosures rlang\n"
     ]
    }
   ],
   "source": [
    "library(caret)"
   ]
  },
  {
   "cell_type": "code",
   "execution_count": 2,
   "metadata": {},
   "outputs": [],
   "source": [
    "?trainControl"
   ]
  },
  {
   "cell_type": "code",
   "execution_count": 3,
   "metadata": {},
   "outputs": [
    {
     "data": {
      "text/html": [
       "<table>\n",
       "<thead><tr><th></th><th scope=col>Fertility</th><th scope=col>Agriculture</th><th scope=col>Examination</th><th scope=col>Education</th><th scope=col>Catholic</th><th scope=col>Infant.Mortality</th></tr></thead>\n",
       "<tbody>\n",
       "\t<tr><th scope=row>Courtelary</th><td>80.2 </td><td>17.0 </td><td>15   </td><td>12   </td><td> 9.96</td><td>22.2 </td></tr>\n",
       "\t<tr><th scope=row>Delemont</th><td>83.1 </td><td>45.1 </td><td> 6   </td><td> 9   </td><td>84.84</td><td>22.2 </td></tr>\n",
       "\t<tr><th scope=row>Franches-Mnt</th><td>92.5 </td><td>39.7 </td><td> 5   </td><td> 5   </td><td>93.40</td><td>20.2 </td></tr>\n",
       "\t<tr><th scope=row>Moutier</th><td>85.8 </td><td>36.5 </td><td>12   </td><td> 7   </td><td>33.77</td><td>20.3 </td></tr>\n",
       "\t<tr><th scope=row>Neuveville</th><td>76.9 </td><td>43.5 </td><td>17   </td><td>15   </td><td> 5.16</td><td>20.6 </td></tr>\n",
       "\t<tr><th scope=row>Porrentruy</th><td>76.1 </td><td>35.3 </td><td> 9   </td><td> 7   </td><td>90.57</td><td>26.6 </td></tr>\n",
       "</tbody>\n",
       "</table>\n"
      ],
      "text/latex": [
       "\\begin{tabular}{r|llllll}\n",
       "  & Fertility & Agriculture & Examination & Education & Catholic & Infant.Mortality\\\\\n",
       "\\hline\n",
       "\tCourtelary & 80.2  & 17.0  & 15    & 12    &  9.96 & 22.2 \\\\\n",
       "\tDelemont & 83.1  & 45.1  &  6    &  9    & 84.84 & 22.2 \\\\\n",
       "\tFranches-Mnt & 92.5  & 39.7  &  5    &  5    & 93.40 & 20.2 \\\\\n",
       "\tMoutier & 85.8  & 36.5  & 12    &  7    & 33.77 & 20.3 \\\\\n",
       "\tNeuveville & 76.9  & 43.5  & 17    & 15    &  5.16 & 20.6 \\\\\n",
       "\tPorrentruy & 76.1  & 35.3  &  9    &  7    & 90.57 & 26.6 \\\\\n",
       "\\end{tabular}\n"
      ],
      "text/markdown": [
       "\n",
       "| <!--/--> | Fertility | Agriculture | Examination | Education | Catholic | Infant.Mortality |\n",
       "|---|---|---|---|---|---|---|\n",
       "| Courtelary | 80.2  | 17.0  | 15    | 12    |  9.96 | 22.2  |\n",
       "| Delemont | 83.1  | 45.1  |  6    |  9    | 84.84 | 22.2  |\n",
       "| Franches-Mnt | 92.5  | 39.7  |  5    |  5    | 93.40 | 20.2  |\n",
       "| Moutier | 85.8  | 36.5  | 12    |  7    | 33.77 | 20.3  |\n",
       "| Neuveville | 76.9  | 43.5  | 17    | 15    |  5.16 | 20.6  |\n",
       "| Porrentruy | 76.1  | 35.3  |  9    |  7    | 90.57 | 26.6  |\n",
       "\n"
      ],
      "text/plain": [
       "             Fertility Agriculture Examination Education Catholic\n",
       "Courtelary   80.2      17.0        15          12         9.96   \n",
       "Delemont     83.1      45.1         6           9        84.84   \n",
       "Franches-Mnt 92.5      39.7         5           5        93.40   \n",
       "Moutier      85.8      36.5        12           7        33.77   \n",
       "Neuveville   76.9      43.5        17          15         5.16   \n",
       "Porrentruy   76.1      35.3         9           7        90.57   \n",
       "             Infant.Mortality\n",
       "Courtelary   22.2            \n",
       "Delemont     22.2            \n",
       "Franches-Mnt 20.2            \n",
       "Moutier      20.3            \n",
       "Neuveville   20.6            \n",
       "Porrentruy   26.6            "
      ]
     },
     "metadata": {},
     "output_type": "display_data"
    }
   ],
   "source": [
    "head(swiss)"
   ]
  },
  {
   "cell_type": "code",
   "execution_count": 4,
   "metadata": {},
   "outputs": [],
   "source": [
    "# Define training control\n",
    "set.seed(123) \n",
    "train.control <- trainControl(method = \"cv\", number = 10)"
   ]
  },
  {
   "cell_type": "code",
   "execution_count": 5,
   "metadata": {},
   "outputs": [],
   "source": [
    "# Train the model\n",
    "model <- train(Fertility ~., data = swiss, method = \"lm\",\n",
    "               trControl = train.control)"
   ]
  },
  {
   "cell_type": "markdown",
   "metadata": {},
   "source": [
    "We see that RMSE is 7.42"
   ]
  },
  {
   "cell_type": "code",
   "execution_count": 6,
   "metadata": {},
   "outputs": [
    {
     "name": "stdout",
     "output_type": "stream",
     "text": [
      "Linear Regression \n",
      "\n",
      "47 samples\n",
      " 5 predictor\n",
      "\n",
      "No pre-processing\n",
      "Resampling: Cross-Validated (10 fold) \n",
      "Summary of sample sizes: 42, 42, 42, 42, 42, 44, ... \n",
      "Resampling results:\n",
      "\n",
      "  RMSE      Rsquared   MAE    \n",
      "  7.424916  0.6922072  6.31218\n",
      "\n",
      "Tuning parameter 'intercept' was held constant at a value of TRUE\n"
     ]
    }
   ],
   "source": [
    "# Summarize the results\n",
    "print(model)"
   ]
  },
  {
   "cell_type": "markdown",
   "metadata": {},
   "source": [
    "Q. Redo the steps above with different methods (eg. boost, LOOCV...)"
   ]
  },
  {
   "cell_type": "code",
   "execution_count": 7,
   "metadata": {},
   "outputs": [],
   "source": [
    "# Define training control\n",
    "set.seed(123) \n",
    "train.control <- trainControl(method = \"boot\", number = 10)\n",
    "# Train the model\n",
    "model <- train(Fertility ~., data = swiss, method = \"lm\",\n",
    "               trControl = train.control)\n",
    "# Summarize the results\n",
    "print(model)"
   ]
  },
  {
   "cell_type": "code",
   "execution_count": 9,
   "metadata": {},
   "outputs": [
    {
     "name": "stdout",
     "output_type": "stream",
     "text": [
      "Linear Regression \n",
      "\n",
      "47 samples\n",
      " 5 predictor\n",
      "\n",
      "No pre-processing\n",
      "Resampling: Leave-One-Out Cross-Validation \n",
      "Summary of sample sizes: 46, 46, 46, 46, 46, 46, ... \n",
      "Resampling results:\n",
      "\n",
      "  RMSE      Rsquared   MAE     \n",
      "  7.738618  0.6128307  6.116021\n",
      "\n",
      "Tuning parameter 'intercept' was held constant at a value of TRUE\n"
     ]
    }
   ],
   "source": [
    "# Define training control\n",
    "set.seed(123) \n",
    "train.control <- trainControl(method = \"LOOCV\", number = 10)\n",
    "# Train the model\n",
    "model <- train(Fertility ~., data = swiss, method = \"lm\",\n",
    "               trControl = train.control)\n",
    "# Summarize the results\n",
    "print(model)"
   ]
  },
  {
   "cell_type": "code",
   "execution_count": 10,
   "metadata": {},
   "outputs": [
    {
     "name": "stdout",
     "output_type": "stream",
     "text": [
      "Linear Regression \n",
      "\n",
      "47 samples\n",
      " 5 predictor\n",
      "\n",
      "No pre-processing\n",
      "Resampling: Repeated Train/Test Splits Estimated (10 reps, 75%) \n",
      "Summary of sample sizes: 36, 36, 36, 36, 36, 36, ... \n",
      "Resampling results:\n",
      "\n",
      "  RMSE      Rsquared   MAE     \n",
      "  6.408949  0.7242873  5.469535\n",
      "\n",
      "Tuning parameter 'intercept' was held constant at a value of TRUE\n"
     ]
    }
   ],
   "source": [
    "# Define training control\n",
    "set.seed(123) \n",
    "train.control <- trainControl(method = \"LGOCV\", number = 10)\n",
    "# Train the model\n",
    "model <- train(Fertility ~., data = swiss, method = \"lm\",\n",
    "               trControl = train.control)\n",
    "# Summarize the results\n",
    "print(model)"
   ]
  },
  {
   "cell_type": "code",
   "execution_count": 12,
   "metadata": {},
   "outputs": [
    {
     "name": "stdout",
     "output_type": "stream",
     "text": [
      "k-Nearest Neighbors \n",
      "\n",
      "47 samples\n",
      " 5 predictor\n",
      "\n",
      "No pre-processing\n",
      "Resampling: Adaptive Repeated Train/Test Splits Estimated (10 reps, 0.75%) \n",
      "Summary of sample sizes: 36, 36, 36, 36, 36, 36, ... \n",
      "Resampling results across tuning parameters:\n",
      "\n",
      "  k  RMSE      Rsquared   MAE       Resamples\n",
      "  5  8.179295  0.5035823  6.538182  10       \n",
      "  7  8.035155  0.5323973  6.292857  10       \n",
      "  9  8.851185  0.5160825  6.696162   5       \n",
      "\n",
      "RMSE was used to select the optimal model using the smallest value.\n",
      "The final value used for the model was k = 7.\n"
     ]
    }
   ],
   "source": [
    "# Define training control\n",
    "set.seed(123) \n",
    "train.control <- trainControl(method = \"adaptive_LGOCV\", number = 10)\n",
    "# Train the model\n",
    "model <- train(Fertility ~., data = swiss, method = \"knn\",\n",
    "               trControl = train.control)\n",
    "# Summarize the results\n",
    "print(model)"
   ]
  },
  {
   "cell_type": "markdown",
   "metadata": {},
   "source": [
    "Q. Change the seed to see any difference"
   ]
  },
  {
   "cell_type": "code",
   "execution_count": 13,
   "metadata": {
    "scrolled": true
   },
   "outputs": [
    {
     "name": "stdout",
     "output_type": "stream",
     "text": [
      "Linear Regression \n",
      "\n",
      "47 samples\n",
      " 5 predictor\n",
      "\n",
      "No pre-processing\n",
      "Resampling: Cross-Validated (10 fold) \n",
      "Summary of sample sizes: 42, 42, 43, 43, 41, 42, ... \n",
      "Resampling results:\n",
      "\n",
      "  RMSE      Rsquared   MAE    \n",
      "  7.689413  0.6653182  6.43128\n",
      "\n",
      "Tuning parameter 'intercept' was held constant at a value of TRUE\n"
     ]
    }
   ],
   "source": [
    "# Define training control\n",
    "set.seed(4) \n",
    "train.control <- trainControl(method = \"cv\", number = 10)\n",
    "# Train the model\n",
    "model <- train(Fertility ~., data = swiss, method = \"lm\",\n",
    "               trControl = train.control)\n",
    "# Summarize the results\n",
    "print(model)"
   ]
  },
  {
   "cell_type": "markdown",
   "metadata": {},
   "source": [
    "Q. Use trainControl for Classification Boston (that we did before)"
   ]
  },
  {
   "cell_type": "code",
   "execution_count": 17,
   "metadata": {},
   "outputs": [],
   "source": [
    "library(MASS)"
   ]
  },
  {
   "cell_type": "code",
   "execution_count": 18,
   "metadata": {},
   "outputs": [],
   "source": [
    "attach(Boston)"
   ]
  },
  {
   "cell_type": "code",
   "execution_count": 19,
   "metadata": {},
   "outputs": [
    {
     "name": "stdout",
     "output_type": "stream",
     "text": [
      "Linear Regression \n",
      "\n",
      "506 samples\n",
      " 13 predictor\n",
      "\n",
      "No pre-processing\n",
      "Resampling: Cross-Validated (10 fold) \n",
      "Summary of sample sizes: 454, 455, 456, 456, 457, 456, ... \n",
      "Resampling results:\n",
      "\n",
      "  RMSE      Rsquared   MAE     \n",
      "  5.927811  0.5535411  2.934104\n",
      "\n",
      "Tuning parameter 'intercept' was held constant at a value of TRUE\n"
     ]
    }
   ],
   "source": [
    "# Define training control\n",
    "set.seed(123) \n",
    "train.control <- trainControl(method = \"cv\", number = 10)\n",
    "# Train the model\n",
    "model <- train(crim ~., data = Boston, method = \"lm\",\n",
    "               trControl = train.control)\n",
    "# Summarize the results\n",
    "print(model)"
   ]
  },
  {
   "cell_type": "markdown",
   "metadata": {},
   "source": [
    "## Homework"
   ]
  },
  {
   "cell_type": "markdown",
   "metadata": {},
   "source": [
    "Use train control to predict Turnout and predict Obama or McCain wins (previous excercises)"
   ]
  },
  {
   "cell_type": "code",
   "execution_count": 20,
   "metadata": {
    "scrolled": false
   },
   "outputs": [
    {
     "data": {
      "text/html": [
       "<table>\n",
       "<thead><tr><th scope=col>State</th><th scope=col>Region</th><th scope=col>Obama</th><th scope=col>McCain</th><th scope=col>Turnout</th><th scope=col>Unemployment</th><th scope=col>Income</th><th scope=col>Population</th><th scope=col>Catholic</th><th scope=col>Protestant</th><th scope=col>Other</th><th scope=col>Non.religious</th><th scope=col>Black</th><th scope=col>Latino</th><th scope=col>Urbanization</th></tr></thead>\n",
       "<tbody>\n",
       "\t<tr><td>Alabama   </td><td>IV        </td><td>38.74     </td><td>60.32     </td><td>61.6      </td><td>5.9       </td><td>22732     </td><td> 4802982  </td><td> 6        </td><td>80        </td><td> 1        </td><td>11        </td><td>26.2      </td><td> 3.9      </td><td> 94.4     </td></tr>\n",
       "\t<tr><td>Alaska    </td><td>X         </td><td>37.89     </td><td>59.42     </td><td>68.0      </td><td>6.6       </td><td>29382     </td><td>  721523  </td><td>NA        </td><td>NA        </td><td>NA        </td><td>NA        </td><td> 3.3      </td><td> 5.5      </td><td>  1.2     </td></tr>\n",
       "\t<tr><td>Arizona   </td><td>IX        </td><td>44.91     </td><td>53.39     </td><td>55.7      </td><td>7.1       </td><td>25203     </td><td> 6412700  </td><td>29        </td><td>44        </td><td> 5        </td><td>17        </td><td> 4.1      </td><td>16.3      </td><td> 56.3     </td></tr>\n",
       "\t<tr><td>Arkansas  </td><td>VI        </td><td>38.86     </td><td>58.72     </td><td>53.1      </td><td>5.8       </td><td>20977     </td><td> 2926229  </td><td> 8        </td><td>79        </td><td> 1        </td><td> 8        </td><td>14.4      </td><td> 6.4      </td><td> 56.0     </td></tr>\n",
       "\t<tr><td>California</td><td>IX        </td><td>60.94     </td><td>36.91     </td><td>62.0      </td><td>8.2       </td><td>29020     </td><td>37341989  </td><td>37        </td><td>35        </td><td> 5        </td><td>18        </td><td> 6.2      </td><td>37.6      </td><td>239.1     </td></tr>\n",
       "\t<tr><td>Colorado  </td><td>VIII      </td><td>53.66     </td><td>44.71     </td><td>70.8      </td><td>5.4       </td><td>29679     </td><td> 5044930  </td><td>21        </td><td>49        </td><td> 4        </td><td>21        </td><td> 4.0      </td><td>20.7      </td><td> 48.5     </td></tr>\n",
       "</tbody>\n",
       "</table>\n"
      ],
      "text/latex": [
       "\\begin{tabular}{r|lllllllllllllll}\n",
       " State & Region & Obama & McCain & Turnout & Unemployment & Income & Population & Catholic & Protestant & Other & Non.religious & Black & Latino & Urbanization\\\\\n",
       "\\hline\n",
       "\t Alabama    & IV         & 38.74      & 60.32      & 61.6       & 5.9        & 22732      &  4802982   &  6         & 80         &  1         & 11         & 26.2       &  3.9       &  94.4     \\\\\n",
       "\t Alaska     & X          & 37.89      & 59.42      & 68.0       & 6.6        & 29382      &   721523   & NA         & NA         & NA         & NA         &  3.3       &  5.5       &   1.2     \\\\\n",
       "\t Arizona    & IX         & 44.91      & 53.39      & 55.7       & 7.1        & 25203      &  6412700   & 29         & 44         &  5         & 17         &  4.1       & 16.3       &  56.3     \\\\\n",
       "\t Arkansas   & VI         & 38.86      & 58.72      & 53.1       & 5.8        & 20977      &  2926229   &  8         & 79         &  1         &  8         & 14.4       &  6.4       &  56.0     \\\\\n",
       "\t California & IX         & 60.94      & 36.91      & 62.0       & 8.2        & 29020      & 37341989   & 37         & 35         &  5         & 18         &  6.2       & 37.6       & 239.1     \\\\\n",
       "\t Colorado   & VIII       & 53.66      & 44.71      & 70.8       & 5.4        & 29679      &  5044930   & 21         & 49         &  4         & 21         &  4.0       & 20.7       &  48.5     \\\\\n",
       "\\end{tabular}\n"
      ],
      "text/markdown": [
       "\n",
       "| State | Region | Obama | McCain | Turnout | Unemployment | Income | Population | Catholic | Protestant | Other | Non.religious | Black | Latino | Urbanization |\n",
       "|---|---|---|---|---|---|---|---|---|---|---|---|---|---|---|\n",
       "| Alabama    | IV         | 38.74      | 60.32      | 61.6       | 5.9        | 22732      |  4802982   |  6         | 80         |  1         | 11         | 26.2       |  3.9       |  94.4      |\n",
       "| Alaska     | X          | 37.89      | 59.42      | 68.0       | 6.6        | 29382      |   721523   | NA         | NA         | NA         | NA         |  3.3       |  5.5       |   1.2      |\n",
       "| Arizona    | IX         | 44.91      | 53.39      | 55.7       | 7.1        | 25203      |  6412700   | 29         | 44         |  5         | 17         |  4.1       | 16.3       |  56.3      |\n",
       "| Arkansas   | VI         | 38.86      | 58.72      | 53.1       | 5.8        | 20977      |  2926229   |  8         | 79         |  1         |  8         | 14.4       |  6.4       |  56.0      |\n",
       "| California | IX         | 60.94      | 36.91      | 62.0       | 8.2        | 29020      | 37341989   | 37         | 35         |  5         | 18         |  6.2       | 37.6       | 239.1      |\n",
       "| Colorado   | VIII       | 53.66      | 44.71      | 70.8       | 5.4        | 29679      |  5044930   | 21         | 49         |  4         | 21         |  4.0       | 20.7       |  48.5      |\n",
       "\n"
      ],
      "text/plain": [
       "  State      Region Obama McCain Turnout Unemployment Income Population\n",
       "1 Alabama    IV     38.74 60.32  61.6    5.9          22732   4802982  \n",
       "2 Alaska     X      37.89 59.42  68.0    6.6          29382    721523  \n",
       "3 Arizona    IX     44.91 53.39  55.7    7.1          25203   6412700  \n",
       "4 Arkansas   VI     38.86 58.72  53.1    5.8          20977   2926229  \n",
       "5 California IX     60.94 36.91  62.0    8.2          29020  37341989  \n",
       "6 Colorado   VIII   53.66 44.71  70.8    5.4          29679   5044930  \n",
       "  Catholic Protestant Other Non.religious Black Latino Urbanization\n",
       "1  6       80          1    11            26.2   3.9    94.4       \n",
       "2 NA       NA         NA    NA             3.3   5.5     1.2       \n",
       "3 29       44          5    17             4.1  16.3    56.3       \n",
       "4  8       79          1     8            14.4   6.4    56.0       \n",
       "5 37       35          5    18             6.2  37.6   239.1       \n",
       "6 21       49          4    21             4.0  20.7    48.5       "
      ]
     },
     "metadata": {},
     "output_type": "display_data"
    }
   ],
   "source": [
    "library(learningr)\n",
    "head(obama_vs_mccain)"
   ]
  },
  {
   "cell_type": "code",
   "execution_count": 24,
   "metadata": {},
   "outputs": [],
   "source": [
    "obama_vs_mccain <- na.omit(obama_vs_mccain)"
   ]
  },
  {
   "cell_type": "code",
   "execution_count": 25,
   "metadata": {},
   "outputs": [
    {
     "name": "stderr",
     "output_type": "stream",
     "text": [
      "The following objects are masked from obama_vs_mccain (pos = 3):\n",
      "\n",
      "    Black, Catholic, Income, Latino, McCain, Non.religious, Obama,\n",
      "    Other, Population, Protestant, Region, State, Turnout,\n",
      "    Unemployment, Urbanization\n",
      "\n"
     ]
    }
   ],
   "source": [
    "attach(obama_vs_mccain)"
   ]
  },
  {
   "cell_type": "code",
   "execution_count": 26,
   "metadata": {},
   "outputs": [
    {
     "name": "stderr",
     "output_type": "stream",
     "text": [
      "Warning message in predict.lm(modelFit, newdata):\n",
      "“prediction from a rank-deficient fit may be misleading”Warning message in predict.lm(modelFit, newdata):\n",
      "“prediction from a rank-deficient fit may be misleading”Warning message in predict.lm(modelFit, newdata):\n",
      "“prediction from a rank-deficient fit may be misleading”Warning message in predict.lm(modelFit, newdata):\n",
      "“prediction from a rank-deficient fit may be misleading”Warning message in predict.lm(modelFit, newdata):\n",
      "“prediction from a rank-deficient fit may be misleading”Warning message in predict.lm(modelFit, newdata):\n",
      "“prediction from a rank-deficient fit may be misleading”Warning message in predict.lm(modelFit, newdata):\n",
      "“prediction from a rank-deficient fit may be misleading”Warning message in predict.lm(modelFit, newdata):\n",
      "“prediction from a rank-deficient fit may be misleading”Warning message in predict.lm(modelFit, newdata):\n",
      "“prediction from a rank-deficient fit may be misleading”Warning message in predict.lm(modelFit, newdata):\n",
      "“prediction from a rank-deficient fit may be misleading”Warning message in nominalTrainWorkflow(x = x, y = y, wts = weights, info = trainInfo, :\n",
      "“There were missing values in resampled performance measures.”"
     ]
    },
    {
     "name": "stdout",
     "output_type": "stream",
     "text": [
      "Linear Regression \n",
      "\n",
      "45 samples\n",
      "14 predictors\n",
      "\n",
      "No pre-processing\n",
      "Resampling: Cross-Validated (10 fold) \n",
      "Summary of sample sizes: 41, 40, 41, 42, 40, 40, ... \n",
      "Resampling results:\n",
      "\n",
      "  RMSE     Rsquared  MAE   \n",
      "  5.85843  NaN       4.9025\n",
      "\n",
      "Tuning parameter 'intercept' was held constant at a value of TRUE\n"
     ]
    }
   ],
   "source": [
    "# Define training control\n",
    "set.seed(123) \n",
    "train.control <- trainControl(method = \"cv\", number = 10)\n",
    "# Train the model\n",
    "model <- train(Turnout ~., data = obama_vs_mccain, method = \"lm\",\n",
    "               trControl = train.control)\n",
    "# Summarize the results\n",
    "print(model)"
   ]
  },
  {
   "cell_type": "code",
   "execution_count": 27,
   "metadata": {},
   "outputs": [
    {
     "name": "stderr",
     "output_type": "stream",
     "text": [
      "Warning message in predict.lm(modelFit, newdata):\n",
      "“prediction from a rank-deficient fit may be misleading”"
     ]
    },
    {
     "ename": "ERROR",
     "evalue": "Error in pred$class: $ operator is invalid for atomic vectors\n",
     "output_type": "error",
     "traceback": [
      "Error in pred$class: $ operator is invalid for atomic vectors\nTraceback:\n",
      "1. mean(pred$class == Obama)"
     ]
    }
   ],
   "source": []
  },
  {
   "cell_type": "code",
   "execution_count": null,
   "metadata": {},
   "outputs": [],
   "source": []
  }
 ],
 "metadata": {
  "kernelspec": {
   "display_name": "R",
   "language": "R",
   "name": "ir"
  },
  "language_info": {
   "codemirror_mode": "r",
   "file_extension": ".r",
   "mimetype": "text/x-r-source",
   "name": "R",
   "pygments_lexer": "r",
   "version": "3.6.1"
  }
 },
 "nbformat": 4,
 "nbformat_minor": 4
}
