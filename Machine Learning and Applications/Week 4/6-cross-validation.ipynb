{
 "cells": [
  {
   "cell_type": "markdown",
   "metadata": {},
   "source": [
    "## Cross Validation"
   ]
  },
  {
   "cell_type": "code",
   "execution_count": 1,
   "metadata": {},
   "outputs": [
    {
     "name": "stderr",
     "output_type": "stream",
     "text": [
      "Loading required package: lattice\n",
      "Loading required package: ggplot2\n",
      "Registered S3 methods overwritten by 'ggplot2':\n",
      "  method         from \n",
      "  [.quosures     rlang\n",
      "  c.quosures     rlang\n",
      "  print.quosures rlang\n"
     ]
    }
   ],
   "source": [
    "library(caret)"
   ]
  },
  {
   "cell_type": "code",
   "execution_count": 20,
   "metadata": {},
   "outputs": [],
   "source": [
    "?trainControl"
   ]
  },
  {
   "cell_type": "code",
   "execution_count": 3,
   "metadata": {},
   "outputs": [
    {
     "data": {
      "text/html": [
       "<table>\n",
       "<thead><tr><th></th><th scope=col>Fertility</th><th scope=col>Agriculture</th><th scope=col>Examination</th><th scope=col>Education</th><th scope=col>Catholic</th><th scope=col>Infant.Mortality</th></tr></thead>\n",
       "<tbody>\n",
       "\t<tr><th scope=row>Courtelary</th><td>80.2 </td><td>17.0 </td><td>15   </td><td>12   </td><td> 9.96</td><td>22.2 </td></tr>\n",
       "\t<tr><th scope=row>Delemont</th><td>83.1 </td><td>45.1 </td><td> 6   </td><td> 9   </td><td>84.84</td><td>22.2 </td></tr>\n",
       "\t<tr><th scope=row>Franches-Mnt</th><td>92.5 </td><td>39.7 </td><td> 5   </td><td> 5   </td><td>93.40</td><td>20.2 </td></tr>\n",
       "\t<tr><th scope=row>Moutier</th><td>85.8 </td><td>36.5 </td><td>12   </td><td> 7   </td><td>33.77</td><td>20.3 </td></tr>\n",
       "\t<tr><th scope=row>Neuveville</th><td>76.9 </td><td>43.5 </td><td>17   </td><td>15   </td><td> 5.16</td><td>20.6 </td></tr>\n",
       "\t<tr><th scope=row>Porrentruy</th><td>76.1 </td><td>35.3 </td><td> 9   </td><td> 7   </td><td>90.57</td><td>26.6 </td></tr>\n",
       "</tbody>\n",
       "</table>\n"
      ],
      "text/latex": [
       "\\begin{tabular}{r|llllll}\n",
       "  & Fertility & Agriculture & Examination & Education & Catholic & Infant.Mortality\\\\\n",
       "\\hline\n",
       "\tCourtelary & 80.2  & 17.0  & 15    & 12    &  9.96 & 22.2 \\\\\n",
       "\tDelemont & 83.1  & 45.1  &  6    &  9    & 84.84 & 22.2 \\\\\n",
       "\tFranches-Mnt & 92.5  & 39.7  &  5    &  5    & 93.40 & 20.2 \\\\\n",
       "\tMoutier & 85.8  & 36.5  & 12    &  7    & 33.77 & 20.3 \\\\\n",
       "\tNeuveville & 76.9  & 43.5  & 17    & 15    &  5.16 & 20.6 \\\\\n",
       "\tPorrentruy & 76.1  & 35.3  &  9    &  7    & 90.57 & 26.6 \\\\\n",
       "\\end{tabular}\n"
      ],
      "text/markdown": [
       "\n",
       "| <!--/--> | Fertility | Agriculture | Examination | Education | Catholic | Infant.Mortality |\n",
       "|---|---|---|---|---|---|---|\n",
       "| Courtelary | 80.2  | 17.0  | 15    | 12    |  9.96 | 22.2  |\n",
       "| Delemont | 83.1  | 45.1  |  6    |  9    | 84.84 | 22.2  |\n",
       "| Franches-Mnt | 92.5  | 39.7  |  5    |  5    | 93.40 | 20.2  |\n",
       "| Moutier | 85.8  | 36.5  | 12    |  7    | 33.77 | 20.3  |\n",
       "| Neuveville | 76.9  | 43.5  | 17    | 15    |  5.16 | 20.6  |\n",
       "| Porrentruy | 76.1  | 35.3  |  9    |  7    | 90.57 | 26.6  |\n",
       "\n"
      ],
      "text/plain": [
       "             Fertility Agriculture Examination Education Catholic\n",
       "Courtelary   80.2      17.0        15          12         9.96   \n",
       "Delemont     83.1      45.1         6           9        84.84   \n",
       "Franches-Mnt 92.5      39.7         5           5        93.40   \n",
       "Moutier      85.8      36.5        12           7        33.77   \n",
       "Neuveville   76.9      43.5        17          15         5.16   \n",
       "Porrentruy   76.1      35.3         9           7        90.57   \n",
       "             Infant.Mortality\n",
       "Courtelary   22.2            \n",
       "Delemont     22.2            \n",
       "Franches-Mnt 20.2            \n",
       "Moutier      20.3            \n",
       "Neuveville   20.6            \n",
       "Porrentruy   26.6            "
      ]
     },
     "metadata": {},
     "output_type": "display_data"
    }
   ],
   "source": [
    "head(swiss)"
   ]
  },
  {
   "cell_type": "code",
   "execution_count": 4,
   "metadata": {},
   "outputs": [],
   "source": [
    "# Define training control\n",
    "set.seed(123) \n",
    "train.control <- trainControl(method = \"cv\", number = 10)"
   ]
  },
  {
   "cell_type": "code",
   "execution_count": 5,
   "metadata": {},
   "outputs": [],
   "source": [
    "# Train the model\n",
    "model <- train(Fertility ~., data = swiss, method = \"lm\",\n",
    "               trControl = train.control)"
   ]
  },
  {
   "cell_type": "markdown",
   "metadata": {},
   "source": [
    "We see that RMSE is 7.42"
   ]
  },
  {
   "cell_type": "code",
   "execution_count": 6,
   "metadata": {},
   "outputs": [
    {
     "name": "stdout",
     "output_type": "stream",
     "text": [
      "Linear Regression \n",
      "\n",
      "47 samples\n",
      " 5 predictor\n",
      "\n",
      "No pre-processing\n",
      "Resampling: Cross-Validated (10 fold) \n",
      "Summary of sample sizes: 42, 42, 42, 42, 42, 44, ... \n",
      "Resampling results:\n",
      "\n",
      "  RMSE      Rsquared   MAE    \n",
      "  7.424916  0.6922072  6.31218\n",
      "\n",
      "Tuning parameter 'intercept' was held constant at a value of TRUE\n"
     ]
    }
   ],
   "source": [
    "# Summarize the results\n",
    "print(model)"
   ]
  },
  {
   "cell_type": "markdown",
   "metadata": {},
   "source": [
    "Q. Redo the steps above with different methods (eg. boost, LOOCV...)"
   ]
  },
  {
   "cell_type": "code",
   "execution_count": 7,
   "metadata": {},
   "outputs": [
    {
     "name": "stdout",
     "output_type": "stream",
     "text": [
      "Linear Regression \n",
      "\n",
      "47 samples\n",
      " 5 predictor\n",
      "\n",
      "No pre-processing\n",
      "Resampling: Bootstrapped (10 reps) \n",
      "Summary of sample sizes: 47, 47, 47, 47, 47, 47, ... \n",
      "Resampling results:\n",
      "\n",
      "  RMSE      Rsquared   MAE    \n",
      "  8.498246  0.5774822  7.12855\n",
      "\n",
      "Tuning parameter 'intercept' was held constant at a value of TRUE\n"
     ]
    }
   ],
   "source": [
    "# Define training control\n",
    "set.seed(123) \n",
    "train.control <- trainControl(method = \"boot\", number = 10)\n",
    "# Train the model\n",
    "model <- train(Fertility ~., data = swiss, method = \"lm\",\n",
    "               trControl = train.control)\n",
    "# Summarize the results\n",
    "print(model)"
   ]
  },
  {
   "cell_type": "code",
   "execution_count": 8,
   "metadata": {},
   "outputs": [
    {
     "name": "stdout",
     "output_type": "stream",
     "text": [
      "Linear Regression \n",
      "\n",
      "47 samples\n",
      " 5 predictor\n",
      "\n",
      "No pre-processing\n",
      "Resampling: Leave-One-Out Cross-Validation \n",
      "Summary of sample sizes: 46, 46, 46, 46, 46, 46, ... \n",
      "Resampling results:\n",
      "\n",
      "  RMSE      Rsquared   MAE     \n",
      "  7.738618  0.6128307  6.116021\n",
      "\n",
      "Tuning parameter 'intercept' was held constant at a value of TRUE\n"
     ]
    }
   ],
   "source": [
    "# Define training control\n",
    "set.seed(123) \n",
    "train.control <- trainControl(method = \"LOOCV\", number = 10)\n",
    "# Train the model\n",
    "model <- train(Fertility ~., data = swiss, method = \"lm\",\n",
    "               trControl = train.control)\n",
    "# Summarize the results\n",
    "print(model)"
   ]
  },
  {
   "cell_type": "code",
   "execution_count": 9,
   "metadata": {},
   "outputs": [
    {
     "name": "stdout",
     "output_type": "stream",
     "text": [
      "Linear Regression \n",
      "\n",
      "47 samples\n",
      " 5 predictor\n",
      "\n",
      "No pre-processing\n",
      "Resampling: Repeated Train/Test Splits Estimated (10 reps, 75%) \n",
      "Summary of sample sizes: 36, 36, 36, 36, 36, 36, ... \n",
      "Resampling results:\n",
      "\n",
      "  RMSE      Rsquared   MAE     \n",
      "  6.408949  0.7242873  5.469535\n",
      "\n",
      "Tuning parameter 'intercept' was held constant at a value of TRUE\n"
     ]
    }
   ],
   "source": [
    "# Define training control\n",
    "set.seed(123) \n",
    "train.control <- trainControl(method = \"LGOCV\", number = 10)\n",
    "# Train the model\n",
    "model <- train(Fertility ~., data = swiss, method = \"lm\",\n",
    "               trControl = train.control)\n",
    "# Summarize the results\n",
    "print(model)"
   ]
  },
  {
   "cell_type": "code",
   "execution_count": 10,
   "metadata": {},
   "outputs": [
    {
     "name": "stdout",
     "output_type": "stream",
     "text": [
      "k-Nearest Neighbors \n",
      "\n",
      "47 samples\n",
      " 5 predictor\n",
      "\n",
      "No pre-processing\n",
      "Resampling: Adaptive Repeated Train/Test Splits Estimated (10 reps, 0.75%) \n",
      "Summary of sample sizes: 36, 36, 36, 36, 36, 36, ... \n",
      "Resampling results across tuning parameters:\n",
      "\n",
      "  k  RMSE      Rsquared   MAE       Resamples\n",
      "  5  8.179295  0.5035823  6.538182  10       \n",
      "  7  8.035155  0.5323973  6.292857  10       \n",
      "  9  8.851185  0.5160825  6.696162   5       \n",
      "\n",
      "RMSE was used to select the optimal model using the smallest value.\n",
      "The final value used for the model was k = 7.\n"
     ]
    }
   ],
   "source": [
    "# Define training control\n",
    "set.seed(123) \n",
    "train.control <- trainControl(method = \"adaptive_LGOCV\", number = 10)\n",
    "# Train the model\n",
    "model <- train(Fertility ~., data = swiss, method = \"knn\",\n",
    "               trControl = train.control)\n",
    "# Summarize the results\n",
    "print(model)"
   ]
  },
  {
   "cell_type": "markdown",
   "metadata": {},
   "source": [
    "Q. Change the seed to see any difference"
   ]
  },
  {
   "cell_type": "code",
   "execution_count": 11,
   "metadata": {
    "scrolled": true
   },
   "outputs": [
    {
     "name": "stdout",
     "output_type": "stream",
     "text": [
      "Linear Regression \n",
      "\n",
      "47 samples\n",
      " 5 predictor\n",
      "\n",
      "No pre-processing\n",
      "Resampling: Cross-Validated (10 fold) \n",
      "Summary of sample sizes: 42, 42, 43, 43, 41, 42, ... \n",
      "Resampling results:\n",
      "\n",
      "  RMSE      Rsquared   MAE    \n",
      "  7.689413  0.6653182  6.43128\n",
      "\n",
      "Tuning parameter 'intercept' was held constant at a value of TRUE\n"
     ]
    }
   ],
   "source": [
    "# Define training control\n",
    "set.seed(4) \n",
    "train.control <- trainControl(method = \"cv\", number = 10)\n",
    "# Train the model\n",
    "model <- train(Fertility ~., data = swiss, method = \"lm\",\n",
    "               trControl = train.control)\n",
    "# Summarize the results\n",
    "print(model)"
   ]
  },
  {
   "cell_type": "markdown",
   "metadata": {},
   "source": [
    "Q. Use trainControl for Classification Boston (that we did before)"
   ]
  },
  {
   "cell_type": "code",
   "execution_count": 12,
   "metadata": {},
   "outputs": [],
   "source": [
    "library(MASS)"
   ]
  },
  {
   "cell_type": "code",
   "execution_count": 13,
   "metadata": {},
   "outputs": [],
   "source": [
    "attach(Boston)"
   ]
  },
  {
   "cell_type": "code",
   "execution_count": 14,
   "metadata": {
    "scrolled": true
   },
   "outputs": [
    {
     "name": "stdout",
     "output_type": "stream",
     "text": [
      "Linear Regression \n",
      "\n",
      "506 samples\n",
      " 13 predictor\n",
      "\n",
      "No pre-processing\n",
      "Resampling: Cross-Validated (10 fold) \n",
      "Summary of sample sizes: 454, 455, 456, 456, 457, 456, ... \n",
      "Resampling results:\n",
      "\n",
      "  RMSE      Rsquared   MAE     \n",
      "  5.927811  0.5535411  2.934104\n",
      "\n",
      "Tuning parameter 'intercept' was held constant at a value of TRUE\n"
     ]
    }
   ],
   "source": [
    "# Define training control\n",
    "set.seed(123) \n",
    "train.control <- trainControl(method = \"cv\", number = 10)\n",
    "# Train the model\n",
    "model <- train(crim ~., data = Boston, method = \"lm\",\n",
    "               trControl = train.control)\n",
    "# Summarize the results\n",
    "print(model)"
   ]
  },
  {
   "cell_type": "code",
   "execution_count": 19,
   "metadata": {},
   "outputs": [],
   "source": [
    "detach(Boston)"
   ]
  },
  {
   "cell_type": "markdown",
   "metadata": {},
   "source": [
    "## Homework"
   ]
  },
  {
   "cell_type": "markdown",
   "metadata": {},
   "source": [
    "Use train control to predict Turnout and predict Obama or McCain wins (previous excercises)"
   ]
  },
  {
   "cell_type": "code",
   "execution_count": 15,
   "metadata": {
    "scrolled": false
   },
   "outputs": [
    {
     "data": {
      "text/html": [
       "<table>\n",
       "<thead><tr><th scope=col>State</th><th scope=col>Region</th><th scope=col>Obama</th><th scope=col>McCain</th><th scope=col>Turnout</th><th scope=col>Unemployment</th><th scope=col>Income</th><th scope=col>Population</th><th scope=col>Catholic</th><th scope=col>Protestant</th><th scope=col>Other</th><th scope=col>Non.religious</th><th scope=col>Black</th><th scope=col>Latino</th><th scope=col>Urbanization</th></tr></thead>\n",
       "<tbody>\n",
       "\t<tr><td>Alabama   </td><td>IV        </td><td>38.74     </td><td>60.32     </td><td>61.6      </td><td>5.9       </td><td>22732     </td><td> 4802982  </td><td> 6        </td><td>80        </td><td> 1        </td><td>11        </td><td>26.2      </td><td> 3.9      </td><td> 94.4     </td></tr>\n",
       "\t<tr><td>Alaska    </td><td>X         </td><td>37.89     </td><td>59.42     </td><td>68.0      </td><td>6.6       </td><td>29382     </td><td>  721523  </td><td>NA        </td><td>NA        </td><td>NA        </td><td>NA        </td><td> 3.3      </td><td> 5.5      </td><td>  1.2     </td></tr>\n",
       "\t<tr><td>Arizona   </td><td>IX        </td><td>44.91     </td><td>53.39     </td><td>55.7      </td><td>7.1       </td><td>25203     </td><td> 6412700  </td><td>29        </td><td>44        </td><td> 5        </td><td>17        </td><td> 4.1      </td><td>16.3      </td><td> 56.3     </td></tr>\n",
       "\t<tr><td>Arkansas  </td><td>VI        </td><td>38.86     </td><td>58.72     </td><td>53.1      </td><td>5.8       </td><td>20977     </td><td> 2926229  </td><td> 8        </td><td>79        </td><td> 1        </td><td> 8        </td><td>14.4      </td><td> 6.4      </td><td> 56.0     </td></tr>\n",
       "\t<tr><td>California</td><td>IX        </td><td>60.94     </td><td>36.91     </td><td>62.0      </td><td>8.2       </td><td>29020     </td><td>37341989  </td><td>37        </td><td>35        </td><td> 5        </td><td>18        </td><td> 6.2      </td><td>37.6      </td><td>239.1     </td></tr>\n",
       "\t<tr><td>Colorado  </td><td>VIII      </td><td>53.66     </td><td>44.71     </td><td>70.8      </td><td>5.4       </td><td>29679     </td><td> 5044930  </td><td>21        </td><td>49        </td><td> 4        </td><td>21        </td><td> 4.0      </td><td>20.7      </td><td> 48.5     </td></tr>\n",
       "</tbody>\n",
       "</table>\n"
      ],
      "text/latex": [
       "\\begin{tabular}{r|lllllllllllllll}\n",
       " State & Region & Obama & McCain & Turnout & Unemployment & Income & Population & Catholic & Protestant & Other & Non.religious & Black & Latino & Urbanization\\\\\n",
       "\\hline\n",
       "\t Alabama    & IV         & 38.74      & 60.32      & 61.6       & 5.9        & 22732      &  4802982   &  6         & 80         &  1         & 11         & 26.2       &  3.9       &  94.4     \\\\\n",
       "\t Alaska     & X          & 37.89      & 59.42      & 68.0       & 6.6        & 29382      &   721523   & NA         & NA         & NA         & NA         &  3.3       &  5.5       &   1.2     \\\\\n",
       "\t Arizona    & IX         & 44.91      & 53.39      & 55.7       & 7.1        & 25203      &  6412700   & 29         & 44         &  5         & 17         &  4.1       & 16.3       &  56.3     \\\\\n",
       "\t Arkansas   & VI         & 38.86      & 58.72      & 53.1       & 5.8        & 20977      &  2926229   &  8         & 79         &  1         &  8         & 14.4       &  6.4       &  56.0     \\\\\n",
       "\t California & IX         & 60.94      & 36.91      & 62.0       & 8.2        & 29020      & 37341989   & 37         & 35         &  5         & 18         &  6.2       & 37.6       & 239.1     \\\\\n",
       "\t Colorado   & VIII       & 53.66      & 44.71      & 70.8       & 5.4        & 29679      &  5044930   & 21         & 49         &  4         & 21         &  4.0       & 20.7       &  48.5     \\\\\n",
       "\\end{tabular}\n"
      ],
      "text/markdown": [
       "\n",
       "| State | Region | Obama | McCain | Turnout | Unemployment | Income | Population | Catholic | Protestant | Other | Non.religious | Black | Latino | Urbanization |\n",
       "|---|---|---|---|---|---|---|---|---|---|---|---|---|---|---|\n",
       "| Alabama    | IV         | 38.74      | 60.32      | 61.6       | 5.9        | 22732      |  4802982   |  6         | 80         |  1         | 11         | 26.2       |  3.9       |  94.4      |\n",
       "| Alaska     | X          | 37.89      | 59.42      | 68.0       | 6.6        | 29382      |   721523   | NA         | NA         | NA         | NA         |  3.3       |  5.5       |   1.2      |\n",
       "| Arizona    | IX         | 44.91      | 53.39      | 55.7       | 7.1        | 25203      |  6412700   | 29         | 44         |  5         | 17         |  4.1       | 16.3       |  56.3      |\n",
       "| Arkansas   | VI         | 38.86      | 58.72      | 53.1       | 5.8        | 20977      |  2926229   |  8         | 79         |  1         |  8         | 14.4       |  6.4       |  56.0      |\n",
       "| California | IX         | 60.94      | 36.91      | 62.0       | 8.2        | 29020      | 37341989   | 37         | 35         |  5         | 18         |  6.2       | 37.6       | 239.1      |\n",
       "| Colorado   | VIII       | 53.66      | 44.71      | 70.8       | 5.4        | 29679      |  5044930   | 21         | 49         |  4         | 21         |  4.0       | 20.7       |  48.5      |\n",
       "\n"
      ],
      "text/plain": [
       "  State      Region Obama McCain Turnout Unemployment Income Population\n",
       "1 Alabama    IV     38.74 60.32  61.6    5.9          22732   4802982  \n",
       "2 Alaska     X      37.89 59.42  68.0    6.6          29382    721523  \n",
       "3 Arizona    IX     44.91 53.39  55.7    7.1          25203   6412700  \n",
       "4 Arkansas   VI     38.86 58.72  53.1    5.8          20977   2926229  \n",
       "5 California IX     60.94 36.91  62.0    8.2          29020  37341989  \n",
       "6 Colorado   VIII   53.66 44.71  70.8    5.4          29679   5044930  \n",
       "  Catholic Protestant Other Non.religious Black Latino Urbanization\n",
       "1  6       80          1    11            26.2   3.9    94.4       \n",
       "2 NA       NA         NA    NA             3.3   5.5     1.2       \n",
       "3 29       44          5    17             4.1  16.3    56.3       \n",
       "4  8       79          1     8            14.4   6.4    56.0       \n",
       "5 37       35          5    18             6.2  37.6   239.1       \n",
       "6 21       49          4    21             4.0  20.7    48.5       "
      ]
     },
     "metadata": {},
     "output_type": "display_data"
    }
   ],
   "source": [
    "library(learningr)\n",
    "head(obama_vs_mccain)"
   ]
  },
  {
   "cell_type": "code",
   "execution_count": 16,
   "metadata": {},
   "outputs": [],
   "source": [
    "obama_vs_mccain <- na.omit(obama_vs_mccain)"
   ]
  },
  {
   "cell_type": "code",
   "execution_count": 17,
   "metadata": {},
   "outputs": [],
   "source": [
    "attach(obama_vs_mccain)"
   ]
  },
  {
   "cell_type": "code",
   "execution_count": 36,
   "metadata": {
    "scrolled": true
   },
   "outputs": [
    {
     "data": {
      "text/html": [
       "<table>\n",
       "<thead><tr><th></th><th scope=col>Obama</th><th scope=col>McCain</th><th scope=col>Turnout</th><th scope=col>Unemployment</th><th scope=col>Income</th><th scope=col>Population</th><th scope=col>Catholic</th><th scope=col>Protestant</th><th scope=col>Other</th><th scope=col>Non.religious</th><th scope=col>Black</th><th scope=col>Latino</th><th scope=col>Urbanization</th></tr></thead>\n",
       "<tbody>\n",
       "\t<tr><th scope=row>1</th><td>38.74   </td><td>60.32   </td><td>61.6    </td><td>5.9     </td><td>22732   </td><td> 4802982</td><td> 6      </td><td>80      </td><td>1       </td><td>11      </td><td>26.2    </td><td> 3.9    </td><td>  94.4  </td></tr>\n",
       "\t<tr><th scope=row>3</th><td>44.91   </td><td>53.39   </td><td>55.7    </td><td>7.1     </td><td>25203   </td><td> 6412700</td><td>29      </td><td>44      </td><td>5       </td><td>17      </td><td> 4.1    </td><td>16.3    </td><td>  56.3  </td></tr>\n",
       "\t<tr><th scope=row>4</th><td>38.86   </td><td>58.72   </td><td>53.1    </td><td>5.8     </td><td>20977   </td><td> 2926229</td><td> 8      </td><td>79      </td><td>1       </td><td> 8      </td><td>14.4    </td><td> 6.4    </td><td>  56.0  </td></tr>\n",
       "\t<tr><th scope=row>5</th><td>60.94   </td><td>36.91   </td><td>62.0    </td><td>8.2     </td><td>29020   </td><td>37341989</td><td>37      </td><td>35      </td><td>5       </td><td>18      </td><td> 6.2    </td><td>37.6    </td><td> 239.1  </td></tr>\n",
       "\t<tr><th scope=row>6</th><td>53.66   </td><td>44.71   </td><td>70.8    </td><td>5.4     </td><td>29679   </td><td> 5044930</td><td>21      </td><td>49      </td><td>4       </td><td>21      </td><td> 4.0    </td><td>20.7    </td><td>  48.5  </td></tr>\n",
       "\t<tr><th scope=row>8</th><td>92.46   </td><td> 6.53   </td><td>62.0    </td><td>7.4     </td><td>40846   </td><td>  601723</td><td>13      </td><td>59      </td><td>6       </td><td>18      </td><td>50.7    </td><td> 9.1    </td><td>9856.5  </td></tr>\n",
       "\t<tr><th scope=row>9</th><td>61.91   </td><td>36.93   </td><td>66.7    </td><td>5.9     </td><td>28935   </td><td>  900877</td><td>26      </td><td>48      </td><td>1       </td><td>23      </td><td>21.4    </td><td> 8.2    </td><td> 460.8  </td></tr>\n",
       "\t<tr><th scope=row>10</th><td>50.91   </td><td>48.10   </td><td>67.4    </td><td>7.3     </td><td>26503   </td><td>18900773</td><td>27      </td><td>49      </td><td>4       </td><td>14      </td><td>16.0    </td><td>22.5    </td><td> 350.6  </td></tr>\n",
       "\t<tr><th scope=row>11</th><td>46.90   </td><td>52.10   </td><td>61.8    </td><td>7.2     </td><td>25098   </td><td> 9727566</td><td> 9      </td><td>72      </td><td>4       </td><td> 9      </td><td>30.5    </td><td> 8.8    </td><td> 168.4  </td></tr>\n",
       "\t<tr><th scope=row>13</th><td>35.91   </td><td>61.21   </td><td>64.9    </td><td>5.7     </td><td>22262   </td><td> 1573499</td><td>10      </td><td>59      </td><td>3       </td><td>23      </td><td> 0.6    </td><td>11.2    </td><td>  19.0  </td></tr>\n",
       "\t<tr><th scope=row>14</th><td>61.85   </td><td>36.74   </td><td>63.8    </td><td>6.9     </td><td>28469   </td><td>12864380</td><td>32      </td><td>45      </td><td>3       </td><td>13      </td><td>14.5    </td><td>15.8    </td><td> 231.1  </td></tr>\n",
       "\t<tr><th scope=row>15</th><td>49.85   </td><td>48.82   </td><td>60.5    </td><td>6.9     </td><td>24044   </td><td> 6501582</td><td>19      </td><td>59      </td><td>3       </td><td>15      </td><td> 9.1    </td><td> 6.0    </td><td> 181.0  </td></tr>\n",
       "\t<tr><th scope=row>16</th><td>53.93   </td><td>44.39   </td><td>70.0    </td><td>4.7     </td><td>25060   </td><td> 3053787</td><td>22      </td><td>54      </td><td>4       </td><td>15      </td><td> 2.9    </td><td> 5.0    </td><td>  54.5  </td></tr>\n",
       "\t<tr><th scope=row>17</th><td>41.55   </td><td>56.48   </td><td>63.4    </td><td>5.0     </td><td>25522   </td><td> 2863813</td><td>21      </td><td>61      </td><td>3       </td><td>11      </td><td> 5.9    </td><td>10.5    </td><td>  34.9  </td></tr>\n",
       "\t<tr><th scope=row>18</th><td>41.15   </td><td>57.37   </td><td>58.9    </td><td>7.4     </td><td>22284   </td><td> 4350606</td><td>14      </td><td>66      </td><td>1       </td><td>13      </td><td> 7.8    </td><td> 3.1    </td><td> 109.9  </td></tr>\n",
       "\t<tr><th scope=row>19</th><td>39.93   </td><td>58.56   </td><td>61.7    </td><td>5.1     </td><td>22535   </td><td> 4553962</td><td>31      </td><td>57      </td><td>1       </td><td> 8      </td><td>32.0    </td><td> 4.2    </td><td> 104.9  </td></tr>\n",
       "\t<tr><th scope=row>20</th><td>57.71   </td><td>40.38   </td><td>72.2    </td><td>6.0     </td><td>24980   </td><td> 1333074</td><td>22      </td><td>47      </td><td>3       </td><td>25      </td><td> 1.2    </td><td> 1.3    </td><td>  43.1  </td></tr>\n",
       "\t<tr><th scope=row>21</th><td>61.92   </td><td>36.47   </td><td>68.0    </td><td>5.2     </td><td>34236   </td><td> 5789929</td><td>27      </td><td>49      </td><td>6       </td><td>13      </td><td>29.4    </td><td> 8.2    </td><td> 594.8  </td></tr>\n",
       "\t<tr><th scope=row>22</th><td>61.80   </td><td>35.99   </td><td>66.4    </td><td>6.0     </td><td>33460   </td><td> 6559644</td><td>39      </td><td>26      </td><td>5       </td><td>22      </td><td> 6.6    </td><td> 9.6    </td><td> 839.4  </td></tr>\n",
       "\t<tr><th scope=row>23</th><td>57.33   </td><td>40.89   </td><td>68.9    </td><td>9.4     </td><td>25172   </td><td> 9911626</td><td>20      </td><td>55      </td><td>3       </td><td>16      </td><td>14.2    </td><td> 4.4    </td><td> 174.8  </td></tr>\n",
       "\t<tr><th scope=row>24</th><td>54.06   </td><td>43.82   </td><td>78.0    </td><td>5.9     </td><td>29431   </td><td> 5314879</td><td>29      </td><td>51      </td><td>4       </td><td>12      </td><td> 5.2    </td><td> 4.7    </td><td>  66.6  </td></tr>\n",
       "\t<tr><th scope=row>26</th><td>49.23   </td><td>49.36   </td><td>68.7    </td><td>6.8     </td><td>24423   </td><td> 6011478</td><td>18      </td><td>61      </td><td>3       </td><td>14      </td><td>11.6    </td><td> 3.5    </td><td>  87.1  </td></tr>\n",
       "\t<tr><th scope=row>27</th><td>47.11   </td><td>49.49   </td><td>67.5    </td><td>5.1     </td><td>22881   </td><td>  994416</td><td>12      </td><td>58      </td><td>4       </td><td>21      </td><td> 0.4    </td><td> 2.9    </td><td>   6.8  </td></tr>\n",
       "\t<tr><th scope=row>28</th><td>41.60   </td><td>56.53   </td><td>64.2    </td><td>3.5     </td><td>24568   </td><td> 1831825</td><td>22      </td><td>53      </td><td>3       </td><td>17      </td><td> 4.5    </td><td> 9.2    </td><td>  23.8  </td></tr>\n",
       "\t<tr><th scope=row>29</th><td>55.15   </td><td>42.65   </td><td>58.8    </td><td>8.1     </td><td>27395   </td><td> 2709432</td><td>23      </td><td>41      </td><td>4       </td><td>24      </td><td> 8.1    </td><td>26.5    </td><td>  24.6  </td></tr>\n",
       "\t<tr><th scope=row>30</th><td>54.13   </td><td>44.52   </td><td>71.9    </td><td>4.3     </td><td>30640   </td><td> 1321445</td><td>32      </td><td>30      </td><td>2       </td><td>29      </td><td> 1.1    </td><td> 2.8    </td><td> 147.0  </td></tr>\n",
       "\t<tr><th scope=row>31</th><td>57.14   </td><td>41.61   </td><td>67.9    </td><td>6.1     </td><td>34556   </td><td> 8807501</td><td>42      </td><td>30      </td><td>7       </td><td>15      </td><td>13.7    </td><td>17.7    </td><td>1195.5  </td></tr>\n",
       "\t<tr><th scope=row>32</th><td>56.91   </td><td>41.78   </td><td>62.0    </td><td>5.2     </td><td>22461   </td><td> 2067273</td><td>33      </td><td>41      </td><td>3       </td><td>16      </td><td> 2.1    </td><td>46.3    </td><td>  17.0  </td></tr>\n",
       "\t<tr><th scope=row>33</th><td>62.88   </td><td>36.03   </td><td>58.9    </td><td>5.9     </td><td>30634   </td><td>19421055</td><td>37      </td><td>34      </td><td>8       </td><td>14      </td><td>15.9    </td><td>17.6    </td><td> 411.2  </td></tr>\n",
       "\t<tr><th scope=row>34</th><td>49.70   </td><td>49.38   </td><td>66.8    </td><td>7.3     </td><td>24547   </td><td> 9565781</td><td> 9      </td><td>73      </td><td>2       </td><td>10      </td><td>21.5    </td><td> 8.4    </td><td> 196.1  </td></tr>\n",
       "\t<tr><th scope=row>35</th><td>44.50   </td><td>53.15   </td><td>65.3    </td><td>3.4     </td><td>24978   </td><td>  675905</td><td>28      </td><td>62      </td><td>0       </td><td> 7      </td><td> 1.2    </td><td> 2.0    </td><td>   9.7  </td></tr>\n",
       "\t<tr><th scope=row>36</th><td>51.38   </td><td>46.80   </td><td>67.5    </td><td>7.3     </td><td>24830   </td><td>11568495</td><td>20      </td><td>56      </td><td>3       </td><td>17      </td><td>12.2    </td><td> 3.1    </td><td> 282.3  </td></tr>\n",
       "\t<tr><th scope=row>37</th><td>34.35   </td><td>65.65   </td><td>56.8    </td><td>4.1     </td><td>22561   </td><td> 3764882</td><td> 7      </td><td>73      </td><td>2       </td><td>11      </td><td> 7.4    </td><td> 8.9    </td><td>  54.7  </td></tr>\n",
       "\t<tr><th scope=row>38</th><td>56.75   </td><td>40.40   </td><td>68.1    </td><td>7.7     </td><td>25893   </td><td> 3848606</td><td>14      </td><td>52      </td><td>3       </td><td>24      </td><td> 1.8    </td><td>11.7    </td><td>  39.9  </td></tr>\n",
       "\t<tr><th scope=row>40</th><td>62.86   </td><td>35.06   </td><td>62.4    </td><td>8.7     </td><td>28638   </td><td> 1055247</td><td>46      </td><td>28      </td><td>2       </td><td>19      </td><td> 5.7    </td><td>12.4    </td><td>1081.1  </td></tr>\n",
       "\t<tr><th scope=row>41</th><td>44.90   </td><td>53.87   </td><td>58.7    </td><td>8.0     </td><td>23196   </td><td> 4645975</td><td>10      </td><td>73      </td><td>2       </td><td>10      </td><td>27.9    </td><td> 5.1    </td><td> 153.9  </td></tr>\n",
       "\t<tr><th scope=row>42</th><td>44.75   </td><td>53.16   </td><td>65.0    </td><td>3.5     </td><td>23445   </td><td>  819761</td><td>19      </td><td>59      </td><td>4       </td><td>12      </td><td> 1.3    </td><td> 2.7    </td><td>  10.7  </td></tr>\n",
       "\t<tr><th scope=row>43</th><td>41.79   </td><td>56.85   </td><td>57.4    </td><td>7.4     </td><td>23557   </td><td> 6375431</td><td> 7      </td><td>76      </td><td>3       </td><td> 9      </td><td>16.7    </td><td> 4.6    </td><td> 153.9  </td></tr>\n",
       "\t<tr><th scope=row>45</th><td>34.22   </td><td>62.24   </td><td>55.6    </td><td>4.3     </td><td>22684   </td><td> 2770765</td><td> 7      </td><td>71      </td><td>1       </td><td>14      </td><td> 1.1    </td><td>13.0    </td><td>  33.6  </td></tr>\n",
       "\t<tr><th scope=row>46</th><td>67.46   </td><td>30.45   </td><td>67.6    </td><td>4.9     </td><td>27036   </td><td>  630337</td><td>26      </td><td>29      </td><td>4       </td><td>34      </td><td> 1.0    </td><td> 1.5    </td><td>  67.9  </td></tr>\n",
       "\t<tr><th scope=row>47</th><td>52.63   </td><td>46.33   </td><td>68.0    </td><td>4.5     </td><td>31606   </td><td> 8037736</td><td>11      </td><td>65      </td><td>4       </td><td>15      </td><td>19.4    </td><td> 7.9    </td><td> 202.6  </td></tr>\n",
       "\t<tr><th scope=row>48</th><td>57.34   </td><td>40.26   </td><td>67.3    </td><td>6.2     </td><td>29320   </td><td> 6753369</td><td>16      </td><td>48      </td><td>5       </td><td>25      </td><td> 3.6    </td><td>11.2    </td><td> 101.2  </td></tr>\n",
       "\t<tr><th scope=row>49</th><td>42.51   </td><td>55.60   </td><td>52.0    </td><td>4.6     </td><td>20891   </td><td> 1859815</td><td> 7      </td><td>70      </td><td>2       </td><td>15      </td><td> 3.4    </td><td> 1.2    </td><td>  77.1  </td></tr>\n",
       "\t<tr><th scope=row>50</th><td>56.22   </td><td>42.31   </td><td>72.5    </td><td>5.4     </td><td>26447   </td><td> 5698230</td><td>29      </td><td>47      </td><td>4       </td><td>15      </td><td> 6.3    </td><td> 5.9    </td><td> 105.0  </td></tr>\n",
       "\t<tr><th scope=row>51</th><td>32.54   </td><td>64.78   </td><td>64.9    </td><td>3.5     </td><td>26925   </td><td>  563626</td><td>13      </td><td>54      </td><td>1       </td><td>28      </td><td> 0.8    </td><td> 8.9    </td><td>   5.8  </td></tr>\n",
       "</tbody>\n",
       "</table>\n"
      ],
      "text/latex": [
       "\\begin{tabular}{r|lllllllllllll}\n",
       "  & Obama & McCain & Turnout & Unemployment & Income & Population & Catholic & Protestant & Other & Non.religious & Black & Latino & Urbanization\\\\\n",
       "\\hline\n",
       "\t1 & 38.74    & 60.32    & 61.6     & 5.9      & 22732    &  4802982 &  6       & 80       & 1        & 11       & 26.2     &  3.9     &   94.4  \\\\\n",
       "\t3 & 44.91    & 53.39    & 55.7     & 7.1      & 25203    &  6412700 & 29       & 44       & 5        & 17       &  4.1     & 16.3     &   56.3  \\\\\n",
       "\t4 & 38.86    & 58.72    & 53.1     & 5.8      & 20977    &  2926229 &  8       & 79       & 1        &  8       & 14.4     &  6.4     &   56.0  \\\\\n",
       "\t5 & 60.94    & 36.91    & 62.0     & 8.2      & 29020    & 37341989 & 37       & 35       & 5        & 18       &  6.2     & 37.6     &  239.1  \\\\\n",
       "\t6 & 53.66    & 44.71    & 70.8     & 5.4      & 29679    &  5044930 & 21       & 49       & 4        & 21       &  4.0     & 20.7     &   48.5  \\\\\n",
       "\t8 & 92.46    &  6.53    & 62.0     & 7.4      & 40846    &   601723 & 13       & 59       & 6        & 18       & 50.7     &  9.1     & 9856.5  \\\\\n",
       "\t9 & 61.91    & 36.93    & 66.7     & 5.9      & 28935    &   900877 & 26       & 48       & 1        & 23       & 21.4     &  8.2     &  460.8  \\\\\n",
       "\t10 & 50.91    & 48.10    & 67.4     & 7.3      & 26503    & 18900773 & 27       & 49       & 4        & 14       & 16.0     & 22.5     &  350.6  \\\\\n",
       "\t11 & 46.90    & 52.10    & 61.8     & 7.2      & 25098    &  9727566 &  9       & 72       & 4        &  9       & 30.5     &  8.8     &  168.4  \\\\\n",
       "\t13 & 35.91    & 61.21    & 64.9     & 5.7      & 22262    &  1573499 & 10       & 59       & 3        & 23       &  0.6     & 11.2     &   19.0  \\\\\n",
       "\t14 & 61.85    & 36.74    & 63.8     & 6.9      & 28469    & 12864380 & 32       & 45       & 3        & 13       & 14.5     & 15.8     &  231.1  \\\\\n",
       "\t15 & 49.85    & 48.82    & 60.5     & 6.9      & 24044    &  6501582 & 19       & 59       & 3        & 15       &  9.1     &  6.0     &  181.0  \\\\\n",
       "\t16 & 53.93    & 44.39    & 70.0     & 4.7      & 25060    &  3053787 & 22       & 54       & 4        & 15       &  2.9     &  5.0     &   54.5  \\\\\n",
       "\t17 & 41.55    & 56.48    & 63.4     & 5.0      & 25522    &  2863813 & 21       & 61       & 3        & 11       &  5.9     & 10.5     &   34.9  \\\\\n",
       "\t18 & 41.15    & 57.37    & 58.9     & 7.4      & 22284    &  4350606 & 14       & 66       & 1        & 13       &  7.8     &  3.1     &  109.9  \\\\\n",
       "\t19 & 39.93    & 58.56    & 61.7     & 5.1      & 22535    &  4553962 & 31       & 57       & 1        &  8       & 32.0     &  4.2     &  104.9  \\\\\n",
       "\t20 & 57.71    & 40.38    & 72.2     & 6.0      & 24980    &  1333074 & 22       & 47       & 3        & 25       &  1.2     &  1.3     &   43.1  \\\\\n",
       "\t21 & 61.92    & 36.47    & 68.0     & 5.2      & 34236    &  5789929 & 27       & 49       & 6        & 13       & 29.4     &  8.2     &  594.8  \\\\\n",
       "\t22 & 61.80    & 35.99    & 66.4     & 6.0      & 33460    &  6559644 & 39       & 26       & 5        & 22       &  6.6     &  9.6     &  839.4  \\\\\n",
       "\t23 & 57.33    & 40.89    & 68.9     & 9.4      & 25172    &  9911626 & 20       & 55       & 3        & 16       & 14.2     &  4.4     &  174.8  \\\\\n",
       "\t24 & 54.06    & 43.82    & 78.0     & 5.9      & 29431    &  5314879 & 29       & 51       & 4        & 12       &  5.2     &  4.7     &   66.6  \\\\\n",
       "\t26 & 49.23    & 49.36    & 68.7     & 6.8      & 24423    &  6011478 & 18       & 61       & 3        & 14       & 11.6     &  3.5     &   87.1  \\\\\n",
       "\t27 & 47.11    & 49.49    & 67.5     & 5.1      & 22881    &   994416 & 12       & 58       & 4        & 21       &  0.4     &  2.9     &    6.8  \\\\\n",
       "\t28 & 41.60    & 56.53    & 64.2     & 3.5      & 24568    &  1831825 & 22       & 53       & 3        & 17       &  4.5     &  9.2     &   23.8  \\\\\n",
       "\t29 & 55.15    & 42.65    & 58.8     & 8.1      & 27395    &  2709432 & 23       & 41       & 4        & 24       &  8.1     & 26.5     &   24.6  \\\\\n",
       "\t30 & 54.13    & 44.52    & 71.9     & 4.3      & 30640    &  1321445 & 32       & 30       & 2        & 29       &  1.1     &  2.8     &  147.0  \\\\\n",
       "\t31 & 57.14    & 41.61    & 67.9     & 6.1      & 34556    &  8807501 & 42       & 30       & 7        & 15       & 13.7     & 17.7     & 1195.5  \\\\\n",
       "\t32 & 56.91    & 41.78    & 62.0     & 5.2      & 22461    &  2067273 & 33       & 41       & 3        & 16       &  2.1     & 46.3     &   17.0  \\\\\n",
       "\t33 & 62.88    & 36.03    & 58.9     & 5.9      & 30634    & 19421055 & 37       & 34       & 8        & 14       & 15.9     & 17.6     &  411.2  \\\\\n",
       "\t34 & 49.70    & 49.38    & 66.8     & 7.3      & 24547    &  9565781 &  9       & 73       & 2        & 10       & 21.5     &  8.4     &  196.1  \\\\\n",
       "\t35 & 44.50    & 53.15    & 65.3     & 3.4      & 24978    &   675905 & 28       & 62       & 0        &  7       &  1.2     &  2.0     &    9.7  \\\\\n",
       "\t36 & 51.38    & 46.80    & 67.5     & 7.3      & 24830    & 11568495 & 20       & 56       & 3        & 17       & 12.2     &  3.1     &  282.3  \\\\\n",
       "\t37 & 34.35    & 65.65    & 56.8     & 4.1      & 22561    &  3764882 &  7       & 73       & 2        & 11       &  7.4     &  8.9     &   54.7  \\\\\n",
       "\t38 & 56.75    & 40.40    & 68.1     & 7.7      & 25893    &  3848606 & 14       & 52       & 3        & 24       &  1.8     & 11.7     &   39.9  \\\\\n",
       "\t40 & 62.86    & 35.06    & 62.4     & 8.7      & 28638    &  1055247 & 46       & 28       & 2        & 19       &  5.7     & 12.4     & 1081.1  \\\\\n",
       "\t41 & 44.90    & 53.87    & 58.7     & 8.0      & 23196    &  4645975 & 10       & 73       & 2        & 10       & 27.9     &  5.1     &  153.9  \\\\\n",
       "\t42 & 44.75    & 53.16    & 65.0     & 3.5      & 23445    &   819761 & 19       & 59       & 4        & 12       &  1.3     &  2.7     &   10.7  \\\\\n",
       "\t43 & 41.79    & 56.85    & 57.4     & 7.4      & 23557    &  6375431 &  7       & 76       & 3        &  9       & 16.7     &  4.6     &  153.9  \\\\\n",
       "\t45 & 34.22    & 62.24    & 55.6     & 4.3      & 22684    &  2770765 &  7       & 71       & 1        & 14       &  1.1     & 13.0     &   33.6  \\\\\n",
       "\t46 & 67.46    & 30.45    & 67.6     & 4.9      & 27036    &   630337 & 26       & 29       & 4        & 34       &  1.0     &  1.5     &   67.9  \\\\\n",
       "\t47 & 52.63    & 46.33    & 68.0     & 4.5      & 31606    &  8037736 & 11       & 65       & 4        & 15       & 19.4     &  7.9     &  202.6  \\\\\n",
       "\t48 & 57.34    & 40.26    & 67.3     & 6.2      & 29320    &  6753369 & 16       & 48       & 5        & 25       &  3.6     & 11.2     &  101.2  \\\\\n",
       "\t49 & 42.51    & 55.60    & 52.0     & 4.6      & 20891    &  1859815 &  7       & 70       & 2        & 15       &  3.4     &  1.2     &   77.1  \\\\\n",
       "\t50 & 56.22    & 42.31    & 72.5     & 5.4      & 26447    &  5698230 & 29       & 47       & 4        & 15       &  6.3     &  5.9     &  105.0  \\\\\n",
       "\t51 & 32.54    & 64.78    & 64.9     & 3.5      & 26925    &   563626 & 13       & 54       & 1        & 28       &  0.8     &  8.9     &    5.8  \\\\\n",
       "\\end{tabular}\n"
      ],
      "text/markdown": [
       "\n",
       "| <!--/--> | Obama | McCain | Turnout | Unemployment | Income | Population | Catholic | Protestant | Other | Non.religious | Black | Latino | Urbanization |\n",
       "|---|---|---|---|---|---|---|---|---|---|---|---|---|---|\n",
       "| 1 | 38.74    | 60.32    | 61.6     | 5.9      | 22732    |  4802982 |  6       | 80       | 1        | 11       | 26.2     |  3.9     |   94.4   |\n",
       "| 3 | 44.91    | 53.39    | 55.7     | 7.1      | 25203    |  6412700 | 29       | 44       | 5        | 17       |  4.1     | 16.3     |   56.3   |\n",
       "| 4 | 38.86    | 58.72    | 53.1     | 5.8      | 20977    |  2926229 |  8       | 79       | 1        |  8       | 14.4     |  6.4     |   56.0   |\n",
       "| 5 | 60.94    | 36.91    | 62.0     | 8.2      | 29020    | 37341989 | 37       | 35       | 5        | 18       |  6.2     | 37.6     |  239.1   |\n",
       "| 6 | 53.66    | 44.71    | 70.8     | 5.4      | 29679    |  5044930 | 21       | 49       | 4        | 21       |  4.0     | 20.7     |   48.5   |\n",
       "| 8 | 92.46    |  6.53    | 62.0     | 7.4      | 40846    |   601723 | 13       | 59       | 6        | 18       | 50.7     |  9.1     | 9856.5   |\n",
       "| 9 | 61.91    | 36.93    | 66.7     | 5.9      | 28935    |   900877 | 26       | 48       | 1        | 23       | 21.4     |  8.2     |  460.8   |\n",
       "| 10 | 50.91    | 48.10    | 67.4     | 7.3      | 26503    | 18900773 | 27       | 49       | 4        | 14       | 16.0     | 22.5     |  350.6   |\n",
       "| 11 | 46.90    | 52.10    | 61.8     | 7.2      | 25098    |  9727566 |  9       | 72       | 4        |  9       | 30.5     |  8.8     |  168.4   |\n",
       "| 13 | 35.91    | 61.21    | 64.9     | 5.7      | 22262    |  1573499 | 10       | 59       | 3        | 23       |  0.6     | 11.2     |   19.0   |\n",
       "| 14 | 61.85    | 36.74    | 63.8     | 6.9      | 28469    | 12864380 | 32       | 45       | 3        | 13       | 14.5     | 15.8     |  231.1   |\n",
       "| 15 | 49.85    | 48.82    | 60.5     | 6.9      | 24044    |  6501582 | 19       | 59       | 3        | 15       |  9.1     |  6.0     |  181.0   |\n",
       "| 16 | 53.93    | 44.39    | 70.0     | 4.7      | 25060    |  3053787 | 22       | 54       | 4        | 15       |  2.9     |  5.0     |   54.5   |\n",
       "| 17 | 41.55    | 56.48    | 63.4     | 5.0      | 25522    |  2863813 | 21       | 61       | 3        | 11       |  5.9     | 10.5     |   34.9   |\n",
       "| 18 | 41.15    | 57.37    | 58.9     | 7.4      | 22284    |  4350606 | 14       | 66       | 1        | 13       |  7.8     |  3.1     |  109.9   |\n",
       "| 19 | 39.93    | 58.56    | 61.7     | 5.1      | 22535    |  4553962 | 31       | 57       | 1        |  8       | 32.0     |  4.2     |  104.9   |\n",
       "| 20 | 57.71    | 40.38    | 72.2     | 6.0      | 24980    |  1333074 | 22       | 47       | 3        | 25       |  1.2     |  1.3     |   43.1   |\n",
       "| 21 | 61.92    | 36.47    | 68.0     | 5.2      | 34236    |  5789929 | 27       | 49       | 6        | 13       | 29.4     |  8.2     |  594.8   |\n",
       "| 22 | 61.80    | 35.99    | 66.4     | 6.0      | 33460    |  6559644 | 39       | 26       | 5        | 22       |  6.6     |  9.6     |  839.4   |\n",
       "| 23 | 57.33    | 40.89    | 68.9     | 9.4      | 25172    |  9911626 | 20       | 55       | 3        | 16       | 14.2     |  4.4     |  174.8   |\n",
       "| 24 | 54.06    | 43.82    | 78.0     | 5.9      | 29431    |  5314879 | 29       | 51       | 4        | 12       |  5.2     |  4.7     |   66.6   |\n",
       "| 26 | 49.23    | 49.36    | 68.7     | 6.8      | 24423    |  6011478 | 18       | 61       | 3        | 14       | 11.6     |  3.5     |   87.1   |\n",
       "| 27 | 47.11    | 49.49    | 67.5     | 5.1      | 22881    |   994416 | 12       | 58       | 4        | 21       |  0.4     |  2.9     |    6.8   |\n",
       "| 28 | 41.60    | 56.53    | 64.2     | 3.5      | 24568    |  1831825 | 22       | 53       | 3        | 17       |  4.5     |  9.2     |   23.8   |\n",
       "| 29 | 55.15    | 42.65    | 58.8     | 8.1      | 27395    |  2709432 | 23       | 41       | 4        | 24       |  8.1     | 26.5     |   24.6   |\n",
       "| 30 | 54.13    | 44.52    | 71.9     | 4.3      | 30640    |  1321445 | 32       | 30       | 2        | 29       |  1.1     |  2.8     |  147.0   |\n",
       "| 31 | 57.14    | 41.61    | 67.9     | 6.1      | 34556    |  8807501 | 42       | 30       | 7        | 15       | 13.7     | 17.7     | 1195.5   |\n",
       "| 32 | 56.91    | 41.78    | 62.0     | 5.2      | 22461    |  2067273 | 33       | 41       | 3        | 16       |  2.1     | 46.3     |   17.0   |\n",
       "| 33 | 62.88    | 36.03    | 58.9     | 5.9      | 30634    | 19421055 | 37       | 34       | 8        | 14       | 15.9     | 17.6     |  411.2   |\n",
       "| 34 | 49.70    | 49.38    | 66.8     | 7.3      | 24547    |  9565781 |  9       | 73       | 2        | 10       | 21.5     |  8.4     |  196.1   |\n",
       "| 35 | 44.50    | 53.15    | 65.3     | 3.4      | 24978    |   675905 | 28       | 62       | 0        |  7       |  1.2     |  2.0     |    9.7   |\n",
       "| 36 | 51.38    | 46.80    | 67.5     | 7.3      | 24830    | 11568495 | 20       | 56       | 3        | 17       | 12.2     |  3.1     |  282.3   |\n",
       "| 37 | 34.35    | 65.65    | 56.8     | 4.1      | 22561    |  3764882 |  7       | 73       | 2        | 11       |  7.4     |  8.9     |   54.7   |\n",
       "| 38 | 56.75    | 40.40    | 68.1     | 7.7      | 25893    |  3848606 | 14       | 52       | 3        | 24       |  1.8     | 11.7     |   39.9   |\n",
       "| 40 | 62.86    | 35.06    | 62.4     | 8.7      | 28638    |  1055247 | 46       | 28       | 2        | 19       |  5.7     | 12.4     | 1081.1   |\n",
       "| 41 | 44.90    | 53.87    | 58.7     | 8.0      | 23196    |  4645975 | 10       | 73       | 2        | 10       | 27.9     |  5.1     |  153.9   |\n",
       "| 42 | 44.75    | 53.16    | 65.0     | 3.5      | 23445    |   819761 | 19       | 59       | 4        | 12       |  1.3     |  2.7     |   10.7   |\n",
       "| 43 | 41.79    | 56.85    | 57.4     | 7.4      | 23557    |  6375431 |  7       | 76       | 3        |  9       | 16.7     |  4.6     |  153.9   |\n",
       "| 45 | 34.22    | 62.24    | 55.6     | 4.3      | 22684    |  2770765 |  7       | 71       | 1        | 14       |  1.1     | 13.0     |   33.6   |\n",
       "| 46 | 67.46    | 30.45    | 67.6     | 4.9      | 27036    |   630337 | 26       | 29       | 4        | 34       |  1.0     |  1.5     |   67.9   |\n",
       "| 47 | 52.63    | 46.33    | 68.0     | 4.5      | 31606    |  8037736 | 11       | 65       | 4        | 15       | 19.4     |  7.9     |  202.6   |\n",
       "| 48 | 57.34    | 40.26    | 67.3     | 6.2      | 29320    |  6753369 | 16       | 48       | 5        | 25       |  3.6     | 11.2     |  101.2   |\n",
       "| 49 | 42.51    | 55.60    | 52.0     | 4.6      | 20891    |  1859815 |  7       | 70       | 2        | 15       |  3.4     |  1.2     |   77.1   |\n",
       "| 50 | 56.22    | 42.31    | 72.5     | 5.4      | 26447    |  5698230 | 29       | 47       | 4        | 15       |  6.3     |  5.9     |  105.0   |\n",
       "| 51 | 32.54    | 64.78    | 64.9     | 3.5      | 26925    |   563626 | 13       | 54       | 1        | 28       |  0.8     |  8.9     |    5.8   |\n",
       "\n"
      ],
      "text/plain": [
       "   Obama McCain Turnout Unemployment Income Population Catholic Protestant\n",
       "1  38.74 60.32  61.6    5.9          22732   4802982    6       80        \n",
       "3  44.91 53.39  55.7    7.1          25203   6412700   29       44        \n",
       "4  38.86 58.72  53.1    5.8          20977   2926229    8       79        \n",
       "5  60.94 36.91  62.0    8.2          29020  37341989   37       35        \n",
       "6  53.66 44.71  70.8    5.4          29679   5044930   21       49        \n",
       "8  92.46  6.53  62.0    7.4          40846    601723   13       59        \n",
       "9  61.91 36.93  66.7    5.9          28935    900877   26       48        \n",
       "10 50.91 48.10  67.4    7.3          26503  18900773   27       49        \n",
       "11 46.90 52.10  61.8    7.2          25098   9727566    9       72        \n",
       "13 35.91 61.21  64.9    5.7          22262   1573499   10       59        \n",
       "14 61.85 36.74  63.8    6.9          28469  12864380   32       45        \n",
       "15 49.85 48.82  60.5    6.9          24044   6501582   19       59        \n",
       "16 53.93 44.39  70.0    4.7          25060   3053787   22       54        \n",
       "17 41.55 56.48  63.4    5.0          25522   2863813   21       61        \n",
       "18 41.15 57.37  58.9    7.4          22284   4350606   14       66        \n",
       "19 39.93 58.56  61.7    5.1          22535   4553962   31       57        \n",
       "20 57.71 40.38  72.2    6.0          24980   1333074   22       47        \n",
       "21 61.92 36.47  68.0    5.2          34236   5789929   27       49        \n",
       "22 61.80 35.99  66.4    6.0          33460   6559644   39       26        \n",
       "23 57.33 40.89  68.9    9.4          25172   9911626   20       55        \n",
       "24 54.06 43.82  78.0    5.9          29431   5314879   29       51        \n",
       "26 49.23 49.36  68.7    6.8          24423   6011478   18       61        \n",
       "27 47.11 49.49  67.5    5.1          22881    994416   12       58        \n",
       "28 41.60 56.53  64.2    3.5          24568   1831825   22       53        \n",
       "29 55.15 42.65  58.8    8.1          27395   2709432   23       41        \n",
       "30 54.13 44.52  71.9    4.3          30640   1321445   32       30        \n",
       "31 57.14 41.61  67.9    6.1          34556   8807501   42       30        \n",
       "32 56.91 41.78  62.0    5.2          22461   2067273   33       41        \n",
       "33 62.88 36.03  58.9    5.9          30634  19421055   37       34        \n",
       "34 49.70 49.38  66.8    7.3          24547   9565781    9       73        \n",
       "35 44.50 53.15  65.3    3.4          24978    675905   28       62        \n",
       "36 51.38 46.80  67.5    7.3          24830  11568495   20       56        \n",
       "37 34.35 65.65  56.8    4.1          22561   3764882    7       73        \n",
       "38 56.75 40.40  68.1    7.7          25893   3848606   14       52        \n",
       "40 62.86 35.06  62.4    8.7          28638   1055247   46       28        \n",
       "41 44.90 53.87  58.7    8.0          23196   4645975   10       73        \n",
       "42 44.75 53.16  65.0    3.5          23445    819761   19       59        \n",
       "43 41.79 56.85  57.4    7.4          23557   6375431    7       76        \n",
       "45 34.22 62.24  55.6    4.3          22684   2770765    7       71        \n",
       "46 67.46 30.45  67.6    4.9          27036    630337   26       29        \n",
       "47 52.63 46.33  68.0    4.5          31606   8037736   11       65        \n",
       "48 57.34 40.26  67.3    6.2          29320   6753369   16       48        \n",
       "49 42.51 55.60  52.0    4.6          20891   1859815    7       70        \n",
       "50 56.22 42.31  72.5    5.4          26447   5698230   29       47        \n",
       "51 32.54 64.78  64.9    3.5          26925    563626   13       54        \n",
       "   Other Non.religious Black Latino Urbanization\n",
       "1  1     11            26.2   3.9     94.4      \n",
       "3  5     17             4.1  16.3     56.3      \n",
       "4  1      8            14.4   6.4     56.0      \n",
       "5  5     18             6.2  37.6    239.1      \n",
       "6  4     21             4.0  20.7     48.5      \n",
       "8  6     18            50.7   9.1   9856.5      \n",
       "9  1     23            21.4   8.2    460.8      \n",
       "10 4     14            16.0  22.5    350.6      \n",
       "11 4      9            30.5   8.8    168.4      \n",
       "13 3     23             0.6  11.2     19.0      \n",
       "14 3     13            14.5  15.8    231.1      \n",
       "15 3     15             9.1   6.0    181.0      \n",
       "16 4     15             2.9   5.0     54.5      \n",
       "17 3     11             5.9  10.5     34.9      \n",
       "18 1     13             7.8   3.1    109.9      \n",
       "19 1      8            32.0   4.2    104.9      \n",
       "20 3     25             1.2   1.3     43.1      \n",
       "21 6     13            29.4   8.2    594.8      \n",
       "22 5     22             6.6   9.6    839.4      \n",
       "23 3     16            14.2   4.4    174.8      \n",
       "24 4     12             5.2   4.7     66.6      \n",
       "26 3     14            11.6   3.5     87.1      \n",
       "27 4     21             0.4   2.9      6.8      \n",
       "28 3     17             4.5   9.2     23.8      \n",
       "29 4     24             8.1  26.5     24.6      \n",
       "30 2     29             1.1   2.8    147.0      \n",
       "31 7     15            13.7  17.7   1195.5      \n",
       "32 3     16             2.1  46.3     17.0      \n",
       "33 8     14            15.9  17.6    411.2      \n",
       "34 2     10            21.5   8.4    196.1      \n",
       "35 0      7             1.2   2.0      9.7      \n",
       "36 3     17            12.2   3.1    282.3      \n",
       "37 2     11             7.4   8.9     54.7      \n",
       "38 3     24             1.8  11.7     39.9      \n",
       "40 2     19             5.7  12.4   1081.1      \n",
       "41 2     10            27.9   5.1    153.9      \n",
       "42 4     12             1.3   2.7     10.7      \n",
       "43 3      9            16.7   4.6    153.9      \n",
       "45 1     14             1.1  13.0     33.6      \n",
       "46 4     34             1.0   1.5     67.9      \n",
       "47 4     15            19.4   7.9    202.6      \n",
       "48 5     25             3.6  11.2    101.2      \n",
       "49 2     15             3.4   1.2     77.1      \n",
       "50 4     15             6.3   5.9    105.0      \n",
       "51 1     28             0.8   8.9      5.8      "
      ]
     },
     "metadata": {},
     "output_type": "display_data"
    }
   ],
   "source": [
    "df <- na.omit(obama_vs_mccain)\n",
    "df <- subset(df, select = -c(State, Region))\n",
    "df"
   ]
  },
  {
   "cell_type": "code",
   "execution_count": 51,
   "metadata": {},
   "outputs": [],
   "source": [
    "df$Win <- ifelse(df$Obama > df$McCain, 1, ifelse(df$Obama < df$McCain, 2, 0))   "
   ]
  },
  {
   "cell_type": "code",
   "execution_count": 52,
   "metadata": {},
   "outputs": [
    {
     "data": {
      "text/html": [
       "<ol class=list-inline>\n",
       "\t<li>31</li>\n",
       "\t<li>14</li>\n",
       "</ol>\n"
      ],
      "text/latex": [
       "\\begin{enumerate*}\n",
       "\\item 31\n",
       "\\item 14\n",
       "\\end{enumerate*}\n"
      ],
      "text/markdown": [
       "1. 31\n",
       "2. 14\n",
       "\n",
       "\n"
      ],
      "text/plain": [
       "[1] 31 14"
      ]
     },
     "metadata": {},
     "output_type": "display_data"
    },
    {
     "data": {
      "text/html": [
       "<ol class=list-inline>\n",
       "\t<li>14</li>\n",
       "\t<li>14</li>\n",
       "</ol>\n"
      ],
      "text/latex": [
       "\\begin{enumerate*}\n",
       "\\item 14\n",
       "\\item 14\n",
       "\\end{enumerate*}\n"
      ],
      "text/markdown": [
       "1. 14\n",
       "2. 14\n",
       "\n",
       "\n"
      ],
      "text/plain": [
       "[1] 14 14"
      ]
     },
     "metadata": {},
     "output_type": "display_data"
    }
   ],
   "source": [
    "set.seed(1)\n",
    "train_index <- sample(1:nrow(df), 0.7 * nrow(df))\n",
    "test_index <- setdiff(1:nrow(df), train_index)\n",
    "df_train = df[train_index,]\n",
    "df_test = df[test_index,]\n",
    "dim(df_train)\n",
    "dim(df_test)"
   ]
  },
  {
   "cell_type": "code",
   "execution_count": 53,
   "metadata": {},
   "outputs": [
    {
     "name": "stdout",
     "output_type": "stream",
     "text": [
      "Linear Regression \n",
      "\n",
      "31 samples\n",
      "13 predictors\n",
      "\n",
      "No pre-processing\n",
      "Resampling: Cross-Validated (10 fold) \n",
      "Summary of sample sizes: 28, 27, 28, 28, 28, 29, ... \n",
      "Resampling results:\n",
      "\n",
      "  RMSE      Rsquared   MAE     \n",
      "  10.53796  0.7113152  7.765407\n",
      "\n",
      "Tuning parameter 'intercept' was held constant at a value of TRUE\n"
     ]
    }
   ],
   "source": [
    "# Define training control\n",
    "set.seed(123) \n",
    "train.control <- trainControl(method = \"cv\", number = 10)\n",
    "# Train the model\n",
    "model <- train(Turnout ~., data = df_train, method = \"lm\",\n",
    "               trControl = train.control)\n",
    "# Summarize the results\n",
    "print(model)"
   ]
  },
  {
   "cell_type": "code",
   "execution_count": 54,
   "metadata": {},
   "outputs": [
    {
     "data": {
      "text/html": [
       "<dl class=dl-horizontal>\n",
       "\t<dt>10</dt>\n",
       "\t\t<dd>60.2118465627449</dd>\n",
       "\t<dt>14</dt>\n",
       "\t\t<dd>61.7855569535253</dd>\n",
       "\t<dt>16</dt>\n",
       "\t\t<dd>68.0919843363781</dd>\n",
       "\t<dt>19</dt>\n",
       "\t\t<dd>53.5647720581711</dd>\n",
       "\t<dt>22</dt>\n",
       "\t\t<dd>70.4322231924232</dd>\n",
       "\t<dt>23</dt>\n",
       "\t\t<dd>66.1496078230752</dd>\n",
       "\t<dt>26</dt>\n",
       "\t\t<dd>62.6563793139355</dd>\n",
       "\t<dt>28</dt>\n",
       "\t\t<dd>60.2594565893976</dd>\n",
       "\t<dt>31</dt>\n",
       "\t\t<dd>69.8788480421033</dd>\n",
       "\t<dt>32</dt>\n",
       "\t\t<dd>45.2474746449251</dd>\n",
       "\t<dt>33</dt>\n",
       "\t\t<dd>66.6014125814606</dd>\n",
       "\t<dt>35</dt>\n",
       "\t\t<dd>62.4925046328393</dd>\n",
       "\t<dt>48</dt>\n",
       "\t\t<dd>72.3519332837928</dd>\n",
       "\t<dt>51</dt>\n",
       "\t\t<dd>65.8604358218916</dd>\n",
       "</dl>\n"
      ],
      "text/latex": [
       "\\begin{description*}\n",
       "\\item[10] 60.2118465627449\n",
       "\\item[14] 61.7855569535253\n",
       "\\item[16] 68.0919843363781\n",
       "\\item[19] 53.5647720581711\n",
       "\\item[22] 70.4322231924232\n",
       "\\item[23] 66.1496078230752\n",
       "\\item[26] 62.6563793139355\n",
       "\\item[28] 60.2594565893976\n",
       "\\item[31] 69.8788480421033\n",
       "\\item[32] 45.2474746449251\n",
       "\\item[33] 66.6014125814606\n",
       "\\item[35] 62.4925046328393\n",
       "\\item[48] 72.3519332837928\n",
       "\\item[51] 65.8604358218916\n",
       "\\end{description*}\n"
      ],
      "text/markdown": [
       "10\n",
       ":   60.211846562744914\n",
       ":   61.785556953525316\n",
       ":   68.091984336378119\n",
       ":   53.564772058171122\n",
       ":   70.432223192423223\n",
       ":   66.149607823075226\n",
       ":   62.656379313935528\n",
       ":   60.259456589397631\n",
       ":   69.878848042103332\n",
       ":   45.247474644925133\n",
       ":   66.601412581460635\n",
       ":   62.492504632839348\n",
       ":   72.351933283792851\n",
       ":   65.8604358218916\n",
       "\n"
      ],
      "text/plain": [
       "      10       14       16       19       22       23       26       28 \n",
       "60.21185 61.78556 68.09198 53.56477 70.43222 66.14961 62.65638 60.25946 \n",
       "      31       32       33       35       48       51 \n",
       "69.87885 45.24747 66.60141 62.49250 72.35193 65.86044 "
      ]
     },
     "metadata": {},
     "output_type": "display_data"
    }
   ],
   "source": [
    "pred <- predict(model, df_test)\n",
    "pred"
   ]
  },
  {
   "cell_type": "code",
   "execution_count": 55,
   "metadata": {},
   "outputs": [
    {
     "name": "stderr",
     "output_type": "stream",
     "text": [
      "Warning message in train.default(x, y, weights = w, ...):\n",
      "“You are trying to do regression and your outcome only has two possible values Are you trying to do classification? If so, use a 2 level factor as your outcome column.”Warning message in nominalTrainWorkflow(x = x, y = y, wts = weights, info = trainInfo, :\n",
      "“There were missing values in resampled performance measures.”"
     ]
    },
    {
     "name": "stdout",
     "output_type": "stream",
     "text": [
      "Linear Regression \n",
      "\n",
      "31 samples\n",
      "13 predictors\n",
      "\n",
      "No pre-processing\n",
      "Resampling: Cross-Validated (10 fold) \n",
      "Summary of sample sizes: 27, 28, 28, 28, 28, 28, ... \n",
      "Resampling results:\n",
      "\n",
      "  RMSE       Rsquared   MAE      \n",
      "  0.5234413  0.7759974  0.4072074\n",
      "\n",
      "Tuning parameter 'intercept' was held constant at a value of TRUE\n"
     ]
    }
   ],
   "source": [
    "# Define training control\n",
    "set.seed(123) \n",
    "train.control <- trainControl(method = \"cv\", number = 10)\n",
    "# Train the model\n",
    "model <- train(Win ~., data = df_train, method = \"lm\",\n",
    "               trControl = train.control)\n",
    "# Summarize the results\n",
    "print(model)"
   ]
  },
  {
   "cell_type": "code",
   "execution_count": null,
   "metadata": {},
   "outputs": [],
   "source": []
  }
 ],
 "metadata": {
  "kernelspec": {
   "display_name": "R",
   "language": "R",
   "name": "ir"
  },
  "language_info": {
   "codemirror_mode": "r",
   "file_extension": ".r",
   "mimetype": "text/x-r-source",
   "name": "R",
   "pygments_lexer": "r",
   "version": "3.6.1"
  }
 },
 "nbformat": 4,
 "nbformat_minor": 4
}
