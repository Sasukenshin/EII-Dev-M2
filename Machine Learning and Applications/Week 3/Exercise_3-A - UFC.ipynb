{
 "cells": [
  {
   "cell_type": "markdown",
   "metadata": {
    "_uuid": "f4c5d0b42a79c143d4b1a0423b0c51265fd718fd"
   },
   "source": [
    "# Practice 1. Cross Validation"
   ]
  },
  {
   "cell_type": "markdown",
   "metadata": {},
   "source": [
    "Do together"
   ]
  },
  {
   "cell_type": "code",
   "execution_count": 1,
   "metadata": {
    "_kg_hide-input": true,
    "_uuid": "2041989e97107b61bb6659706ead46cc448c8e9e"
   },
   "outputs": [],
   "source": [
    "import gc\n",
    "import os\n",
    "import math\n",
    "import logging\n",
    "import datetime\n",
    "import warnings\n",
    "import numpy as np\n",
    "import pandas as pd\n",
    "import seaborn as sns\n",
    "import lightgbm as lgb\n",
    "import matplotlib.pyplot as plt\n",
    "from sklearn.metrics import mean_squared_error, r2_score\n",
    "from sklearn.metrics import roc_auc_score, roc_curve\n",
    "warnings.filterwarnings('ignore')\n",
    "\n",
    "from sklearn.preprocessing import StandardScaler\n",
    "from sklearn.model_selection import train_test_split\n",
    "\n",
    "import lightgbm as lgb\n",
    "import time\n",
    "import datetime\n",
    "from sklearn.preprocessing import LabelEncoder\n",
    "from sklearn.model_selection import StratifiedKFold, KFold, RepeatedKFold\n",
    "from sklearn.metrics import mean_absolute_error\n",
    "import seaborn as sns"
   ]
  },
  {
   "cell_type": "markdown",
   "metadata": {
    "_uuid": "13cdc14c0a53b11fd7438a87bff04335666a5482"
   },
   "source": [
    "## Quick Data Treatment"
   ]
  },
  {
   "cell_type": "code",
   "execution_count": 2,
   "metadata": {},
   "outputs": [
    {
     "data": {
      "text/html": [
       "<div>\n",
       "<style scoped>\n",
       "    .dataframe tbody tr th:only-of-type {\n",
       "        vertical-align: middle;\n",
       "    }\n",
       "\n",
       "    .dataframe tbody tr th {\n",
       "        vertical-align: top;\n",
       "    }\n",
       "\n",
       "    .dataframe thead th {\n",
       "        text-align: right;\n",
       "    }\n",
       "</style>\n",
       "<table border=\"1\" class=\"dataframe\">\n",
       "  <thead>\n",
       "    <tr style=\"text-align: right;\">\n",
       "      <th></th>\n",
       "      <th>R_fighter</th>\n",
       "      <th>B_fighter</th>\n",
       "      <th>Referee</th>\n",
       "      <th>date</th>\n",
       "      <th>location</th>\n",
       "      <th>Winner</th>\n",
       "      <th>title_bout</th>\n",
       "      <th>weight_class</th>\n",
       "      <th>no_of_rounds</th>\n",
       "      <th>B_current_lose_streak</th>\n",
       "      <th>...</th>\n",
       "      <th>R_win_by_KO/TKO</th>\n",
       "      <th>R_win_by_Submission</th>\n",
       "      <th>R_win_by_TKO_Doctor_Stoppage</th>\n",
       "      <th>R_wins</th>\n",
       "      <th>R_Stance</th>\n",
       "      <th>R_Height_cms</th>\n",
       "      <th>R_Reach_cms</th>\n",
       "      <th>R_Weight_lbs</th>\n",
       "      <th>B_age</th>\n",
       "      <th>R_age</th>\n",
       "    </tr>\n",
       "  </thead>\n",
       "  <tbody>\n",
       "    <tr>\n",
       "      <th>0</th>\n",
       "      <td>Henry Cejudo</td>\n",
       "      <td>Marlon Moraes</td>\n",
       "      <td>Marc Goddard</td>\n",
       "      <td>2019-06-08</td>\n",
       "      <td>Chicago, Illinois, USA</td>\n",
       "      <td>Red</td>\n",
       "      <td>True</td>\n",
       "      <td>Bantamweight</td>\n",
       "      <td>5</td>\n",
       "      <td>0.0</td>\n",
       "      <td>...</td>\n",
       "      <td>2.0</td>\n",
       "      <td>0.0</td>\n",
       "      <td>0.0</td>\n",
       "      <td>8.0</td>\n",
       "      <td>Orthodox</td>\n",
       "      <td>162.56</td>\n",
       "      <td>162.56</td>\n",
       "      <td>135.0</td>\n",
       "      <td>31.0</td>\n",
       "      <td>32.0</td>\n",
       "    </tr>\n",
       "    <tr>\n",
       "      <th>1</th>\n",
       "      <td>Valentina Shevchenko</td>\n",
       "      <td>Jessica Eye</td>\n",
       "      <td>Robert Madrigal</td>\n",
       "      <td>2019-06-08</td>\n",
       "      <td>Chicago, Illinois, USA</td>\n",
       "      <td>Red</td>\n",
       "      <td>True</td>\n",
       "      <td>Women's Flyweight</td>\n",
       "      <td>5</td>\n",
       "      <td>0.0</td>\n",
       "      <td>...</td>\n",
       "      <td>0.0</td>\n",
       "      <td>2.0</td>\n",
       "      <td>0.0</td>\n",
       "      <td>5.0</td>\n",
       "      <td>Southpaw</td>\n",
       "      <td>165.10</td>\n",
       "      <td>167.64</td>\n",
       "      <td>125.0</td>\n",
       "      <td>32.0</td>\n",
       "      <td>31.0</td>\n",
       "    </tr>\n",
       "    <tr>\n",
       "      <th>2</th>\n",
       "      <td>Tony Ferguson</td>\n",
       "      <td>Donald Cerrone</td>\n",
       "      <td>Dan Miragliotta</td>\n",
       "      <td>2019-06-08</td>\n",
       "      <td>Chicago, Illinois, USA</td>\n",
       "      <td>Red</td>\n",
       "      <td>False</td>\n",
       "      <td>Lightweight</td>\n",
       "      <td>3</td>\n",
       "      <td>0.0</td>\n",
       "      <td>...</td>\n",
       "      <td>3.0</td>\n",
       "      <td>6.0</td>\n",
       "      <td>1.0</td>\n",
       "      <td>14.0</td>\n",
       "      <td>Orthodox</td>\n",
       "      <td>180.34</td>\n",
       "      <td>193.04</td>\n",
       "      <td>155.0</td>\n",
       "      <td>36.0</td>\n",
       "      <td>35.0</td>\n",
       "    </tr>\n",
       "    <tr>\n",
       "      <th>3</th>\n",
       "      <td>Jimmie Rivera</td>\n",
       "      <td>Petr Yan</td>\n",
       "      <td>Kevin MacDonald</td>\n",
       "      <td>2019-06-08</td>\n",
       "      <td>Chicago, Illinois, USA</td>\n",
       "      <td>Blue</td>\n",
       "      <td>False</td>\n",
       "      <td>Bantamweight</td>\n",
       "      <td>3</td>\n",
       "      <td>0.0</td>\n",
       "      <td>...</td>\n",
       "      <td>1.0</td>\n",
       "      <td>0.0</td>\n",
       "      <td>0.0</td>\n",
       "      <td>6.0</td>\n",
       "      <td>Orthodox</td>\n",
       "      <td>162.56</td>\n",
       "      <td>172.72</td>\n",
       "      <td>135.0</td>\n",
       "      <td>26.0</td>\n",
       "      <td>29.0</td>\n",
       "    </tr>\n",
       "    <tr>\n",
       "      <th>4</th>\n",
       "      <td>Tai Tuivasa</td>\n",
       "      <td>Blagoy Ivanov</td>\n",
       "      <td>Dan Miragliotta</td>\n",
       "      <td>2019-06-08</td>\n",
       "      <td>Chicago, Illinois, USA</td>\n",
       "      <td>Blue</td>\n",
       "      <td>False</td>\n",
       "      <td>Heavyweight</td>\n",
       "      <td>3</td>\n",
       "      <td>0.0</td>\n",
       "      <td>...</td>\n",
       "      <td>2.0</td>\n",
       "      <td>0.0</td>\n",
       "      <td>0.0</td>\n",
       "      <td>3.0</td>\n",
       "      <td>Southpaw</td>\n",
       "      <td>187.96</td>\n",
       "      <td>190.50</td>\n",
       "      <td>264.0</td>\n",
       "      <td>32.0</td>\n",
       "      <td>26.0</td>\n",
       "    </tr>\n",
       "  </tbody>\n",
       "</table>\n",
       "<p>5 rows × 145 columns</p>\n",
       "</div>"
      ],
      "text/plain": [
       "              R_fighter       B_fighter          Referee        date  \\\n",
       "0          Henry Cejudo   Marlon Moraes     Marc Goddard  2019-06-08   \n",
       "1  Valentina Shevchenko     Jessica Eye  Robert Madrigal  2019-06-08   \n",
       "2         Tony Ferguson  Donald Cerrone  Dan Miragliotta  2019-06-08   \n",
       "3         Jimmie Rivera        Petr Yan  Kevin MacDonald  2019-06-08   \n",
       "4           Tai Tuivasa   Blagoy Ivanov  Dan Miragliotta  2019-06-08   \n",
       "\n",
       "                 location Winner  title_bout       weight_class  no_of_rounds  \\\n",
       "0  Chicago, Illinois, USA    Red        True       Bantamweight             5   \n",
       "1  Chicago, Illinois, USA    Red        True  Women's Flyweight             5   \n",
       "2  Chicago, Illinois, USA    Red       False        Lightweight             3   \n",
       "3  Chicago, Illinois, USA   Blue       False       Bantamweight             3   \n",
       "4  Chicago, Illinois, USA   Blue       False        Heavyweight             3   \n",
       "\n",
       "   B_current_lose_streak  ...  R_win_by_KO/TKO  R_win_by_Submission  \\\n",
       "0                    0.0  ...              2.0                  0.0   \n",
       "1                    0.0  ...              0.0                  2.0   \n",
       "2                    0.0  ...              3.0                  6.0   \n",
       "3                    0.0  ...              1.0                  0.0   \n",
       "4                    0.0  ...              2.0                  0.0   \n",
       "\n",
       "   R_win_by_TKO_Doctor_Stoppage  R_wins  R_Stance  R_Height_cms  R_Reach_cms  \\\n",
       "0                           0.0     8.0  Orthodox        162.56       162.56   \n",
       "1                           0.0     5.0  Southpaw        165.10       167.64   \n",
       "2                           1.0    14.0  Orthodox        180.34       193.04   \n",
       "3                           0.0     6.0  Orthodox        162.56       172.72   \n",
       "4                           0.0     3.0  Southpaw        187.96       190.50   \n",
       "\n",
       "   R_Weight_lbs  B_age  R_age  \n",
       "0         135.0   31.0   32.0  \n",
       "1         125.0   32.0   31.0  \n",
       "2         155.0   36.0   35.0  \n",
       "3         135.0   26.0   29.0  \n",
       "4         264.0   32.0   26.0  \n",
       "\n",
       "[5 rows x 145 columns]"
      ]
     },
     "execution_count": 2,
     "metadata": {},
     "output_type": "execute_result"
    }
   ],
   "source": [
    "df = pd.read_csv('data/ufc.csv')\n",
    "df.head()"
   ]
  },
  {
   "cell_type": "code",
   "execution_count": 3,
   "metadata": {},
   "outputs": [],
   "source": [
    "df = df[df.Winner != \"Draw\"]\n",
    "df['Winner'] = df.Winner.replace('Red',1).replace('Blue',0)\n",
    "df.fillna(value=0,inplace=True)"
   ]
  },
  {
   "cell_type": "code",
   "execution_count": 4,
   "metadata": {},
   "outputs": [],
   "source": [
    "y = df['Winner']\n",
    "X = df.copy()\n",
    "X = X.drop(columns = ['R_fighter',\n",
    "                     'B_fighter',\n",
    "                     'Referee',\n",
    "                     'date',\n",
    "                     'location',\n",
    "                     'Winner',\n",
    "                     'title_bout',\n",
    "                     'weight_class',\n",
    "                      'R_Stance',\n",
    "                      'B_Stance'\n",
    "                     ])"
   ]
  },
  {
   "cell_type": "code",
   "execution_count": 5,
   "metadata": {
    "scrolled": true
   },
   "outputs": [
    {
     "data": {
      "text/html": [
       "<div>\n",
       "<style scoped>\n",
       "    .dataframe tbody tr th:only-of-type {\n",
       "        vertical-align: middle;\n",
       "    }\n",
       "\n",
       "    .dataframe tbody tr th {\n",
       "        vertical-align: top;\n",
       "    }\n",
       "\n",
       "    .dataframe thead th {\n",
       "        text-align: right;\n",
       "    }\n",
       "</style>\n",
       "<table border=\"1\" class=\"dataframe\">\n",
       "  <thead>\n",
       "    <tr style=\"text-align: right;\">\n",
       "      <th></th>\n",
       "      <th>R_fighter</th>\n",
       "      <th>B_fighter</th>\n",
       "      <th>Referee</th>\n",
       "      <th>date</th>\n",
       "      <th>location</th>\n",
       "      <th>Winner</th>\n",
       "      <th>title_bout</th>\n",
       "      <th>weight_class</th>\n",
       "      <th>no_of_rounds</th>\n",
       "      <th>B_current_lose_streak</th>\n",
       "      <th>...</th>\n",
       "      <th>R_win_by_KO/TKO</th>\n",
       "      <th>R_win_by_Submission</th>\n",
       "      <th>R_win_by_TKO_Doctor_Stoppage</th>\n",
       "      <th>R_wins</th>\n",
       "      <th>R_Stance</th>\n",
       "      <th>R_Height_cms</th>\n",
       "      <th>R_Reach_cms</th>\n",
       "      <th>R_Weight_lbs</th>\n",
       "      <th>B_age</th>\n",
       "      <th>R_age</th>\n",
       "    </tr>\n",
       "  </thead>\n",
       "  <tbody>\n",
       "    <tr>\n",
       "      <th>0</th>\n",
       "      <td>Henry Cejudo</td>\n",
       "      <td>Marlon Moraes</td>\n",
       "      <td>Marc Goddard</td>\n",
       "      <td>2019-06-08</td>\n",
       "      <td>Chicago, Illinois, USA</td>\n",
       "      <td>1</td>\n",
       "      <td>True</td>\n",
       "      <td>Bantamweight</td>\n",
       "      <td>5</td>\n",
       "      <td>0.0</td>\n",
       "      <td>...</td>\n",
       "      <td>2.0</td>\n",
       "      <td>0.0</td>\n",
       "      <td>0.0</td>\n",
       "      <td>8.0</td>\n",
       "      <td>Orthodox</td>\n",
       "      <td>162.56</td>\n",
       "      <td>162.56</td>\n",
       "      <td>135.0</td>\n",
       "      <td>31.0</td>\n",
       "      <td>32.0</td>\n",
       "    </tr>\n",
       "    <tr>\n",
       "      <th>1</th>\n",
       "      <td>Valentina Shevchenko</td>\n",
       "      <td>Jessica Eye</td>\n",
       "      <td>Robert Madrigal</td>\n",
       "      <td>2019-06-08</td>\n",
       "      <td>Chicago, Illinois, USA</td>\n",
       "      <td>1</td>\n",
       "      <td>True</td>\n",
       "      <td>Women's Flyweight</td>\n",
       "      <td>5</td>\n",
       "      <td>0.0</td>\n",
       "      <td>...</td>\n",
       "      <td>0.0</td>\n",
       "      <td>2.0</td>\n",
       "      <td>0.0</td>\n",
       "      <td>5.0</td>\n",
       "      <td>Southpaw</td>\n",
       "      <td>165.10</td>\n",
       "      <td>167.64</td>\n",
       "      <td>125.0</td>\n",
       "      <td>32.0</td>\n",
       "      <td>31.0</td>\n",
       "    </tr>\n",
       "    <tr>\n",
       "      <th>2</th>\n",
       "      <td>Tony Ferguson</td>\n",
       "      <td>Donald Cerrone</td>\n",
       "      <td>Dan Miragliotta</td>\n",
       "      <td>2019-06-08</td>\n",
       "      <td>Chicago, Illinois, USA</td>\n",
       "      <td>1</td>\n",
       "      <td>False</td>\n",
       "      <td>Lightweight</td>\n",
       "      <td>3</td>\n",
       "      <td>0.0</td>\n",
       "      <td>...</td>\n",
       "      <td>3.0</td>\n",
       "      <td>6.0</td>\n",
       "      <td>1.0</td>\n",
       "      <td>14.0</td>\n",
       "      <td>Orthodox</td>\n",
       "      <td>180.34</td>\n",
       "      <td>193.04</td>\n",
       "      <td>155.0</td>\n",
       "      <td>36.0</td>\n",
       "      <td>35.0</td>\n",
       "    </tr>\n",
       "    <tr>\n",
       "      <th>3</th>\n",
       "      <td>Jimmie Rivera</td>\n",
       "      <td>Petr Yan</td>\n",
       "      <td>Kevin MacDonald</td>\n",
       "      <td>2019-06-08</td>\n",
       "      <td>Chicago, Illinois, USA</td>\n",
       "      <td>0</td>\n",
       "      <td>False</td>\n",
       "      <td>Bantamweight</td>\n",
       "      <td>3</td>\n",
       "      <td>0.0</td>\n",
       "      <td>...</td>\n",
       "      <td>1.0</td>\n",
       "      <td>0.0</td>\n",
       "      <td>0.0</td>\n",
       "      <td>6.0</td>\n",
       "      <td>Orthodox</td>\n",
       "      <td>162.56</td>\n",
       "      <td>172.72</td>\n",
       "      <td>135.0</td>\n",
       "      <td>26.0</td>\n",
       "      <td>29.0</td>\n",
       "    </tr>\n",
       "    <tr>\n",
       "      <th>4</th>\n",
       "      <td>Tai Tuivasa</td>\n",
       "      <td>Blagoy Ivanov</td>\n",
       "      <td>Dan Miragliotta</td>\n",
       "      <td>2019-06-08</td>\n",
       "      <td>Chicago, Illinois, USA</td>\n",
       "      <td>0</td>\n",
       "      <td>False</td>\n",
       "      <td>Heavyweight</td>\n",
       "      <td>3</td>\n",
       "      <td>0.0</td>\n",
       "      <td>...</td>\n",
       "      <td>2.0</td>\n",
       "      <td>0.0</td>\n",
       "      <td>0.0</td>\n",
       "      <td>3.0</td>\n",
       "      <td>Southpaw</td>\n",
       "      <td>187.96</td>\n",
       "      <td>190.50</td>\n",
       "      <td>264.0</td>\n",
       "      <td>32.0</td>\n",
       "      <td>26.0</td>\n",
       "    </tr>\n",
       "  </tbody>\n",
       "</table>\n",
       "<p>5 rows × 145 columns</p>\n",
       "</div>"
      ],
      "text/plain": [
       "              R_fighter       B_fighter          Referee        date  \\\n",
       "0          Henry Cejudo   Marlon Moraes     Marc Goddard  2019-06-08   \n",
       "1  Valentina Shevchenko     Jessica Eye  Robert Madrigal  2019-06-08   \n",
       "2         Tony Ferguson  Donald Cerrone  Dan Miragliotta  2019-06-08   \n",
       "3         Jimmie Rivera        Petr Yan  Kevin MacDonald  2019-06-08   \n",
       "4           Tai Tuivasa   Blagoy Ivanov  Dan Miragliotta  2019-06-08   \n",
       "\n",
       "                 location  Winner  title_bout       weight_class  \\\n",
       "0  Chicago, Illinois, USA       1        True       Bantamweight   \n",
       "1  Chicago, Illinois, USA       1        True  Women's Flyweight   \n",
       "2  Chicago, Illinois, USA       1       False        Lightweight   \n",
       "3  Chicago, Illinois, USA       0       False       Bantamweight   \n",
       "4  Chicago, Illinois, USA       0       False        Heavyweight   \n",
       "\n",
       "   no_of_rounds  B_current_lose_streak  ...  R_win_by_KO/TKO  \\\n",
       "0             5                    0.0  ...              2.0   \n",
       "1             5                    0.0  ...              0.0   \n",
       "2             3                    0.0  ...              3.0   \n",
       "3             3                    0.0  ...              1.0   \n",
       "4             3                    0.0  ...              2.0   \n",
       "\n",
       "   R_win_by_Submission  R_win_by_TKO_Doctor_Stoppage  R_wins  R_Stance  \\\n",
       "0                  0.0                           0.0     8.0  Orthodox   \n",
       "1                  2.0                           0.0     5.0  Southpaw   \n",
       "2                  6.0                           1.0    14.0  Orthodox   \n",
       "3                  0.0                           0.0     6.0  Orthodox   \n",
       "4                  0.0                           0.0     3.0  Southpaw   \n",
       "\n",
       "   R_Height_cms  R_Reach_cms  R_Weight_lbs  B_age  R_age  \n",
       "0        162.56       162.56         135.0   31.0   32.0  \n",
       "1        165.10       167.64         125.0   32.0   31.0  \n",
       "2        180.34       193.04         155.0   36.0   35.0  \n",
       "3        162.56       172.72         135.0   26.0   29.0  \n",
       "4        187.96       190.50         264.0   32.0   26.0  \n",
       "\n",
       "[5 rows x 145 columns]"
      ]
     },
     "execution_count": 5,
     "metadata": {},
     "output_type": "execute_result"
    }
   ],
   "source": [
    "df.head()"
   ]
  },
  {
   "cell_type": "markdown",
   "metadata": {},
   "source": [
    "### Data cleaning"
   ]
  },
  {
   "cell_type": "code",
   "execution_count": null,
   "metadata": {},
   "outputs": [],
   "source": []
  },
  {
   "cell_type": "markdown",
   "metadata": {},
   "source": [
    "## Split Data and normalize"
   ]
  },
  {
   "cell_type": "code",
   "execution_count": null,
   "metadata": {},
   "outputs": [],
   "source": []
  },
  {
   "cell_type": "markdown",
   "metadata": {},
   "source": [
    "Normalize the data X (optional)"
   ]
  },
  {
   "cell_type": "code",
   "execution_count": 6,
   "metadata": {},
   "outputs": [],
   "source": [
    "scaler = StandardScaler()\n",
    "scaler.fit(X)\n",
    "X_scaled = pd.DataFrame(scaler.transform(X), columns=X.columns)"
   ]
  },
  {
   "cell_type": "code",
   "execution_count": 7,
   "metadata": {},
   "outputs": [],
   "source": [
    "X_scaled_train, X_scaled_test, y_train, y_test = train_test_split(X_scaled, y, test_size=0.2, random_state=20)"
   ]
  },
  {
   "cell_type": "code",
   "execution_count": 8,
   "metadata": {},
   "outputs": [
    {
     "data": {
      "text/plain": [
       "((4048, 135), (1013, 135))"
      ]
     },
     "execution_count": 8,
     "metadata": {},
     "output_type": "execute_result"
    }
   ],
   "source": [
    "X_scaled_train.shape, X_scaled_test.shape"
   ]
  },
  {
   "cell_type": "markdown",
   "metadata": {},
   "source": [
    "## Train with Train/test split"
   ]
  },
  {
   "cell_type": "markdown",
   "metadata": {},
   "source": [
    "This function is to show which featuree is important"
   ]
  },
  {
   "cell_type": "code",
   "execution_count": 9,
   "metadata": {},
   "outputs": [],
   "source": [
    "params = {\n",
    "          'n_estimators': 5000,\n",
    "          'num_leaves': 6,\n",
    "          'min_data_in_leaf': 2,\n",
    "          'max_depth': -1,\n",
    "          'learning_rate': 0.02,\n",
    "          \"boosting\": \"gbdt\",\n",
    "          \"bagging_freq\": 10,\n",
    "          'num_threads': 8,\n",
    "          \"bagging_fraction\": 0.7,\n",
    "          \"bagging_seed\": 11,\n",
    "          \"metric\": 'binary_logloss',\n",
    "         }"
   ]
  },
  {
   "cell_type": "code",
   "execution_count": 10,
   "metadata": {},
   "outputs": [],
   "source": [
    "def plot_feature_importance(feature_importance,title):\n",
    "    fe = feature_importance[[\"feature\", \"importance\"]].groupby(\"feature\").mean().sort_values(\n",
    "        by=\"importance\", ascending=False)\n",
    "    fe['feature'] = fe.index\n",
    "    plt.figure(figsize=(16, 12))\n",
    "    sns.barplot(x=\"importance\", y=\"feature\", data=fe[:50])\n",
    "    plt.xticks([])\n",
    "    plt.title(title)\n",
    "    return"
   ]
  },
  {
   "cell_type": "code",
   "execution_count": 11,
   "metadata": {},
   "outputs": [],
   "source": [
    "def train_lgb(X_train, X_valid, y_train, y_valid, params=None):\n",
    "\n",
    "    model = lgb.LGBMClassifier(**params)\n",
    "    model.fit(X_train, y_train, \n",
    "            eval_set=[(X_train, y_train), (X_valid, y_valid)], eval_metric=['auc', 'binary_logloss'],\n",
    "            verbose=0, early_stopping_rounds=50)\n",
    "\n",
    "    y_pred_train = model.predict(X_train)\n",
    "    y_pred_valid = model.predict(X_valid)\n",
    "    \n",
    "    print('Train AUC:',roc_auc_score(y_train, y_pred_train))\n",
    "    print('Valid AUC:',roc_auc_score(y_valid, y_pred_valid))\n",
    "        \n",
    "    importance = pd.DataFrame()\n",
    "    importance[\"feature\"] = X.columns\n",
    "    importance[\"importance\"] = model.feature_importances_\n",
    "    return y_pred_train, y_pred_valid, importance, model"
   ]
  },
  {
   "cell_type": "code",
   "execution_count": 12,
   "metadata": {},
   "outputs": [
    {
     "name": "stdout",
     "output_type": "stream",
     "text": [
      "Train AUC: 0.6141219454756235\n",
      "Valid AUC: 0.5719684850423932\n"
     ]
    }
   ],
   "source": [
    "y_pred_train, y_pred_valid, importance, _ = train_lgb(X_scaled_train, X_scaled_test, y_train, y_test, params)"
   ]
  },
  {
   "cell_type": "markdown",
   "metadata": {},
   "source": [
    "## Train with Cross-Validation"
   ]
  },
  {
   "cell_type": "code",
   "execution_count": 13,
   "metadata": {},
   "outputs": [],
   "source": [
    "n_fold = 5\n",
    "folds = KFold(n_splits=n_fold, shuffle=True, random_state=100)\n",
    "# Shuffle sould be true\n",
    "# But if time series, for example, don't shuffle\n",
    "# Kfold: split into k fold randomly\n",
    "# StratifiedFold : idem, butnumber of each classes are well distributed between folds\n",
    "\n",
    "# When data is unbalanced --> always Stratfold"
   ]
  },
  {
   "cell_type": "code",
   "execution_count": 14,
   "metadata": {},
   "outputs": [],
   "source": [
    "def train_fold_lgb(X, y, params=None,folds=folds):\n",
    "    oof = np.zeros(len(X))\n",
    "    all_importance = pd.DataFrame()\n",
    "    for fold_n, (train_index, valid_index) in enumerate(folds.split(X)):\n",
    "        print('Train Fold', fold_n, 'started at', time.ctime())\n",
    "        X_train, X_valid = X.iloc[train_index], X.iloc[valid_index]\n",
    "        y_train, y_valid = y.iloc[train_index], y.iloc[valid_index]\n",
    "        print('Fold sizes: ', X_train.shape, X_valid.shape)\n",
    "        \n",
    "        y_pred_train, y_pred_valid, fold_importance, lgb_model = train_lgb(X_train, X_valid, y_train, y_valid, params)\n",
    "\n",
    "        # Save model in file\n",
    "        filename = f\"lgb_{fold_n}.txt\"\n",
    "        lgb_model.booster_.save_model(filename)\n",
    "        \n",
    "        print(\"Model saved in \", filename)\n",
    "        \n",
    "        # Add Fold prediction to Out-Of-Fold Prediction\n",
    "        oof[valid_index] = y_pred_valid.reshape(-1,)\n",
    "        \n",
    "        # Add Fold importance to overal importance\n",
    "        fold_importance[\"fold\"] = fold_n + 1\n",
    "        all_importance = pd.concat([all_importance, fold_importance], axis=0)\n",
    "        print('====================================')\n",
    "    print('Final result of Out-Of-Fold:')\n",
    "    print('OOF AUC:',roc_auc_score(y, oof))\n",
    "        \n",
    "    return oof, all_importance"
   ]
  },
  {
   "cell_type": "code",
   "execution_count": 15,
   "metadata": {},
   "outputs": [
    {
     "name": "stdout",
     "output_type": "stream",
     "text": [
      "Train Fold 0 started at Thu Apr 16 10:36:15 2020\n",
      "Fold sizes:  (3238, 135) (810, 135)\n",
      "Train AUC: 0.5498996285923718\n",
      "Valid AUC: 0.5355682833641756\n",
      "Model saved in  lgb_0.txt\n",
      "====================================\n",
      "Train Fold 1 started at Thu Apr 16 10:36:16 2020\n",
      "Fold sizes:  (3238, 135) (810, 135)\n",
      "Train AUC: 0.5803248677134945\n",
      "Valid AUC: 0.5370895068553737\n",
      "Model saved in  lgb_1.txt\n",
      "====================================\n",
      "Train Fold 2 started at Thu Apr 16 10:36:17 2020\n",
      "Fold sizes:  (3238, 135) (810, 135)\n",
      "Train AUC: 0.5100891166215331\n",
      "Valid AUC: 0.5032149684295893\n",
      "Model saved in  lgb_2.txt\n",
      "====================================\n",
      "Train Fold 3 started at Thu Apr 16 10:36:19 2020\n",
      "Fold sizes:  (3239, 135) (809, 135)\n",
      "Train AUC: 0.6307909674485996\n",
      "Valid AUC: 0.5441933845930654\n",
      "Model saved in  lgb_3.txt\n",
      "====================================\n",
      "Train Fold 4 started at Thu Apr 16 10:36:20 2020\n",
      "Fold sizes:  (3239, 135) (809, 135)\n",
      "Train AUC: 0.6377830844551939\n",
      "Valid AUC: 0.5701352296905567\n",
      "Model saved in  lgb_4.txt\n",
      "====================================\n",
      "Final result of Out-Of-Fold:\n",
      "OOF AUC: 0.5380726931010041\n"
     ]
    }
   ],
   "source": [
    "oof, feature_importance = train_fold_lgb(X_scaled_train, y_train, params=params)"
   ]
  },
  {
   "cell_type": "markdown",
   "metadata": {},
   "source": [
    "Plot the feature importance"
   ]
  },
  {
   "cell_type": "code",
   "execution_count": 16,
   "metadata": {
    "scrolled": true
   },
   "outputs": [
    {
     "data": {
      "image/png": "[encoded data removed]",
      "text/plain": [
       "<Figure size 1152x864 with 1 Axes>"
      ]
     },
     "metadata": {
      "needs_background": "light"
     },
     "output_type": "display_data"
    }
   ],
   "source": [
    "plot_feature_importance(feature_importance, title = 'Importance UFC')"
   ]
  },
  {
   "cell_type": "code",
   "execution_count": 17,
   "metadata": {},
   "outputs": [],
   "source": [
    "# Ordering important features\n",
    "feature_importance = feature_importance.sort_values(by=['importance'], ascending=False)"
   ]
  },
  {
   "cell_type": "code",
   "execution_count": 25,
   "metadata": {},
   "outputs": [],
   "source": [
    "# Get important columns\n",
    "important_columns = feature_importance[\"feature\"].unique()[:10]\n",
    "# important_columns = np.append(important_columns, \"Winner\")"
   ]
  },
  {
   "cell_type": "code",
   "execution_count": 26,
   "metadata": {},
   "outputs": [],
   "source": [
    "# Create dataset for 3B\n",
    "small_df_for_the_exercise_3B = df[important_columns].head(1000)\n",
    "small_df_for_the_exercise_3B.to_csv('small_ufc.csv', index=False)"
   ]
  },
  {
   "cell_type": "markdown",
   "metadata": {},
   "source": [
    "## Other models"
   ]
  },
  {
   "cell_type": "markdown",
   "metadata": {},
   "source": [
    "#### Neural network"
   ]
  },
  {
   "cell_type": "raw",
   "metadata": {},
   "source": []
  },
  {
   "cell_type": "raw",
   "metadata": {},
   "source": [
    "Exercise: \n",
    "    - Write a function for neural network, similar to train_gbm \n",
    "    - Write a function for Cross-validatio nneural network, similar to train_fold_gbm \n",
    "   \n",
    "Note: \n",
    "    - Train_nn function should be a normal NN architecture that we usually use\n",
    "\n",
    "\n",
    "Note: \n",
    "    - Train_nn function should be a normal NN architecture that we usually use in DL course\n",
    "    - train_fold_nn should be the same as train_fold_gbm except you don't need to write the Fold importance part (because NN does not have fold importance)"
   ]
  },
  {
   "cell_type": "code",
   "execution_count": 17,
   "metadata": {},
   "outputs": [
    {
     "name": "stderr",
     "output_type": "stream",
     "text": [
      "Using TensorFlow backend.\n"
     ]
    }
   ],
   "source": [
    "from keras.models import Sequential\n",
    "from keras.layers import Dense, Dropout, BatchNormalization\n"
   ]
  },
  {
   "cell_type": "markdown",
   "metadata": {},
   "source": []
  },
  {
   "cell_type": "code",
   "execution_count": 18,
   "metadata": {},
   "outputs": [],
   "source": [
    "def train_nn(X_train, X_valid, y_train, y_valid):\n",
    "    \n",
    "    \n",
    "    # Create a model\n",
    "    model = Sequential()\n",
    "    model.add(Dense(20, input_dim=X_train.shape[1], activation='relu'))\n",
    "    model.add(BatchNormalization())\n",
    "    model.add(Dropout(0.2))\n",
    "    model.add(Dense(1, activation='sigmoid'))\n",
    "\n",
    "    model.compile(loss='binary_crossentropy',\n",
    "              optimizer='adam',\n",
    "              metrics=['accuracy'],\n",
    "             )\n",
    "    \n",
    "    # Train model and predict on valid\n",
    "\n",
    "    model.fit(X_train, y_train,\n",
    "              epochs=200,\n",
    "              batch_size=32,\n",
    "              verbose=0)\n",
    "\n",
    "    y_pred_train = model.predict(X_train)\n",
    "    y_pred_valid = model.predict(X_valid)\n",
    "    \n",
    "    # Print acc\n",
    "    print('Train AUC:',roc_auc_score(y_train, y_pred_train))\n",
    "    print('Valid AUC:',roc_auc_score(y_valid, y_pred_valid))\n",
    "        \n",
    "    return y_pred_train, y_pred_valid, model"
   ]
  },
  {
   "cell_type": "code",
   "execution_count": 19,
   "metadata": {
    "scrolled": true
   },
   "outputs": [
    {
     "name": "stdout",
     "output_type": "stream",
     "text": [
      "Train AUC: 0.94954367718147\n",
      "Valid AUC: 0.6795757123304715\n"
     ]
    }
   ],
   "source": [
    "_, _, _ = train_nn(X_scaled_train, X_scaled_test, y_train, y_test)"
   ]
  },
  {
   "cell_type": "code",
   "execution_count": null,
   "metadata": {},
   "outputs": [],
   "source": []
  },
  {
   "cell_type": "code",
   "execution_count": 20,
   "metadata": {},
   "outputs": [],
   "source": [
    "def train_fold_nn(X, y, folds=folds):\n",
    "    oof = np.zeros(len(X))\n",
    "    \n",
    "    for fold_n, (train_index, valid_index) in enumerate(folds.split(X)):\n",
    "        print('Train Fold', fold_n, 'started at', time.ctime())\n",
    "        X_train, X_valid = X.iloc[train_index], X.iloc[valid_index]\n",
    "        y_train, y_valid = y.iloc[train_index], y.iloc[valid_index]\n",
    "        print('Fold sizes: ', X_train.shape, X_valid.shape)\n",
    "        \n",
    "        y_pred_train, y_pred_valid, nn_model = train_nn(X_train, X_valid, y_train, y_valid)\n",
    "        \n",
    "        # Save model in file\n",
    "        \n",
    "        filename = f\"nn_{fold_n}.txt\"\n",
    "        nn_model.save(filename)\n",
    "        print('Model saved in ', filename)\n",
    "        \n",
    "        # Add Fold prediction to Out-Of-Fold Prediction\n",
    "        oof[valid_index] = y_pred_valid.reshape(-1,)\n",
    "        \n",
    "        print('====================================')\n",
    "    print('Final result of Out-Of-Fold:')\n",
    "    print('OOF AUC:',roc_auc_score(y, oof))\n",
    "        \n",
    "    return oof"
   ]
  },
  {
   "cell_type": "code",
   "execution_count": 21,
   "metadata": {
    "scrolled": true
   },
   "outputs": [
    {
     "name": "stdout",
     "output_type": "stream",
     "text": [
      "Train Fold 0 started at Wed Apr 15 09:05:13 2020\n",
      "Fold sizes:  (3238, 135) (810, 135)\n",
      "Train AUC: 0.9708065137812951\n",
      "Valid AUC: 0.6966247071157675\n",
      "Model saved in  nn_0.txt\n",
      "====================================\n",
      "Train Fold 1 started at Wed Apr 15 09:05:41 2020\n",
      "Fold sizes:  (3238, 135) (810, 135)\n",
      "Train AUC: 0.9672452074130599\n",
      "Valid AUC: 0.6874170720919947\n",
      "Model saved in  nn_1.txt\n",
      "====================================\n",
      "Train Fold 2 started at Wed Apr 15 09:06:08 2020\n",
      "Fold sizes:  (3238, 135) (810, 135)\n",
      "Train AUC: 0.9502522168533956\n",
      "Valid AUC: 0.6926881190986502\n",
      "Model saved in  nn_2.txt\n",
      "====================================\n",
      "Train Fold 3 started at Wed Apr 15 09:06:35 2020\n",
      "Fold sizes:  (3239, 135) (809, 135)\n",
      "Train AUC: 0.9700633973439812\n",
      "Valid AUC: 0.6816625562164514\n",
      "Model saved in  nn_3.txt\n",
      "====================================\n",
      "Train Fold 4 started at Wed Apr 15 09:07:01 2020\n",
      "Fold sizes:  (3239, 135) (809, 135)\n",
      "Train AUC: 0.9597342162602751\n",
      "Valid AUC: 0.6679304288223451\n",
      "Model saved in  nn_4.txt\n",
      "====================================\n",
      "Final result of Out-Of-Fold:\n",
      "OOF AUC: 0.6839317427071969\n"
     ]
    }
   ],
   "source": [
    "oof = train_fold_nn(X_scaled_train, y_train)"
   ]
  },
  {
   "cell_type": "raw",
   "metadata": {},
   "source": [
    "Question: Modify the train_lgb, train_nn (maybe you need to modify the train_fold function, too) so that you can save the models (or weights of the model into a file in your computer). The result should be saving 5 different models"
   ]
  },
  {
   "cell_type": "code",
   "execution_count": null,
   "metadata": {},
   "outputs": [],
   "source": []
  },
  {
   "cell_type": "code",
   "execution_count": 22,
   "metadata": {},
   "outputs": [
    {
     "name": "stdout",
     "output_type": "stream",
     "text": [
      "Test fold :  0\n",
      "Test AUC :  0.6992481203007519\n",
      "Test fold :  1\n",
      "Test AUC :  0.6958664391475141\n",
      "Test fold :  2\n",
      "Test AUC :  0.7012233598179847\n",
      "Test fold :  3\n",
      "Test AUC :  0.710284132316607\n",
      "Test fold :  4\n",
      "Test AUC :  0.710637409125651\n"
     ]
    }
   ],
   "source": [
    "test_pred = []\n",
    "for i in range (n_fold):\n",
    "    print(\"Test fold : \", i)\n",
    "    model = lgb.Booster(model_file = \"lgb_\" + str(i) + \".txt\")\n",
    "    y_pred_test = model.predict(X_scaled_test)\n",
    "    print(\"Test AUC : \", roc_auc_score(y_test, y_pred_test))\n",
    "    test_pred.append(y_pred_test)"
   ]
  },
  {
   "cell_type": "code",
   "execution_count": 23,
   "metadata": {},
   "outputs": [],
   "source": [
    "z = np.array(test_pred)"
   ]
  },
  {
   "cell_type": "code",
   "execution_count": 24,
   "metadata": {},
   "outputs": [],
   "source": [
    "final_test = np.mean(z, axis = 0)"
   ]
  },
  {
   "cell_type": "code",
   "execution_count": null,
   "metadata": {},
   "outputs": [],
   "source": []
  },
  {
   "cell_type": "code",
   "execution_count": 25,
   "metadata": {},
   "outputs": [
    {
     "name": "stdout",
     "output_type": "stream",
     "text": [
      "Final test AUC:  0.7116261398176292\n"
     ]
    }
   ],
   "source": [
    "print(\"Final test AUC: \", roc_auc_score(y_test, final_test))"
   ]
  },
  {
   "cell_type": "code",
   "execution_count": null,
   "metadata": {},
   "outputs": [],
   "source": []
  },
  {
   "cell_type": "raw",
   "metadata": {},
   "source": [
    "Do the same with nn"
   ]
  },
  {
   "cell_type": "code",
   "execution_count": 26,
   "metadata": {},
   "outputs": [],
   "source": [
    "from keras.models import load_model"
   ]
  },
  {
   "cell_type": "code",
   "execution_count": 27,
   "metadata": {},
   "outputs": [
    {
     "name": "stdout",
     "output_type": "stream",
     "text": [
      "Test fold :  0\n",
      "Test AUC :  0.6464387920154997\n",
      "Test fold :  1\n",
      "Test AUC :  0.6716036545263869\n",
      "Test fold :  2\n",
      "Test AUC :  0.6673687765513072\n",
      "Test fold :  3\n",
      "Test AUC :  0.6898451803267033\n",
      "Test fold :  4\n",
      "Test AUC :  0.6987593096215716\n"
     ]
    }
   ],
   "source": [
    "test_pred = []\n",
    "for i in range (n_fold):\n",
    "    print(\"Test fold : \", i)\n",
    "    model = load_model(\"nn_\" + str(i) + \".txt\")\n",
    "    y_pred_test = model.predict(X_scaled_test)\n",
    "    print(\"Test AUC : \", roc_auc_score(y_test, y_pred_test))\n",
    "    test_pred.append(y_pred_test)"
   ]
  },
  {
   "cell_type": "code",
   "execution_count": 28,
   "metadata": {},
   "outputs": [],
   "source": [
    "z = np.array(test_pred)"
   ]
  },
  {
   "cell_type": "code",
   "execution_count": 29,
   "metadata": {},
   "outputs": [],
   "source": [
    "final_test = np.mean(z, axis = 0)"
   ]
  },
  {
   "cell_type": "code",
   "execution_count": 30,
   "metadata": {},
   "outputs": [
    {
     "name": "stdout",
     "output_type": "stream",
     "text": [
      "Final test AUC:  0.7072735029062016\n"
     ]
    }
   ],
   "source": [
    "print(\"Final test AUC: \", roc_auc_score(y_test, final_test))"
   ]
  },
  {
   "cell_type": "markdown",
   "metadata": {},
   "source": [
    "### Sklearn models"
   ]
  },
  {
   "cell_type": "raw",
   "metadata": {},
   "source": [
    "Exercise (now a bit, then continue at home) \n",
    "    - Do the same, for several different models in sklearn: linear model, logistc regression, svm.... \n",
    "    - Each of them you need only 1,2 lines for eg. the train_svm function \n",
    "    The train_fold function, you can make on"
   ]
  },
  {
   "cell_type": "code",
   "execution_count": null,
   "metadata": {},
   "outputs": [],
   "source": []
  },
  {
   "cell_type": "markdown",
   "metadata": {},
   "source": [
    "#### Linear model"
   ]
  },
  {
   "cell_type": "code",
   "execution_count": 31,
   "metadata": {},
   "outputs": [],
   "source": [
    "from sklearn.linear_model import LinearRegression\n",
    "from sklearn.externals import joblib"
   ]
  },
  {
   "cell_type": "code",
   "execution_count": 32,
   "metadata": {},
   "outputs": [],
   "source": [
    "def train_linear(X_train, X_valid, y_train, y_valid):\n",
    "    \n",
    "    \n",
    "    # Create a model\n",
    "    model = LinearRegression()\n",
    "    \n",
    "    # Train model and predict on valid\n",
    "\n",
    "    model.fit(X_train, y_train,)\n",
    "\n",
    "    y_pred_train = model.predict(X_train)\n",
    "    y_pred_valid = model.predict(X_valid)\n",
    "    \n",
    "    # Print acc\n",
    "    print('Train AUC:',roc_auc_score(y_train, y_pred_train))\n",
    "    print('Valid AUC:',roc_auc_score(y_valid, y_pred_valid))\n",
    "        \n",
    "    return y_pred_train, y_pred_valid, model"
   ]
  },
  {
   "cell_type": "code",
   "execution_count": 33,
   "metadata": {},
   "outputs": [
    {
     "name": "stdout",
     "output_type": "stream",
     "text": [
      "Train AUC: 0.7649095602531562\n",
      "Valid AUC: 0.7128770507829858\n"
     ]
    }
   ],
   "source": [
    "_, _, _ = train_linear(X_scaled_train, X_scaled_test, y_train, y_test)"
   ]
  },
  {
   "cell_type": "code",
   "execution_count": 34,
   "metadata": {},
   "outputs": [],
   "source": [
    "def train_fold_linear(X, y, folds=folds):\n",
    "    oof = np.zeros(len(X))\n",
    "    \n",
    "    for fold_n, (train_index, valid_index) in enumerate(folds.split(X)):\n",
    "        print('Train Fold', fold_n, 'started at', time.ctime())\n",
    "        X_train, X_valid = X.iloc[train_index], X.iloc[valid_index]\n",
    "        y_train, y_valid = y.iloc[train_index], y.iloc[valid_index]\n",
    "        print('Fold sizes: ', X_train.shape, X_valid.shape)\n",
    "        \n",
    "        y_pred_train, y_pred_valid, linear_model = train_linear(X_train, X_valid, y_train, y_valid)\n",
    "        \n",
    "        # Save model in file\n",
    "        filename = f\"linear_{fold_n}.txt\"\n",
    "        joblib.dump(linear_model, filename) \n",
    "        print(\"Model saved in \", filename)\n",
    "        \n",
    "        # Add Fold prediction to Out-Of-Fold Prediction\n",
    "        oof[valid_index] = y_pred_valid.reshape(-1,)\n",
    "        \n",
    "        print('====================================')\n",
    "    print('Final result of Out-Of-Fold:')\n",
    "    print('OOF AUC:',roc_auc_score(y, oof))\n",
    "        \n",
    "    return oof"
   ]
  },
  {
   "cell_type": "code",
   "execution_count": 35,
   "metadata": {},
   "outputs": [
    {
     "name": "stdout",
     "output_type": "stream",
     "text": [
      "Train Fold 0 started at Wed Apr 15 09:07:38 2020\n",
      "Fold sizes:  (3238, 135) (810, 135)\n",
      "Train AUC: 0.7657859381997313\n",
      "Valid AUC: 0.7275349877920927\n",
      "Model saved in  linear_0.txt\n",
      "====================================\n",
      "Train Fold 1 started at Wed Apr 15 09:07:38 2020\n",
      "Fold sizes:  (3238, 135) (810, 135)\n",
      "Train AUC: 0.7689468847737068\n",
      "Valid AUC: 0.7293716828836798\n",
      "Model saved in  linear_1.txt\n",
      "====================================\n",
      "Train Fold 2 started at Wed Apr 15 09:07:38 2020\n",
      "Fold sizes:  (3238, 135) (810, 135)\n",
      "Train AUC: 0.7734570523372095\n",
      "Valid AUC: 0.7083212651335227\n",
      "Model saved in  linear_2.txt\n",
      "====================================\n",
      "Train Fold 3 started at Wed Apr 15 09:07:38 2020\n",
      "Fold sizes:  (3239, 135) (809, 135)\n",
      "Train AUC: 0.7740981999824854\n",
      "Valid AUC: 0.7054620629624255\n",
      "Model saved in  linear_3.txt\n",
      "====================================\n",
      "Train Fold 4 started at Wed Apr 15 09:07:38 2020\n",
      "Fold sizes:  (3239, 135) (809, 135)\n",
      "Train AUC: 0.7641899607015823\n",
      "Valid AUC: 0.7425637949992145\n",
      "Model saved in  linear_4.txt\n",
      "====================================\n",
      "Final result of Out-Of-Fold:\n",
      "OOF AUC: 0.7226479351705324\n"
     ]
    }
   ],
   "source": [
    "oof = train_fold_linear(X_scaled_train, y_train)"
   ]
  },
  {
   "cell_type": "code",
   "execution_count": 36,
   "metadata": {},
   "outputs": [
    {
     "name": "stdout",
     "output_type": "stream",
     "text": [
      "Test fold :  0\n",
      "Test AUC :  0.6915382427700457\n",
      "Test fold :  1\n",
      "Test AUC :  0.7146367692280345\n",
      "Test fold :  2\n",
      "Test AUC :  0.7186094669297357\n",
      "Test fold :  3\n",
      "Test AUC :  0.708633285341012\n",
      "Test fold :  4\n",
      "Test AUC :  0.7108418208642172\n"
     ]
    }
   ],
   "source": [
    "test_pred = []\n",
    "for i in range (n_fold):\n",
    "    print(\"Test fold : \", i)\n",
    "    model = joblib.load(\"linear_\" + str(i) + \".txt\")\n",
    "    y_pred_test = model.predict(X_scaled_test)\n",
    "    print(\"Test AUC : \", roc_auc_score(y_test, y_pred_test))\n",
    "    test_pred.append(y_pred_test)"
   ]
  },
  {
   "cell_type": "code",
   "execution_count": 37,
   "metadata": {},
   "outputs": [
    {
     "name": "stdout",
     "output_type": "stream",
     "text": [
      "Final test AUC:  0.712841500915409\n"
     ]
    }
   ],
   "source": [
    "z = np.array(test_pred)\n",
    "final_test = np.mean(z, axis = 0)\n",
    "print(\"Final test AUC: \", roc_auc_score(y_test, final_test))"
   ]
  },
  {
   "cell_type": "markdown",
   "metadata": {},
   "source": [
    "#### SVM"
   ]
  },
  {
   "cell_type": "code",
   "execution_count": 38,
   "metadata": {},
   "outputs": [],
   "source": [
    "from sklearn.svm import SVC"
   ]
  },
  {
   "cell_type": "code",
   "execution_count": 39,
   "metadata": {},
   "outputs": [],
   "source": [
    "def train_svc(X_train, X_valid, y_train, y_valid):\n",
    "    \n",
    "    \n",
    "    # Create a model\n",
    "    model = SVC()\n",
    "    \n",
    "    # Train model and predict on valid\n",
    "\n",
    "    model.fit(X_train, y_train,)\n",
    "\n",
    "    y_pred_train = model.predict(X_train)\n",
    "    y_pred_valid = model.predict(X_valid)\n",
    "    \n",
    "    # Print acc\n",
    "    print('Train AUC:',roc_auc_score(y_train, y_pred_train))\n",
    "    print('Valid AUC:',roc_auc_score(y_valid, y_pred_valid))\n",
    "        \n",
    "    return y_pred_train, y_pred_valid, model"
   ]
  },
  {
   "cell_type": "code",
   "execution_count": 40,
   "metadata": {},
   "outputs": [
    {
     "name": "stdout",
     "output_type": "stream",
     "text": [
      "Train AUC: 0.6755491858204311\n",
      "Valid AUC: 0.5642541637782399\n"
     ]
    }
   ],
   "source": [
    "_, _, _ = train_svc(X_scaled_train, X_scaled_test, y_train, y_test)"
   ]
  },
  {
   "cell_type": "code",
   "execution_count": 41,
   "metadata": {},
   "outputs": [],
   "source": [
    "def train_fold_svc(X, y, folds=folds):\n",
    "    oof = np.zeros(len(X))\n",
    "    \n",
    "    for fold_n, (train_index, valid_index) in enumerate(folds.split(X)):\n",
    "        print('Train Fold', fold_n, 'started at', time.ctime())\n",
    "        X_train, X_valid = X.iloc[train_index], X.iloc[valid_index]\n",
    "        y_train, y_valid = y.iloc[train_index], y.iloc[valid_index]\n",
    "        print('Fold sizes: ', X_train.shape, X_valid.shape)\n",
    "        \n",
    "        y_pred_train, y_pred_valid, linear_model = train_svc(X_train, X_valid, y_train, y_valid)\n",
    "        \n",
    "        # Save model in file\n",
    "        filename = f\"svc_{fold_n}.txt\"\n",
    "        joblib.dump(linear_model, filename) \n",
    "        print(\"Model saved in \", filename)\n",
    "        \n",
    "        # Add Fold prediction to Out-Of-Fold Prediction\n",
    "        oof[valid_index] = y_pred_valid.reshape(-1,)\n",
    "        \n",
    "        print('====================================')\n",
    "    print('Final result of Out-Of-Fold:')\n",
    "    print('OOF AUC:',roc_auc_score(y, oof))\n",
    "        \n",
    "    return oof"
   ]
  },
  {
   "cell_type": "code",
   "execution_count": 44,
   "metadata": {},
   "outputs": [
    {
     "name": "stdout",
     "output_type": "stream",
     "text": [
      "Train Fold 0 started at Wed Apr 15 09:12:09 2020\n",
      "Fold sizes:  (3238, 135) (810, 135)\n",
      "Train AUC: 0.6589542212805208\n",
      "Valid AUC: 0.5509143617058703\n",
      "Model saved in  svc_0.txt\n",
      "====================================\n",
      "Train Fold 1 started at Wed Apr 15 09:12:13 2020\n",
      "Fold sizes:  (3238, 135) (810, 135)\n",
      "Train AUC: 0.6752612591310827\n",
      "Valid AUC: 0.549452675807165\n",
      "Model saved in  svc_1.txt\n",
      "====================================\n",
      "Train Fold 2 started at Wed Apr 15 09:12:17 2020\n",
      "Fold sizes:  (3238, 135) (810, 135)\n",
      "Train AUC: 0.6816421529584594\n",
      "Valid AUC: 0.5449371488153856\n",
      "Model saved in  svc_2.txt\n",
      "====================================\n",
      "Train Fold 3 started at Wed Apr 15 09:12:21 2020\n",
      "Fold sizes:  (3239, 135) (809, 135)\n",
      "Train AUC: 0.6931274873085895\n",
      "Valid AUC: 0.5603547076744523\n",
      "Model saved in  svc_3.txt\n",
      "====================================\n",
      "Train Fold 4 started at Wed Apr 15 09:12:26 2020\n",
      "Fold sizes:  (3239, 135) (809, 135)\n",
      "Train AUC: 0.669243572053906\n",
      "Valid AUC: 0.5381591911922203\n",
      "Model saved in  svc_4.txt\n",
      "====================================\n",
      "Final result of Out-Of-Fold:\n",
      "OOF AUC: 0.5486414413020502\n"
     ]
    }
   ],
   "source": [
    "oof = train_fold_svc(X_scaled_train, y_train)"
   ]
  },
  {
   "cell_type": "code",
   "execution_count": 45,
   "metadata": {},
   "outputs": [
    {
     "name": "stdout",
     "output_type": "stream",
     "text": [
      "Test fold :  0\n",
      "Test AUC :  0.5391492916688885\n",
      "Test fold :  1\n",
      "Test AUC :  0.5603103503439449\n",
      "Test fold :  2\n",
      "Test AUC :  0.5666204518388169\n",
      "Test fold :  3\n",
      "Test AUC :  0.5694866599121918\n",
      "Test fold :  4\n",
      "Test AUC :  0.555866616896852\n"
     ]
    }
   ],
   "source": [
    "test_pred = []\n",
    "for i in range (n_fold):\n",
    "    print(\"Test fold : \", i)\n",
    "    model = joblib.load(\"svc_\" + str(i) + \".txt\")\n",
    "    y_pred_test = model.predict(X_scaled_test)\n",
    "    print(\"Test AUC : \", roc_auc_score(y_test, y_pred_test))\n",
    "    test_pred.append(y_pred_test)"
   ]
  },
  {
   "cell_type": "code",
   "execution_count": 46,
   "metadata": {},
   "outputs": [
    {
     "name": "stdout",
     "output_type": "stream",
     "text": [
      "Final test AUC:  0.589341260953803\n"
     ]
    }
   ],
   "source": [
    "z = np.array(test_pred)\n",
    "final_test = np.mean(z, axis = 0)\n",
    "print(\"Final test AUC: \", roc_auc_score(y_test, final_test))"
   ]
  },
  {
   "cell_type": "code",
   "execution_count": null,
   "metadata": {},
   "outputs": [],
   "source": []
  }
 ],
 "metadata": {
  "kernelspec": {
   "display_name": "Python 3",
   "language": "python",
   "name": "python3"
  },
  "language_info": {
   "codemirror_mode": {
    "name": "ipython",
    "version": 3
   },
   "file_extension": ".py",
   "mimetype": "text/x-python",
   "name": "python",
   "nbconvert_exporter": "python",
   "pygments_lexer": "ipython3",
   "version": "3.7.3"
  }
 },
 "nbformat": 4,
 "nbformat_minor": 2
}
